{
 "cells": [
  {
   "cell_type": "markdown",
   "id": "e2918f5c",
   "metadata": {},
   "source": [
    "# **Corpora Analysis**"
   ]
  },
  {
   "cell_type": "code",
   "execution_count": 74,
   "id": "f936d0a8",
   "metadata": {},
   "outputs": [
    {
     "name": "stdout",
     "output_type": "stream",
     "text": [
      "The watermark extension is already loaded. To reload it, use:\n",
      "  %reload_ext watermark\n",
      "Author: Navin Kumar M 20BAI1094\n",
      "\n",
      "Python implementation: CPython\n",
      "Python version       : 3.8.10\n",
      "IPython version      : 7.34.0\n",
      "\n",
      "nltk: 3.8.1\n",
      "\n"
     ]
    }
   ],
   "source": [
    "%load_ext watermark\n",
    "%watermark -a 'Navin Kumar M 20BAI1094' -v -p nltk"
   ]
  },
  {
   "cell_type": "code",
   "execution_count": 73,
   "id": "ffd729f0",
   "metadata": {},
   "outputs": [
    {
     "name": "stderr",
     "output_type": "stream",
     "text": [
      "[nltk_data] Downloading package brown to /root/nltk_data...\n",
      "[nltk_data]   Package brown is already up-to-date!\n",
      "[nltk_data] Downloading package punkt to /root/nltk_data...\n",
      "[nltk_data]   Package punkt is already up-to-date!\n",
      "[nltk_data] Downloading package gutenberg to /root/nltk_data...\n",
      "[nltk_data]   Package gutenberg is already up-to-date!\n",
      "[nltk_data] Downloading package treebank to /root/nltk_data...\n",
      "[nltk_data]   Package treebank is already up-to-date!\n",
      "[nltk_data] Downloading package wordnet to /root/nltk_data...\n",
      "[nltk_data]   Package wordnet is already up-to-date!\n",
      "[nltk_data] Downloading package averaged_perceptron_tagger to\n",
      "[nltk_data]     /root/nltk_data...\n",
      "[nltk_data]   Package averaged_perceptron_tagger is already up-to-\n",
      "[nltk_data]       date!\n",
      "[nltk_data] Downloading package stopwords to /root/nltk_data...\n",
      "[nltk_data]   Package stopwords is already up-to-date!\n"
     ]
    }
   ],
   "source": [
    "import nltk\n",
    "\n",
    "nltk.download('brown')\n",
    "nltk.download('punkt')\n",
    "nltk.download('gutenberg')\n",
    "nltk.download('treebank')\n",
    "nltk.download('wordnet')\n",
    "nltk.download('averaged_perceptron_tagger') \n",
    "nltk.download('stopwords')\n",
    "\n",
    "from nltk.corpus import (brown, gutenberg, treebank, stopwords)\n",
    "from nltk.tokenize import word_tokenize, sent_tokenize\n",
    "from nltk.stem import (PorterStemmer, WordNetLemmatizer)\n",
    "from nltk import FreqDist\n"
   ]
  },
  {
   "cell_type": "markdown",
   "id": "e4c4d184",
   "metadata": {},
   "source": [
    "## **Brown Corpora**"
   ]
  },
  {
   "cell_type": "code",
   "execution_count": 31,
   "id": "f63cf328",
   "metadata": {},
   "outputs": [
    {
     "name": "stdout",
     "output_type": "stream",
     "text": [
      "corpora_size = 1161192\n",
      "corpora_token_size = 1439319\n",
      "brown.raw()[0:10] = '\\n\\n\\tThe/at '\n",
      "corpora_para_size = 15667\n",
      "brown.categories() = ['adventure', 'belles_lettres', 'editorial', 'fiction', 'government', 'hobbies', 'humor', 'learned', 'lore', 'mystery', 'news', 'religion', 'reviews', 'romance', 'science_fiction']\n"
     ]
    }
   ],
   "source": [
    "corpora_size = len(brown.words())\n",
    "corpora_token_size = len(nltk.word_tokenize(brown.raw()))  # brown.raw() -> raw string\n",
    "corpora_para_size = len(brown.paras())\n",
    "\n",
    "print(f\"{corpora_size = }\")\n",
    "print(f\"{corpora_token_size = }\")\n",
    "print(f\"{brown.raw()[0:10] = }\")\n",
    "print(f\"{corpora_para_size = }\")\n",
    "print(f\"{brown.categories() = }\")"
   ]
  },
  {
   "cell_type": "markdown",
   "id": "d19ed776",
   "metadata": {},
   "source": [
    "## **Gutenberg Corpora**"
   ]
  },
  {
   "cell_type": "code",
   "execution_count": 36,
   "id": "76a7ea27",
   "metadata": {},
   "outputs": [
    {
     "name": "stdout",
     "output_type": "stream",
     "text": [
      "Number of words :  2621613\n",
      "Number of sentences :  98552\n",
      "Number of paragraphs :  47887\n"
     ]
    }
   ],
   "source": [
    "print(\"Number of words : \", len(gutenberg.words()))\n",
    "print(\"Number of sentences : \", len(gutenberg.sents()))\n",
    "print(\"Number of paragraphs : \", len(gutenberg.paras()))"
   ]
  },
  {
   "cell_type": "code",
   "execution_count": 40,
   "id": "f814a674",
   "metadata": {},
   "outputs": [
    {
     "name": "stdout",
     "output_type": "stream",
     "text": [
      "Avg.Word.Len  Avg.Sent.Len  Avg.Wrd.Freq  FileName \n",
      "5 \t\t 25 \t\t 26 \t austen-emma.txt\n",
      "5 \t\t 26 \t\t 17 \t austen-persuasion.txt\n",
      "5 \t\t 28 \t\t 22 \t austen-sense.txt\n",
      "4 \t\t 34 \t\t 79 \t bible-kjv.txt\n",
      "5 \t\t 19 \t\t 5 \t blake-poems.txt\n",
      "4 \t\t 19 \t\t 14 \t bryant-stories.txt\n",
      "4 \t\t 18 \t\t 12 \t burgess-busterbrown.txt\n",
      "4 \t\t 20 \t\t 13 \t carroll-alice.txt\n",
      "5 \t\t 20 \t\t 12 \t chesterton-ball.txt\n",
      "5 \t\t 23 \t\t 11 \t chesterton-brown.txt\n",
      "5 \t\t 18 \t\t 11 \t chesterton-thursday.txt\n",
      "4 \t\t 21 \t\t 25 \t edgeworth-parents.txt\n",
      "5 \t\t 26 \t\t 15 \t melville-moby_dick.txt\n",
      "5 \t\t 52 \t\t 11 \t milton-paradise.txt\n",
      "4 \t\t 12 \t\t 9 \t shakespeare-caesar.txt\n",
      "4 \t\t 12 \t\t 8 \t shakespeare-hamlet.txt\n",
      "4 \t\t 12 \t\t 7 \t shakespeare-macbeth.txt\n",
      "5 \t\t 36 \t\t 12 \t whitman-leaves.txt\n"
     ]
    }
   ],
   "source": [
    "print(\"Avg.Word.Len \",\"Avg.Sent.Len \",\"Avg.Wrd.Freq \",\"FileName \")\n",
    "for fileid in gutenberg.fileids(): \n",
    "    num_chars = len(gutenberg.raw(fileid))\n",
    "    num_words = len(gutenberg.words(fileid))\n",
    "    num_sents = len(gutenberg.sents(fileid))\n",
    "    num_vocab = len(set(w.lower() for w in gutenberg.words(fileid)))\n",
    "    print(round(num_chars/num_words),\"\\t\\t\", round(num_words/num_sents), \"\\t\\t\", round(num_words/num_vocab), \"\\t\", fileid)"
   ]
  },
  {
   "cell_type": "markdown",
   "id": "b3839e4d",
   "metadata": {},
   "source": [
    "## **Treebank Corpora**"
   ]
  },
  {
   "cell_type": "code",
   "execution_count": 45,
   "id": "0aceb230",
   "metadata": {},
   "outputs": [
    {
     "name": "stdout",
     "output_type": "stream",
     "text": [
      "[[('Pierre', 'NNP'), ('Vinken', 'NNP'), (',', ','), ('61', 'CD'), ('years', 'NNS'), ('old', 'JJ'), (',', ','), ('will', 'MD'), ('join', 'VB'), ('the', 'DT'), ('board', 'NN'), ('as', 'IN'), ('a', 'DT'), ('nonexecutive', 'JJ'), ('director', 'NN'), ('Nov.', 'NNP'), ('29', 'CD'), ('.', '.')], [('Mr.', 'NNP'), ('Vinken', 'NNP'), ('is', 'VBZ'), ('chairman', 'NN'), ('of', 'IN'), ('Elsevier', 'NNP'), ('N.V.', 'NNP'), (',', ','), ('the', 'DT'), ('Dutch', 'NNP'), ('publishing', 'VBG'), ('group', 'NN'), ('.', '.')], ...]\n",
      "[('Pierre', 'NNP'), ('Vinken', 'NNP'), (',', ','), ...]\n"
     ]
    }
   ],
   "source": [
    "print(f\"{treebank.tagged_sents()}\")\n",
    "print(f\"{treebank.tagged_words()}\")"
   ]
  },
  {
   "cell_type": "code",
   "execution_count": 46,
   "id": "4ec5d33b",
   "metadata": {},
   "outputs": [
    {
     "name": "stdout",
     "output_type": "stream",
     "text": [
      "Most Frequent Tokens :  [(',', 4885), ('the', 4045), ('.', 3828), ('of', 2319), ('to', 2164), ('a', 1878), ('in', 1572), ('and', 1511), ('*-1', 1123), ('0', 1099)]\n"
     ]
    }
   ],
   "source": [
    "fdist = nltk.FreqDist(treebank.words())\n",
    "top_tokens = fdist.most_common(10)\n",
    "print(\"Most Frequent Tokens : \", top_tokens)"
   ]
  },
  {
   "cell_type": "markdown",
   "id": "fe16f942",
   "metadata": {},
   "source": [
    "## **Word Segmentation**"
   ]
  },
  {
   "cell_type": "markdown",
   "id": "eb70e754",
   "metadata": {},
   "source": [
    "### **Tokenization**"
   ]
  },
  {
   "cell_type": "code",
   "execution_count": 48,
   "id": "ee166121",
   "metadata": {},
   "outputs": [
    {
     "data": {
      "text/plain": [
       "['Automatic',\n",
       " 'Multiple',\n",
       " 'Choice',\n",
       " 'Question',\n",
       " '(',\n",
       " 'MCQ',\n",
       " ')',\n",
       " 'generation',\n",
       " 'from',\n",
       " 'a',\n",
       " 'text',\n",
       " 'is',\n",
       " 'a',\n",
       " 'popular',\n",
       " 'research',\n",
       " 'area',\n",
       " '.',\n",
       " 'MCQs',\n",
       " 'are',\n",
       " 'widely',\n",
       " 'accepted',\n",
       " 'for',\n",
       " 'large-scale',\n",
       " 'assessment',\n",
       " 'in',\n",
       " 'various',\n",
       " 'domains',\n",
       " 'and',\n",
       " 'applications',\n",
       " '.',\n",
       " 'However',\n",
       " ',',\n",
       " 'manual',\n",
       " 'generation',\n",
       " 'of',\n",
       " 'MCQs',\n",
       " 'is',\n",
       " 'expensive',\n",
       " 'and',\n",
       " 'time-consuming',\n",
       " '.',\n",
       " 'Therefore',\n",
       " ',',\n",
       " 'researchers',\n",
       " 'were',\n",
       " 'attracted',\n",
       " 'towards',\n",
       " 'automatic',\n",
       " 'MCQ',\n",
       " 'generation',\n",
       " 'since',\n",
       " 'the',\n",
       " 'late',\n",
       " '90',\n",
       " '’',\n",
       " 's',\n",
       " '.',\n",
       " 'Since',\n",
       " 'then',\n",
       " ',',\n",
       " 'many',\n",
       " 'systems',\n",
       " 'have',\n",
       " 'been',\n",
       " 'developed',\n",
       " 'for',\n",
       " 'MCQ',\n",
       " 'generation',\n",
       " '.',\n",
       " 'After',\n",
       " 'key',\n",
       " 'selection',\n",
       " ',',\n",
       " 'the',\n",
       " 'next',\n",
       " 'task',\n",
       " 'becomes',\n",
       " 'a',\n",
       " 'transformation',\n",
       " 'of',\n",
       " 'the',\n",
       " 'declarative',\n",
       " 'sentence',\n",
       " 'into',\n",
       " 'the',\n",
       " 'interrogative',\n",
       " 'form',\n",
       " '.',\n",
       " 'However',\n",
       " ',',\n",
       " 'in',\n",
       " 'the',\n",
       " 'literature',\n",
       " ',',\n",
       " 'we',\n",
       " 'found',\n",
       " 'that',\n",
       " 'this',\n",
       " 'step',\n",
       " 'has',\n",
       " 'been',\n",
       " 'ignored',\n",
       " 'in',\n",
       " 'many',\n",
       " 'MCQ',\n",
       " 'systems',\n",
       " '.',\n",
       " 'If',\n",
       " 'the',\n",
       " 'transformation',\n",
       " 'is',\n",
       " 'not',\n",
       " 'done',\n",
       " ',',\n",
       " 'then',\n",
       " 'the',\n",
       " 'sentence',\n",
       " 'remains',\n",
       " 'in',\n",
       " 'its',\n",
       " 'original',\n",
       " 'form',\n",
       " ',',\n",
       " 'and',\n",
       " 'a',\n",
       " 'blank',\n",
       " 'replaces',\n",
       " 'the',\n",
       " 'key',\n",
       " '.',\n",
       " 'As',\n",
       " 'a',\n",
       " 'result',\n",
       " ',',\n",
       " 'it',\n",
       " 'becomes',\n",
       " 'a',\n",
       " 'fillin-the-blank',\n",
       " 'type',\n",
       " 'question',\n",
       " 'with',\n",
       " 'distractors',\n",
       " '.',\n",
       " 'However',\n",
       " ',',\n",
       " 'we',\n",
       " 'found',\n",
       " 'several',\n",
       " 'works',\n",
       " 'containing',\n",
       " 'the',\n",
       " 'transformation',\n",
       " 'from',\n",
       " 'the',\n",
       " 'declarative',\n",
       " 'to',\n",
       " 'an',\n",
       " 'interrogative',\n",
       " 'sentence',\n",
       " '.']"
      ]
     },
     "execution_count": 48,
     "metadata": {},
     "output_type": "execute_result"
    }
   ],
   "source": [
    "text = \"Automatic Multiple Choice Question (MCQ) generation from a text is a popular research area. MCQs are widely accepted for large-scale assessment in various domains and applications. However, manual generation of MCQs is expensive and time-consuming. Therefore, researchers were attracted towards automatic MCQ generation since the late 90’s. Since then, many systems have been developed for MCQ generation. After key selection, the next task becomes a transformation of the declarative sentence into the interrogative form. However, in the literature, we found that this step has been ignored in many MCQ systems. If the transformation is not done, then the sentence remains in its original form, and a blank replaces the key. As a result, it becomes a fillin-the-blank type question with distractors. However, we found several works containing the transformation from the declarative to an interrogative sentence.\"\n",
    "tokens = word_tokenize(text)\n",
    "tokens"
   ]
  },
  {
   "cell_type": "code",
   "execution_count": 49,
   "id": "9016ecf0",
   "metadata": {},
   "outputs": [
    {
     "data": {
      "text/plain": [
       "['Automatic Multiple Choice Question (MCQ) generation from a text is a popular research area.',\n",
       " 'MCQs are widely accepted for large-scale assessment in various domains and applications.',\n",
       " 'However, manual generation of MCQs is expensive and time-consuming.',\n",
       " 'Therefore, researchers were attracted towards automatic MCQ generation since the late 90’s.',\n",
       " 'Since then, many systems have been developed for MCQ generation.',\n",
       " 'After key selection, the next task becomes a transformation of the declarative sentence into the interrogative form.',\n",
       " 'However, in the literature, we found that this step has been ignored in many MCQ systems.',\n",
       " 'If the transformation is not done, then the sentence remains in its original form, and a blank replaces the key.',\n",
       " 'As a result, it becomes a fillin-the-blank type question with distractors.',\n",
       " 'However, we found several works containing the transformation from the declarative to an interrogative sentence.']"
      ]
     },
     "execution_count": 49,
     "metadata": {},
     "output_type": "execute_result"
    }
   ],
   "source": [
    "sent_tokenizer = nltk.data.load('tokenizers/punkt/english.pickle')\n",
    "sents = sent_tokenizer.tokenize(text)\n",
    "sents"
   ]
  },
  {
   "cell_type": "markdown",
   "id": "f1887dfa",
   "metadata": {},
   "source": [
    "### **Stemming**"
   ]
  },
  {
   "cell_type": "code",
   "execution_count": 50,
   "id": "f7003adf",
   "metadata": {},
   "outputs": [
    {
     "name": "stdout",
     "output_type": "stream",
     "text": [
      "['automat', 'multipl', 'choic', 'question', '(', 'mcq', ')', 'gener', 'from', 'a', 'text', 'is', 'a', 'popular', 'research', 'area', '.', 'mcq', 'are', 'wide', 'accept', 'for', 'large-scal', 'assess', 'in', 'variou', 'domain', 'and', 'applic', '.', 'howev', ',', 'manual', 'gener', 'of', 'mcq', 'is', 'expens', 'and', 'time-consum', '.', 'therefor', ',', 'research', 'were', 'attract', 'toward', 'automat', 'mcq', 'gener', 'sinc', 'the', 'late', '90', '’', 's', '.', 'sinc', 'then', ',', 'mani', 'system', 'have', 'been', 'develop', 'for', 'mcq', 'gener', '.', 'after', 'key', 'select', ',', 'the', 'next', 'task', 'becom', 'a', 'transform', 'of', 'the', 'declar', 'sentenc', 'into', 'the', 'interrog', 'form', '.', 'howev', ',', 'in', 'the', 'literatur', ',', 'we', 'found', 'that', 'thi', 'step', 'ha', 'been', 'ignor', 'in', 'mani', 'mcq', 'system', '.', 'if', 'the', 'transform', 'is', 'not', 'done', ',', 'then', 'the', 'sentenc', 'remain', 'in', 'it', 'origin', 'form', ',', 'and', 'a', 'blank', 'replac', 'the', 'key', '.', 'as', 'a', 'result', ',', 'it', 'becom', 'a', 'fillin-the-blank', 'type', 'question', 'with', 'distractor', '.', 'howev', ',', 'we', 'found', 'sever', 'work', 'contain', 'the', 'transform', 'from', 'the', 'declar', 'to', 'an', 'interrog', 'sentenc', '.']\n"
     ]
    }
   ],
   "source": [
    "# Stemming using NLTK\n",
    "ps = PorterStemmer()\n",
    "stemmed_words = [ps.stem(word) for word in tokens]\n",
    "print(stemmed_words)"
   ]
  },
  {
   "cell_type": "markdown",
   "id": "28185db5",
   "metadata": {},
   "source": [
    "### **Lemmatization**"
   ]
  },
  {
   "cell_type": "code",
   "execution_count": 53,
   "id": "8e183152",
   "metadata": {},
   "outputs": [
    {
     "data": {
      "text/plain": [
       "['Automatic',\n",
       " 'Multiple',\n",
       " 'Choice',\n",
       " 'Question',\n",
       " '(',\n",
       " 'MCQ',\n",
       " ')',\n",
       " 'generation',\n",
       " 'from',\n",
       " 'a']"
      ]
     },
     "execution_count": 53,
     "metadata": {},
     "output_type": "execute_result"
    }
   ],
   "source": [
    "lemmatizer = WordNetLemmatizer()\n",
    "lemmatized_words = [lemmatizer.lemmatize(word) for word in tokens]\n",
    "lemmatized_words[:10]"
   ]
  },
  {
   "cell_type": "markdown",
   "id": "a75f87d9",
   "metadata": {},
   "source": [
    "### **POS Tagging**"
   ]
  },
  {
   "cell_type": "code",
   "execution_count": 60,
   "id": "70bae36a",
   "metadata": {},
   "outputs": [
    {
     "data": {
      "text/plain": [
       "{'a',\n",
       " 'about',\n",
       " 'above',\n",
       " 'after',\n",
       " 'again',\n",
       " 'against',\n",
       " 'ain',\n",
       " 'all',\n",
       " 'am',\n",
       " 'an',\n",
       " 'and',\n",
       " 'any',\n",
       " 'are',\n",
       " 'aren',\n",
       " \"aren't\",\n",
       " 'as',\n",
       " 'at',\n",
       " 'be',\n",
       " 'because',\n",
       " 'been',\n",
       " 'before',\n",
       " 'being',\n",
       " 'below',\n",
       " 'between',\n",
       " 'both',\n",
       " 'but',\n",
       " 'by',\n",
       " 'can',\n",
       " 'couldn',\n",
       " \"couldn't\",\n",
       " 'd',\n",
       " 'did',\n",
       " 'didn',\n",
       " \"didn't\",\n",
       " 'do',\n",
       " 'does',\n",
       " 'doesn',\n",
       " \"doesn't\",\n",
       " 'doing',\n",
       " 'don',\n",
       " \"don't\",\n",
       " 'down',\n",
       " 'during',\n",
       " 'each',\n",
       " 'few',\n",
       " 'for',\n",
       " 'from',\n",
       " 'further',\n",
       " 'had',\n",
       " 'hadn',\n",
       " \"hadn't\",\n",
       " 'has',\n",
       " 'hasn',\n",
       " \"hasn't\",\n",
       " 'have',\n",
       " 'haven',\n",
       " \"haven't\",\n",
       " 'having',\n",
       " 'he',\n",
       " 'her',\n",
       " 'here',\n",
       " 'hers',\n",
       " 'herself',\n",
       " 'him',\n",
       " 'himself',\n",
       " 'his',\n",
       " 'how',\n",
       " 'i',\n",
       " 'if',\n",
       " 'in',\n",
       " 'into',\n",
       " 'is',\n",
       " 'isn',\n",
       " \"isn't\",\n",
       " 'it',\n",
       " \"it's\",\n",
       " 'its',\n",
       " 'itself',\n",
       " 'just',\n",
       " 'll',\n",
       " 'm',\n",
       " 'ma',\n",
       " 'me',\n",
       " 'mightn',\n",
       " \"mightn't\",\n",
       " 'more',\n",
       " 'most',\n",
       " 'mustn',\n",
       " \"mustn't\",\n",
       " 'my',\n",
       " 'myself',\n",
       " 'needn',\n",
       " \"needn't\",\n",
       " 'no',\n",
       " 'nor',\n",
       " 'not',\n",
       " 'now',\n",
       " 'o',\n",
       " 'of',\n",
       " 'off',\n",
       " 'on',\n",
       " 'once',\n",
       " 'only',\n",
       " 'or',\n",
       " 'other',\n",
       " 'our',\n",
       " 'ours',\n",
       " 'ourselves',\n",
       " 'out',\n",
       " 'over',\n",
       " 'own',\n",
       " 're',\n",
       " 's',\n",
       " 'same',\n",
       " 'shan',\n",
       " \"shan't\",\n",
       " 'she',\n",
       " \"she's\",\n",
       " 'should',\n",
       " \"should've\",\n",
       " 'shouldn',\n",
       " \"shouldn't\",\n",
       " 'so',\n",
       " 'some',\n",
       " 'such',\n",
       " 't',\n",
       " 'than',\n",
       " 'that',\n",
       " \"that'll\",\n",
       " 'the',\n",
       " 'their',\n",
       " 'theirs',\n",
       " 'them',\n",
       " 'themselves',\n",
       " 'then',\n",
       " 'there',\n",
       " 'these',\n",
       " 'they',\n",
       " 'this',\n",
       " 'those',\n",
       " 'through',\n",
       " 'to',\n",
       " 'too',\n",
       " 'under',\n",
       " 'until',\n",
       " 'up',\n",
       " 've',\n",
       " 'very',\n",
       " 'was',\n",
       " 'wasn',\n",
       " \"wasn't\",\n",
       " 'we',\n",
       " 'were',\n",
       " 'weren',\n",
       " \"weren't\",\n",
       " 'what',\n",
       " 'when',\n",
       " 'where',\n",
       " 'which',\n",
       " 'while',\n",
       " 'who',\n",
       " 'whom',\n",
       " 'why',\n",
       " 'will',\n",
       " 'with',\n",
       " 'won',\n",
       " \"won't\",\n",
       " 'wouldn',\n",
       " \"wouldn't\",\n",
       " 'y',\n",
       " 'you',\n",
       " \"you'd\",\n",
       " \"you'll\",\n",
       " \"you're\",\n",
       " \"you've\",\n",
       " 'your',\n",
       " 'yours',\n",
       " 'yourself',\n",
       " 'yourselves'}"
      ]
     },
     "execution_count": 60,
     "metadata": {},
     "output_type": "execute_result"
    }
   ],
   "source": [
    "stop_words = set(stopwords.words('english'))\n",
    "stop_words"
   ]
  },
  {
   "cell_type": "code",
   "execution_count": 72,
   "id": "5d909ef0",
   "metadata": {},
   "outputs": [
    {
     "name": "stdout",
     "output_type": "stream",
     "text": [
      "[('Automatic', 'JJ'), ('Multiple', 'NNP'), ('Choice', 'NNP'), ('Question', 'NNP'), ('(', '('), ('MCQ', 'NNP'), (')', ')'), ('generation', 'NN'), ('text', 'IN'), ('popular', 'JJ'), ('research', 'NN'), ('area', 'NN'), ('.', '.')]\n",
      "[('MCQs', 'NNP'), ('widely', 'RB'), ('accepted', 'VBD'), ('large-scale', 'JJ'), ('assessment', 'NN'), ('various', 'JJ'), ('domains', 'NNS'), ('applications', 'NNS'), ('.', '.')]\n",
      "[('However', 'RB'), (',', ','), ('manual', 'JJ'), ('generation', 'NN'), ('MCQs', 'NNP'), ('expensive', 'JJ'), ('time-consuming', 'NN'), ('.', '.')]\n",
      "[('Therefore', 'RB'), (',', ','), ('researchers', 'NNS'), ('attracted', 'VBD'), ('towards', 'NNS'), ('automatic', 'JJ'), ('MCQ', 'NNP'), ('generation', 'NN'), ('since', 'IN'), ('late', 'JJ'), ('90', 'CD'), ('’', 'NN'), ('.', '.')]\n",
      "[('Since', 'IN'), (',', ','), ('many', 'JJ'), ('systems', 'NNS'), ('developed', 'VBD'), ('MCQ', 'NNP'), ('generation', 'NN'), ('.', '.')]\n",
      "[('After', 'IN'), ('key', 'JJ'), ('selection', 'NN'), (',', ','), ('next', 'JJ'), ('task', 'NN'), ('becomes', 'VBZ'), ('transformation', 'JJ'), ('declarative', 'JJ'), ('sentence', 'NN'), ('interrogative', 'JJ'), ('form', 'NN'), ('.', '.')]\n",
      "[('However', 'RB'), (',', ','), ('literature', 'NN'), (',', ','), ('found', 'VBN'), ('step', 'NN'), ('ignored', 'VBD'), ('many', 'JJ'), ('MCQ', 'NNP'), ('systems', 'NNS'), ('.', '.')]\n",
      "[('If', 'IN'), ('transformation', 'NN'), ('done', 'VBN'), (',', ','), ('sentence', 'NN'), ('remains', 'VBZ'), ('original', 'JJ'), ('form', 'NN'), (',', ','), ('blank', 'JJ'), ('replaces', 'NNS'), ('key', 'NN'), ('.', '.')]\n",
      "[('As', 'IN'), ('result', 'NN'), (',', ','), ('becomes', 'VBZ'), ('fillin-the-blank', 'JJ'), ('type', 'JJ'), ('question', 'NN'), ('distractors', 'NNS'), ('.', '.')]\n",
      "[('However', 'RB'), (',', ','), ('found', 'VBD'), ('several', 'JJ'), ('works', 'NNS'), ('containing', 'VBG'), ('transformation', 'NN'), ('declarative', 'JJ'), ('interrogative', 'JJ'), ('sentence', 'NN'), ('.', '.')]\n"
     ]
    }
   ],
   "source": [
    "tokenized = sent_tokenize(text)\n",
    "for i in tokenized:\n",
    "    wordList =  word_tokenize(i)\n",
    "    wordsList = [w for w in wordList if not w in stop_words]\n",
    "    tagged = nltk.pos_tag(wordsList)\n",
    "    print(tagged)"
   ]
  },
  {
   "cell_type": "markdown",
   "id": "0953a205",
   "metadata": {},
   "source": [
    "##  **Analysis**"
   ]
  },
  {
   "cell_type": "code",
   "execution_count": 76,
   "id": "d775ea86",
   "metadata": {},
   "outputs": [
    {
     "name": "stdout",
     "output_type": "stream",
     "text": [
      "Length: 13\n",
      "Unique Tokens Count: 11\n",
      "Unique Tokens: {'t', 'x', 'i', 'v', 'l', 'e', '.', 'j', 'b', 'k', '-'}\n",
      "Sorted Tokens: ['-', '.', 'b', 'e', 'i', 'j', 'k', 'l', 't', 'v', 'x']\n",
      "Lexical Richness: 1.1818181818181819\n",
      "Word Frequency 'heaven': 0\n",
      "Word Frequency 'to': 0\n",
      "Frequency Distribution: <FreqDist with 11 samples and 13 outcomes>\n",
      "Hapaxes: ['i', 'l', 'e', '-', 'k', 'j', 'v', '.', 'x']\n",
      "Most Common Tokens:\n",
      "('b', 2)\n",
      "('t', 2)\n",
      "('i', 1)\n",
      "('l', 1)\n",
      "('e', 1)\n",
      "('-', 1)\n",
      "('k', 1)\n",
      "('j', 1)\n",
      "('v', 1)\n",
      "('.', 1)\n"
     ]
    },
    {
     "data": {
      "image/png": "[encoded data removed]",
      "text/plain": [
       "<Figure size 640x480 with 1 Axes>"
      ]
     },
     "metadata": {},
     "output_type": "display_data"
    },
    {
     "name": "stdout",
     "output_type": "stream",
     "text": [
      "Length: 15\n",
      "Unique Tokens Count: 13\n",
      "Unique Tokens: {'t', 'x', 'p', 'm', 'l', 'e', '.', 'o', 's', 'a', 'b', 'k', '-'}\n",
      "Sorted Tokens: ['-', '.', 'a', 'b', 'e', 'k', 'l', 'm', 'o', 'p', 's', 't', 'x']\n",
      "Lexical Richness: 1.1538461538461537\n",
      "Word Frequency 'heaven': 0\n",
      "Word Frequency 'to': 0\n",
      "Frequency Distribution: <FreqDist with 13 samples and 15 outcomes>\n",
      "Hapaxes: ['b', 'l', 'a', 'k', '-', 'p', 'o', 'm', 's', '.', 'x']\n",
      "Most Common Tokens:\n",
      "('e', 2)\n",
      "('t', 2)\n",
      "('b', 1)\n",
      "('l', 1)\n",
      "('a', 1)\n",
      "('k', 1)\n",
      "('-', 1)\n",
      "('p', 1)\n",
      "('o', 1)\n",
      "('m', 1)\n"
     ]
    },
    {
     "data": {
      "image/png": "[encoded data removed]",
      "text/plain": [
       "<Figure size 640x480 with 1 Axes>"
      ]
     },
     "metadata": {},
     "output_type": "display_data"
    },
    {
     "name": "stdout",
     "output_type": "stream",
     "text": [
      "Length: 19\n",
      "Unique Tokens Count: 15\n",
      "Unique Tokens: {'t', 'x', 'i', 'n', 'p', 'm', 'd', 'l', 'e', '.', 'o', 's', 'r', 'a', '-'}\n",
      "Sorted Tokens: ['-', '.', 'a', 'd', 'e', 'i', 'l', 'm', 'n', 'o', 'p', 'r', 's', 't', 'x']\n",
      "Lexical Richness: 1.2666666666666666\n",
      "Word Frequency 'heaven': 0\n",
      "Word Frequency 'to': 1\n",
      "Frequency Distribution: <FreqDist with 15 samples and 19 outcomes>\n",
      "Hapaxes: ['m', 'l', 'o', 'n', '-', 'p', 'r', 'd', 's', 'e', '.', 'x']\n",
      "Most Common Tokens:\n",
      "('t', 3)\n",
      "('i', 2)\n",
      "('a', 2)\n",
      "('m', 1)\n",
      "('l', 1)\n",
      "('o', 1)\n",
      "('n', 1)\n",
      "('-', 1)\n",
      "('p', 1)\n",
      "('r', 1)\n"
     ]
    },
    {
     "data": {
      "image/png": "[encoded data removed]",
      "text/plain": [
       "<Figure size 640x480 with 1 Axes>"
      ]
     },
     "metadata": {},
     "output_type": "display_data"
    },
    {
     "name": "stdout",
     "output_type": "stream",
     "text": [
      "Length: 22\n",
      "Unique Tokens Count: 13\n",
      "Unique Tokens: {'t', 'x', 'p', 'm', 'e', 'l', '.', 'h', 's', 'r', 'a', 'k', '-'}\n",
      "Sorted Tokens: ['-', '.', 'a', 'e', 'h', 'k', 'l', 'm', 'p', 'r', 's', 't', 'x']\n",
      "Lexical Richness: 1.6923076923076923\n",
      "Word Frequency 'heaven': 0\n",
      "Word Frequency 'to': 0\n",
      "Frequency Distribution: <FreqDist with 13 samples and 22 outcomes>\n",
      "Hapaxes: ['k', 'p', 'r', '-', 'm', 'l', '.', 'x']\n",
      "Most Common Tokens:\n",
      "('e', 4)\n",
      "('a', 3)\n",
      "('t', 3)\n",
      "('s', 2)\n",
      "('h', 2)\n",
      "('k', 1)\n",
      "('p', 1)\n",
      "('r', 1)\n",
      "('-', 1)\n",
      "('m', 1)\n"
     ]
    },
    {
     "data": {
      "image/png": "[encoded data removed]",
      "text/plain": [
       "<Figure size 640x480 with 1 Axes>"
      ]
     },
     "metadata": {},
     "output_type": "display_data"
    },
    {
     "name": "stdout",
     "output_type": "stream",
     "text": [
      "Length: 22\n",
      "Unique Tokens Count: 16\n",
      "Unique Tokens: {'t', 'x', 'i', 'c', 'v', 'd', 'm', 'l', 'e', '.', '_', 'o', 'y', 'b', 'k', '-'}\n",
      "Sorted Tokens: ['-', '.', '_', 'b', 'c', 'd', 'e', 'i', 'k', 'l', 'm', 'o', 't', 'v', 'x', 'y']\n",
      "Lexical Richness: 1.375\n",
      "Word Frequency 'heaven': 0\n",
      "Word Frequency 'to': 0\n",
      "Frequency Distribution: <FreqDist with 16 samples and 22 outcomes>\n",
      "Hapaxes: ['v', '-', 'o', 'b', 'y', '_', 'd', 'c', 'k', '.', 'x']\n",
      "Most Common Tokens:\n",
      "('l', 3)\n",
      "('m', 2)\n",
      "('e', 2)\n",
      "('i', 2)\n",
      "('t', 2)\n",
      "('v', 1)\n",
      "('-', 1)\n",
      "('o', 1)\n",
      "('b', 1)\n",
      "('y', 1)\n"
     ]
    },
    {
     "data": {
      "image/png": "[encoded data removed]",
      "text/plain": [
       "<Figure size 640x480 with 1 Axes>"
      ]
     },
     "metadata": {},
     "output_type": "display_data"
    },
    {
     "name": "stdout",
     "output_type": "stream",
     "text": [
      "Length: 18\n",
      "Unique Tokens Count: 14\n",
      "Unique Tokens: {'w', 't', 'x', 'i', 'n', 'v', 'm', 'l', 'e', '.', 'h', 's', 'a', '-'}\n",
      "Sorted Tokens: ['-', '.', 'a', 'e', 'h', 'i', 'l', 'm', 'n', 's', 't', 'v', 'w', 'x']\n",
      "Lexical Richness: 1.2857142857142858\n",
      "Word Frequency 'heaven': 0\n",
      "Word Frequency 'to': 0\n",
      "Frequency Distribution: <FreqDist with 14 samples and 18 outcomes>\n",
      "Hapaxes: ['w', 'h', 'i', 'm', 'n', '-', 'l', 'v', 's', '.', 'x']\n",
      "Most Common Tokens:\n",
      "('t', 3)\n",
      "('a', 2)\n",
      "('e', 2)\n",
      "('w', 1)\n",
      "('h', 1)\n",
      "('i', 1)\n",
      "('m', 1)\n",
      "('n', 1)\n",
      "('-', 1)\n",
      "('l', 1)\n"
     ]
    },
    {
     "data": {
      "image/png": "[encoded data removed]",
      "text/plain": [
       "<Figure size 640x480 with 1 Axes>"
      ]
     },
     "metadata": {},
     "output_type": "display_data"
    }
   ],
   "source": [
    "class TextAnalyzer:\n",
    "    def __init__(self, corpus):\n",
    "        self.corpus = corpus\n",
    "        self.freq_dist = FreqDist(self.corpus)\n",
    "\n",
    "    def get_lengths(self):\n",
    "        return len(self.corpus)\n",
    "\n",
    "    def get_unique_tokens_count(self):\n",
    "        return len(set(self.corpus))\n",
    "\n",
    "    def get_unique_tokens(self):\n",
    "        return set(self.corpus)\n",
    "\n",
    "    def get_sorted_tokens(self):\n",
    "        return sorted(set(self.corpus))\n",
    "\n",
    "    def get_lexical_richness(self):\n",
    "        return len(self.corpus) / len(set(self.corpus))\n",
    "\n",
    "    def get_word_frequency(self, word):\n",
    "        return self.corpus.count(word)\n",
    "\n",
    "    def get_frequency_distribution(self):\n",
    "        return self.freq_dist\n",
    "\n",
    "    def get_hapaxes(self):\n",
    "        return self.freq_dist.hapaxes()\n",
    "\n",
    "    def get_most_common(self, num=10):\n",
    "        return self.freq_dist.most_common(num)\n",
    "\n",
    "    def print_items(self, items):\n",
    "        for item in items:\n",
    "            print(item)\n",
    "\n",
    "    def plot_frequency_distribution(self):\n",
    "        self.freq_dist.plot()\n",
    "\n",
    "    def analyze_text(self):\n",
    "        len_text = self.get_lengths()\n",
    "        print(\"Length:\", len_text)\n",
    "\n",
    "        unique_tokens_count = self.get_unique_tokens_count()\n",
    "        print(\"Unique Tokens Count:\", unique_tokens_count)\n",
    "\n",
    "        unique_tokens = self.get_unique_tokens()\n",
    "        print(\"Unique Tokens:\", unique_tokens)\n",
    "\n",
    "        sorted_tokens = self.get_sorted_tokens()\n",
    "        print(\"Sorted Tokens:\", sorted_tokens)\n",
    "\n",
    "        lexical_richness = self.get_lexical_richness()\n",
    "        print(\"Lexical Richness:\", lexical_richness)\n",
    "\n",
    "        word_freq_heaven = self.get_word_frequency(\"heaven\")\n",
    "        word_freq_to = self.get_word_frequency(\"to\")\n",
    "        print(\"Word Frequency 'heaven':\", word_freq_heaven)\n",
    "        print(\"Word Frequency 'to':\", word_freq_to)\n",
    "\n",
    "        print(\"Frequency Distribution:\", self.freq_dist)\n",
    "\n",
    "        hapaxes = self.get_hapaxes()\n",
    "        print(\"Hapaxes:\", hapaxes)\n",
    "\n",
    "        most_common = self.get_most_common(10)\n",
    "        print(\"Most Common Tokens:\")\n",
    "        self.print_items(most_common)\n",
    "\n",
    "        self.plot_frequency_distribution()\n",
    "\n",
    "# Usage\n",
    "corpus = [\n",
    "    'bible-kjv.txt',\n",
    "    'blake-poems.txt',\n",
    "    'milton-paradise.txt',\n",
    "    'shakespeare-hamlet.txt',\n",
    "    'melville-moby_dick.txt',\n",
    "    'whitman-leaves.txt',\n",
    "]\n",
    "\n",
    "for corpora in corpus:\n",
    "    analyzer = TextAnalyzer(corpora)\n",
    "    analyzer.analyze_text()\n",
    "\n",
    "\n"
   ]
  },
  {
   "cell_type": "code",
   "execution_count": null,
   "id": "89c3aca5",
   "metadata": {},
   "outputs": [],
   "source": []
  }
 ],
 "metadata": {
  "kernelspec": {
   "display_name": "Python 3 (ipykernel)",
   "language": "python",
   "name": "python3"
  },
  "language_info": {
   "codemirror_mode": {
    "name": "ipython",
    "version": 3
   },
   "file_extension": ".py",
   "mimetype": "text/x-python",
   "name": "python",
   "nbconvert_exporter": "python",
   "pygments_lexer": "ipython3",
   "version": "3.8.10"
  }
 },
 "nbformat": 4,
 "nbformat_minor": 5
}
