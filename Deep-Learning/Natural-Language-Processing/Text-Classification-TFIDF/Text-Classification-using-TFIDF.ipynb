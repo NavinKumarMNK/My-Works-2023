{
 "cells": [
  {
   "cell_type": "markdown",
   "metadata": {},
   "source": [
    "# **Text Classification using TF-IDF**"
   ]
  },
  {
   "cell_type": "code",
   "execution_count": 1,
   "metadata": {},
   "outputs": [
    {
     "name": "stdout",
     "output_type": "stream",
     "text": [
      "Author: Navin Kumar M 20BAI1094\n",
      "\n",
      "Python implementation: CPython\n",
      "Python version       : 3.8.10\n",
      "IPython version      : 7.34.0\n",
      "\n",
      "sklearn: 1.2.0\n",
      "pandas : 2.0.3\n",
      "\n"
     ]
    }
   ],
   "source": [
    "%load_ext watermark\n",
    "%watermark -a 'Navin Kumar M 20BAI1094' -v -p sklearn,pandas"
   ]
  },
  {
   "cell_type": "code",
   "execution_count": 2,
   "metadata": {},
   "outputs": [],
   "source": [
    "import os \n",
    "import pandas as pd\n",
    "import numpy as np\n",
    "import chardet\n",
    "import warnings\n",
    "\n",
    "from sklearn.feature_extraction.text import (TfidfVectorizer, CountVectorizer)\n",
    "from sklearn.ensemble import RandomForestClassifier\n",
    "from sklearn.pipeline import Pipeline\n",
    "from sklearn.metrics import classification_report\n",
    "from sklearn.model_selection import train_test_split\n",
    "from sklearn import set_config\n",
    "from sklearn.naive_bayes import MultinomialNB\n",
    " \n",
    "warnings.filterwarnings(\"ignore\")\n",
    "set_config(display=\"diagram\")"
   ]
  },
  {
   "cell_type": "code",
   "execution_count": 3,
   "metadata": {},
   "outputs": [],
   "source": [
    "# Classification Dataset\n",
    "neg_dataset_path = 'data/rt-polarity.neg.txt'\n",
    "pos_dataset_path = 'data/rt-polarity.pos.txt'\n",
    "\n",
    "# read and return the dataset as pandas dataframe\n",
    "def dataset_return(path: str) -> pd.DataFrame:\n",
    "    # Check the encoding of the file\n",
    "    with open(neg_dataset_path, 'rb') as f:\n",
    "        result = chardet.detect(f.read(3500))\n",
    "    \n",
    "    return pd.read_csv(\n",
    "        neg_dataset_path, encoding=result['encoding'], delimiter='\\0', header=None, names=['text']\n",
    "    ) \n",
    "\n",
    "neg_dataset = dataset_return(path=neg_dataset_path)\n",
    "pos_dataset = dataset_return(path=pos_dataset_path)"
   ]
  },
  {
   "cell_type": "code",
   "execution_count": 4,
   "metadata": {},
   "outputs": [
    {
     "data": {
      "text/html": [
       "<div>\n",
       "<style scoped>\n",
       "    .dataframe tbody tr th:only-of-type {\n",
       "        vertical-align: middle;\n",
       "    }\n",
       "\n",
       "    .dataframe tbody tr th {\n",
       "        vertical-align: top;\n",
       "    }\n",
       "\n",
       "    .dataframe thead th {\n",
       "        text-align: right;\n",
       "    }\n",
       "</style>\n",
       "<table border=\"1\" class=\"dataframe\">\n",
       "  <thead>\n",
       "    <tr style=\"text-align: right;\">\n",
       "      <th></th>\n",
       "      <th>text</th>\n",
       "      <th>label</th>\n",
       "    </tr>\n",
       "  </thead>\n",
       "  <tbody>\n",
       "    <tr>\n",
       "      <th>0</th>\n",
       "      <td>eight legged freaks won't join the pantheon of...</td>\n",
       "      <td>0</td>\n",
       "    </tr>\n",
       "    <tr>\n",
       "      <th>1</th>\n",
       "      <td>a supernatural mystery that doesn't know wheth...</td>\n",
       "      <td>1</td>\n",
       "    </tr>\n",
       "    <tr>\n",
       "      <th>2</th>\n",
       "      <td>comes . . . uncomfortably close to coasting in...</td>\n",
       "      <td>1</td>\n",
       "    </tr>\n",
       "    <tr>\n",
       "      <th>3</th>\n",
       "      <td>irwin is a man with enough charisma and audaci...</td>\n",
       "      <td>1</td>\n",
       "    </tr>\n",
       "    <tr>\n",
       "      <th>4</th>\n",
       "      <td>just too silly and sophomoric to ensnare its t...</td>\n",
       "      <td>0</td>\n",
       "    </tr>\n",
       "  </tbody>\n",
       "</table>\n",
       "</div>"
      ],
      "text/plain": [
       "                                                text  label\n",
       "0  eight legged freaks won't join the pantheon of...      0\n",
       "1  a supernatural mystery that doesn't know wheth...      1\n",
       "2  comes . . . uncomfortably close to coasting in...      1\n",
       "3  irwin is a man with enough charisma and audaci...      1\n",
       "4  just too silly and sophomoric to ensnare its t...      0"
      ]
     },
     "execution_count": 4,
     "metadata": {},
     "output_type": "execute_result"
    }
   ],
   "source": [
    "# combine the two datasets\n",
    "neg_dataset['label'] = 0\n",
    "pos_dataset['label'] = 1\n",
    "\n",
    "dataset = pd.concat(\n",
    "    [neg_dataset, pos_dataset], ignore_index=True\n",
    "    ).sample(frac=1).reset_index(drop=True)\n",
    "\n",
    "dataset.head()"
   ]
  },
  {
   "cell_type": "code",
   "execution_count": 8,
   "metadata": {},
   "outputs": [],
   "source": [
    "def tt_split(dataset):\n",
    "    return train_test_split(\n",
    "        dataset['text'],\n",
    "        dataset['label'],\n",
    "        test_size=0.2,\n",
    "        stratify=dataset['label'], # Equal Splits\n",
    "    ) # [X_train, X_text, y_train, y_test] \n",
    "\n",
    "X_train, X_test, y_train, y_test = tt_split(dataset)"
   ]
  },
  {
   "cell_type": "code",
   "execution_count": 9,
   "metadata": {},
   "outputs": [],
   "source": [
    "def generate_report(clf):\n",
    "    clf.fit(X_train, y_train)\n",
    "    y_pred = clf.predict(X_text)\n",
    "    print(\n",
    "        classification_report(y_test, y_pred)\n",
    "    )"
   ]
  },
  {
   "cell_type": "markdown",
   "metadata": {},
   "source": [
    "## **CountVectorizer() --- RandomForest()**"
   ]
  },
  {
   "cell_type": "code",
   "execution_count": 10,
   "metadata": {},
   "outputs": [
    {
     "name": "stdout",
     "output_type": "stream",
     "text": [
      "              precision    recall  f1-score   support\n",
      "\n",
      "           0       0.50      0.50      0.50      1067\n",
      "           1       0.50      0.51      0.50      1066\n",
      "\n",
      "    accuracy                           0.50      2133\n",
      "   macro avg       0.50      0.50      0.50      2133\n",
      "weighted avg       0.50      0.50      0.50      2133\n",
      "\n"
     ]
    }
   ],
   "source": [
    "clf = Pipeline([\n",
    "    ('vectorizer_tri_grams', CountVectorizer(ngram_range = (3, 3))),\n",
    "    ('radom_forest', RandomForestClassifier())\n",
    "])\n",
    "\n",
    "generate_report(clf)"
   ]
  },
  {
   "cell_type": "markdown",
   "metadata": {},
   "source": [
    "## **CountVectorizer() --- NavieBayes()**"
   ]
  },
  {
   "cell_type": "code",
   "execution_count": 11,
   "metadata": {},
   "outputs": [
    {
     "name": "stdout",
     "output_type": "stream",
     "text": [
      "              precision    recall  f1-score   support\n",
      "\n",
      "           0       0.49      0.50      0.50      1067\n",
      "           1       0.49      0.48      0.49      1066\n",
      "\n",
      "    accuracy                           0.49      2133\n",
      "   macro avg       0.49      0.49      0.49      2133\n",
      "weighted avg       0.49      0.49      0.49      2133\n",
      "\n"
     ]
    }
   ],
   "source": [
    "clf = Pipeline([\n",
    "    ('vectorizer_bigrams', CountVectorizer(ngram_range = (1, 2))),\n",
    "    ('Multi NB', MultinomialNB())\n",
    "])\n",
    "\n",
    "generate_report(clf)"
   ]
  },
  {
   "cell_type": "markdown",
   "metadata": {},
   "source": [
    "## **Term Frequency – Inverse Document Frequency**\n",
    "\n",
    "> __TF-IDF__ is the product of the __TF__ and __IDF__ scores of the term.<br><br> $$\\text{TF-IDF}=\\frac{\\text{TF}}{\\text{IDF}}$$<br>\n",
    "\n",
    "> __Term Frequency :__ This summarizes how often a given word appears within a document.\n",
    "\n",
    "$$\\text{TF} = \\frac{\\text{Number of times the term appears in the doc}}{\\text{Total number of words in the doc}}$$<br><br>\n",
    "> __Inverse Document Frequency:__ This downscales words that appear a lot across documents. A term has a high IDF score if it appears in a few documents. Conversely, if the term is very common among documents (i.e., “the”, “a”, “is”), the term would have a low IDF score.<br>\n",
    "\n",
    "$$\\text{IDF} = \\ln\\left(\\frac{\\text{Number of docs}}{\\text{Number docs the term appears in}} \\right)$$<br>\n",
    "\n",
    "> TF-IDF are word frequency scores that try to highlight words that are more interesting, e.g. frequent in a document but not across documents. The higher the TFIDF score, the rarer the term is. For instance, in a Mortgage complaint the word _mortgage_ would be mentioned fairly often. However, if we look at other complaints, _mortgage_ probably would not show up in many of them. We can infer that _mortgage_ is most probably an important word in Mortgage complaints as compared to the other products. Therefore, _mortgage_ would have a high TF-IDF score for Mortgage complaints.\n",
    "\n",
    "TfidfVectorizer class can be initialized with the following parameters:\n",
    "* __min_df__: remove the words from the vocabulary which have occurred in less than ‘min_df’ number of files.\n",
    "* __max_df__: remove the words from the vocabulary which have occurred in more than _‘max_df’ * total number of files in corpus_.\n",
    "* __sublinear_tf__: set to True to scale the term frequency in logarithmic scale.\n",
    "* __stop_words__: remove the predefined stop words in 'english'.\n",
    "* __use_idf__: weight factor must use inverse document frequency.\n",
    "* __ngram_range__: (1, 2) to indicate that unigrams and bigrams will be considered."
   ]
  },
  {
   "cell_type": "markdown",
   "metadata": {},
   "source": [
    "## **TF-IDF() --- RandomForest()**"
   ]
  },
  {
   "cell_type": "code",
   "execution_count": 12,
   "metadata": {},
   "outputs": [
    {
     "name": "stdout",
     "output_type": "stream",
     "text": [
      "              precision    recall  f1-score   support\n",
      "\n",
      "           0       0.50      0.52      0.51      1067\n",
      "           1       0.50      0.48      0.49      1066\n",
      "\n",
      "    accuracy                           0.50      2133\n",
      "   macro avg       0.50      0.50      0.50      2133\n",
      "weighted avg       0.50      0.50      0.50      2133\n",
      "\n"
     ]
    }
   ],
   "source": [
    "clf = Pipeline([\n",
    "    ('vectorizer_tfidf', TfidfVectorizer(\n",
    "        sublinear_tf=True,\n",
    "        ngram_range=(1, 2),\n",
    "    )),\n",
    "    ('Random Forest', RandomForestClassifier())\n",
    "])\n",
    "\n",
    "generate_report(clf)"
   ]
  },
  {
   "cell_type": "markdown",
   "metadata": {},
   "source": [
    "## **TF-IDF --- RandomForest()  {Preprocessed Data}**\n",
    "> Pre-processing by removing stop words, punctuations and apply lemmatization"
   ]
  },
  {
   "cell_type": "code",
   "execution_count": 16,
   "metadata": {},
   "outputs": [],
   "source": [
    "import spacy\n",
    "nlp = spacy.load(\"en_core_web_sm\")\n",
    "\n",
    "def preprocess(text):\n",
    "    doc = nlp(text)\n",
    "    filtered_tokens = []\n",
    "    for token in doc:\n",
    "        if token.is_stop or token.is_punct:\n",
    "            continue\n",
    "        filtered_tokens.append(token.lemma_)\n",
    "    \n",
    "    return ''.join(filtered_tokens)\n",
    "\n",
    "dataset['text'] = dataset['text'].apply(preprocess)"
   ]
  },
  {
   "cell_type": "code",
   "execution_count": 18,
   "metadata": {},
   "outputs": [
    {
     "name": "stdout",
     "output_type": "stream",
     "text": [
      "              precision    recall  f1-score   support\n",
      "\n",
      "           0       0.52      0.62      0.56      1067\n",
      "           1       0.52      0.41      0.46      1066\n",
      "\n",
      "    accuracy                           0.52      2133\n",
      "   macro avg       0.52      0.52      0.51      2133\n",
      "weighted avg       0.52      0.52      0.51      2133\n",
      "\n"
     ]
    }
   ],
   "source": [
    "X_train, X_text, y_train, y_text = tt_split(dataset)\n",
    "\n",
    "clf = Pipeline([\n",
    "    ('vectorizer_tfidf', TfidfVectorizer(\n",
    "        sublinear_tf=True,\n",
    "        ngram_range=(1, 2),\n",
    "    )),\n",
    "    ('Random Forest', RandomForestClassifier())\n",
    "])\n",
    "\n",
    "generate_report(clf)"
   ]
  },
  {
   "cell_type": "code",
   "execution_count": null,
   "metadata": {},
   "outputs": [],
   "source": []
  }
 ],
 "metadata": {
  "kernelspec": {
   "display_name": "Python 3 (ipykernel)",
   "language": "python",
   "name": "python3"
  },
  "language_info": {
   "codemirror_mode": {
    "name": "ipython",
    "version": 3
   },
   "file_extension": ".py",
   "mimetype": "text/x-python",
   "name": "python",
   "nbconvert_exporter": "python",
   "pygments_lexer": "ipython3",
   "version": "3.8.10"
  }
 },
 "nbformat": 4,
 "nbformat_minor": 2
}
