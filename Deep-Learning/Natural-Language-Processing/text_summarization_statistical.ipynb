{
  "nbformat": 4,
  "nbformat_minor": 0,
  "metadata": {
    "colab": {
      "provenance": []
    },
    "kernelspec": {
      "name": "python3",
      "display_name": "Python 3"
    },
    "language_info": {
      "name": "python"
    }
  },
  "cells": [
    {
      "cell_type": "markdown",
      "source": [
        "## **Text Summarization**"
      ],
      "metadata": {
        "id": "NxjRF282kg0b"
      }
    },
    {
      "cell_type": "code",
      "execution_count": null,
      "metadata": {
        "id": "3T2vo-A2i8fZ"
      },
      "outputs": [],
      "source": [
        "import spacy\n",
        "from typing import Set, List\n",
        "from collections import defaultdict\n",
        "\n",
        "nlp = spacy.load(\"en_core_web_sm\")"
      ]
    },
    {
      "cell_type": "code",
      "source": [
        "def read_txt(text_file):\n",
        "    string_list = []\n",
        "    with open(text_file, \"r+\" ) as file:\n",
        "        string_list = file.readlines()\n",
        "    text = '. '.join(string_list)\n",
        "    return text\n",
        "\n",
        "text = read_txt(text_file=\"/content/tiny_shakespeare.txt\")\n",
        "text"
      ],
      "metadata": {
        "colab": {
          "base_uri": "https://localhost:8080/",
          "height": 244
        },
        "id": "InddarvZks8v",
        "outputId": "f6145497-b505-4f80-b0cf-5cfa397e3fbe"
      },
      "execution_count": null,
      "outputs": [
        {
          "output_type": "execute_result",
          "data": {
            "text/plain": [
              "'Conflict between Israel & Palestinians in Gaza\\n. Hamas militant group has started a war that \\'Israel will win\\', defence minister says\\n. The conflict began with multiple rocket launches from different locations in the Palestinian territory, followed by air raid sirens across southern and central Israel.\\n. Israel declares state of war as Hamas fire over 5,000 rockets\\n. The ruling Hamas militant group in the Gaza Strip carried out an unprecedented, multi-front attack on Israel at daybreak on Saturday, firing thousands of rockets as dozens of Hamas fighters infiltrated the heavily fortified border in several locations by air, land and sea and catching the country off-guard on a major holiday.\\n. Israel\\'s national rescue service said at least 200 Israelis have been killed and wounded more than 1,000, making it the deadliest attack in the country in years.\\n. Israel and Gaza at war after Hamas launches surprise attack\\n. Palestinian militant group Hamas launched a large-scale surprise attack against Israel Saturday, firing thousands of rockets from Gaza and sending ground units to kill or abduct people as Israel retaliated with air strikes. Israeli authorities said 10 people in Israel were killed by rocket fire and\\n. Israel and Gaza at war after Hamas launches surprise attack\\n. Palestinian gunmen reported in Israel as barrages launched from Gaza\\n. Palestinian gunmen infiltrated southern Israel and launched rocket barrages from the Gaza Strip in a surprise attack claimed by Hamas. The group\\'s senior military commander called on Palestinians to fight, stating that 5,000 rockets had been launched. One Israeli woman was killed, and clashes were\\n. Palestinian gunmen reported in Israel as barrages launched from Gaza\\n. Rocket barrages from Gaza hit Israel, killing at least one\\n. Barrages of rockets were fired at Israel from the blockaded Gaza Strip at dawn on Saturday as militants from the Palestinian enclave infiltrated Israel, with at least one person killed, the army and medics said. Israel has imposed a crippling blockade on Gaza since 2007 after Hamas took power.\\n. Rocket barrages from Gaza hit Israel, killing at least one\\n. Israel-Palestine conflict: India issues advisory for its nationals in Israel\\n. \"All Indian nationals are requested to remain vigilant and observe safety protocols as advised by local authorities,\" the advisory stated. Israeli PM Benjamin Netanyahu said Israel was at \\'war\\' with Palestinian militant group Hamas after barrages of rockets were fired from the Gaza Strip into Israel\\n. Israel-Palestine conflict: India issues advisory for its nationals in Israel\\n. Live updates: Israel-Palestine conflict\\n. \"We are at war,\" Israeli Prime Minister Benjamin Netanyahu said in a televised address, declaring a mass mobilisation of the country\\'s army reserves. \"Not an operation,\\' not a round,\\' but at war.\"\\n. \"The enemy will pay an unprecedented price,\" he added, promising that Israel would \"return fire of a magnitude that the enemy has not known.\"\\n. Meanwhile, Palestinian President Mahmoud Abbas said on Saturday that the Palestinian people have the right to defend themselves against the \"terror of settlers and occupation troops\", the official news agency WAFA quoted him as saying.\\n. He spoke at an emergency meeting held in Ramallah with a number of top officials from the Palestinian Authority.\\n. Bloodied bodies in the streets, gunmen raiding door-to-door leave Israel in shock\\n. Bloodied bodies in the streets, gunmen raiding door-to-door and news of captives taken to Gaza left Israelis terrified and in shock after the Palestinian militant group Hamas launched a surprise attack that was unprecedented in audacity and scale. A resident reported seeing multiple bodies and bullet-scarred vehicles in the southern Israeli town of Sderot where groups of Hamas gunmen were still fighting Israeli troops 12 hours after the attack was launched.\\n. \"I went out, I saw loads of bodies of terrorists, civilians, cars shot up. A sea of bodies, inside Sderot along the road, other places, loads of bodies,\" Reuters quoted a resident from Sderot as saying.\\n. Hamas says enough captives to make Israel free all Palestinian prisoners\\n. Hamas deputy chief Saleh Al-Arouri told Al Jazeera that they have a \"big number of Israeli captives, among them senior officers\".\\n. \"Hamas had been expecting an Israeli operation against the group. We have have enough Israeli captives to make israel free all palestinian prisoners in its jails,\" he said.\\n. Israelis beg for help as Hamas militants barge into homes\\n. Israeli newspaper Haaretz reported that Israelis living in the south are \"begging\" the army to send security forces, saying they are desperate for help.\\n. “We are being slaughtered. There is no army. It has been 6 hours,” one Israeli in a southern Kibbutz was quoting as saying. “People are begging for their lives,” the individual said.\\n. A Tel Aviv resident said that militants barged into her sister\\'s home and that she is unable to reach her since. She added that despite many casualties in Kibbutz, police or Israeli army forces were nowhere to be seen.\\n. Israel strikes destroy several multi-storey buildings in Gaza\\n. An Israeli airstrike has flattened a high-rise building in central Gaza City. The 14-story Palestine Tower is home to dozens of families. But it also held offices connected to the Hamas and Islamic Jihad militant groups. Israel gave inhabitants a 10-minute warning before it destroyed the building, which was evacuated. There were no injuries.\\n. \\'Operation Al-Aqsa Flood\\'\\n. The conflict began with multiple rocket launches from different locations in the Palestinian territory, followed by air raid sirens across southern and central Israel.\\n. The armed wing of Hamas claimed responsibility for the rocket attacks, asserting that thousands of rockets had been launched, and Israeli forces reported an attempted seizure of an Israeli tank.\\n. Air raid sirens were activated in Israel, urging people to seek shelter in bomb shelters. Israeli air defense systems intercepted multiple rockets. Hamas announced \"Operation Al-Aqsa Flood\" and claimed to have launched over 5,000 rockets in the initial 20 minutes.\\n. Mayor of Israel town among killed\\n. The head of the Sha\\'ar Hanegev Regional Council, Ofir Liebstein, was killed in the deadly rocket fire from Hamas, The Times of Israel reported. \"Ofir was killed when he went to defend a town during the terrorist attack,\" the report said, quoting a statement from the Council.\\n. The deputy head of the Council, Yossi Keren, has taken interim charge of the body following Liebstein\\'s death. Meanwhile, four others have been reportedly killed in the attack so far.\\n. Siren heard as Gaza militants infiltrate Israel, launching rockets\\n. Israeli Prime Minister Benjamin Netanyahu declared that Israel is now in a state of \\'war\\' with Hamas militants who control the Gaza Strip. In a televised address, Netanyahu said he has initiated the mobilisation of reservists and vowed that Hamas will face consequences unlike anything it has experienced before.\\n. Netanyahu emphatically stated, \"We are at war,\" emphasising that it\\'s not merely an \\'operation\\' or a \\'round\\' but a full-fledged war. Additionally, he issued orders for the military to retake towns that had been infiltrated by Hamas militants, where ongoing gunfights with Israeli soldiers were occurring.\\n. In their first reaction, Israel\\'s Defense Minister, Yoav Gallant, had characterised the actions of the Palestinian militant group Hamas as a declaration of war against Israel. He stated that Israeli troops were engaged in combat across various locations.\\n. Israel\\'s military responded with airstrikes in Gaza, targeting the Hamas terrorist organisation\\'s assets within the region.\\n. Video: Israeli Prime Minister Benjamin Netanyahu\\'s first reaction after Hamas rocket attacks\\n. Hundreds of Gazans flee home\\n. Hundreds of residents in the Gaza Strip fled their homes to move away from the border with Israel after barrages of rockets were fired from the coastal enclave into Israel, AFP reported.\\n. Men, women and children were seen carrying blankets and food items as they left their homes, mostly in the northeastern part of the Palestinian territory.\\n. Islamist movement Hamas launches surprise attack as gunmen enter Israel\\n. India issues advisory for its nationals in Israel\\n. In view of the current situation in israel, all Indian nationals in Israel are requested to remain vigilant and observe safety protocols as advised by local authorities. Please exercise caution, avoid unnecessary movement, and stay close to safety shelters. For additional information, please see the Israeli Home Front Command or their preparedness brochure,\" said an advisory by the Indian government.\\n. They also provided with helpline number in case of emergency.\\n. Rise in violence in last two years\\n. Violence between Israel and the Palestinians has been on the rise for nearly two years, with a notable increase in casualties in the occupied West Bank.\\n. The escalation comes after weeks of heightened tensions along Israel’s volatile border with Gaza, and heavy fighting in the Israeli-occupied West Bank. It comes at a time when a number of Israeli soldiers are either pulling out of training sessions or claiming they won’t report for duty over Netanyahu\\'s far-right government’s deeply plan to weaken the Supreme Court.\\n. Internal divisions within the military ranks have posed a challenge to Netanyahu\\'s image as a security expert who would go to great lengths to safeguard Israel.'"
            ],
            "application/vnd.google.colaboratory.intrinsic+json": {
              "type": "string"
            }
          },
          "metadata": {},
          "execution_count": 21
        }
      ]
    },
    {
      "cell_type": "code",
      "source": [
        "def sentence_segment(text):\n",
        "    doc = nlp(text)\n",
        "    sentences = []\n",
        "    for sent in doc.sents:\n",
        "        sentences.append(sent)\n",
        "\n",
        "    return sentences\n",
        "\n",
        "sentences = sentence_segment(text)\n",
        "sentences[0]"
      ],
      "metadata": {
        "colab": {
          "base_uri": "https://localhost:8080/"
        },
        "id": "anACX_zdntOO",
        "outputId": "1cc18aa0-7a99-4d4b-8999-5bb5acfc7850"
      },
      "execution_count": null,
      "outputs": [
        {
          "output_type": "execute_result",
          "data": {
            "text/plain": [
              "Conflict between Israel & Palestinians in Gaza\n",
              "."
            ]
          },
          "metadata": {},
          "execution_count": 24
        }
      ]
    },
    {
      "cell_type": "markdown",
      "source": [
        "### **TF**"
      ],
      "metadata": {
        "id": "Lh2_llgLjKUU"
      }
    },
    {
      "cell_type": "code",
      "source": [
        "def lemmatize_sentence(sent: List, not_include_tokens: Set, remove_stop_words=True):\n",
        "    lemms = []\n",
        "    for token in sent:\n",
        "        if not token.is_stop and token.lemma_ not in not_include_tokens:\n",
        "            lemms.append(token.lemma_)\n",
        "\n",
        "    return lemms\n",
        "\n",
        "lemma_sentences = [\n",
        "    lemmatize_sentence(\n",
        "        sentences[i],\n",
        "        not_include_tokens=set([\"&\", \"!\", \"\\n\", \".\", \"?\"]),\n",
        "        remove_stop_words=True\n",
        "    ) for i in range(len(sentences))\n",
        "]\n",
        "lemma_sentences[0], len(lemma_sentences)"
      ],
      "metadata": {
        "colab": {
          "base_uri": "https://localhost:8080/"
        },
        "id": "X-gA3Y0ZloHa",
        "outputId": "5a5e52bb-a095-49a2-95be-dff91b2b3266"
      },
      "execution_count": null,
      "outputs": [
        {
          "output_type": "execute_result",
          "data": {
            "text/plain": [
              "(['conflict', 'Israel', 'Palestinians', 'Gaza'], 91)"
            ]
          },
          "metadata": {},
          "execution_count": 49
        }
      ]
    },
    {
      "cell_type": "code",
      "source": [
        "def tf_calculate(text):\n",
        "    tf = defaultdict(int)\n",
        "    for sent in sentence_segment(text):\n",
        "        for lemma in lemmatize_sentence(\n",
        "            sent,\n",
        "            not_include_tokens=set([\"&\", \"!\", \"\\n\", \".\", \"?\"]),\n",
        "            remove_stop_words=True\n",
        "        ):\n",
        "            tf[lemma]+=1\n",
        "\n",
        "    return tf\n",
        "\n",
        "tf = tf_calculate(text)\n",
        "len(tf)"
      ],
      "metadata": {
        "colab": {
          "base_uri": "https://localhost:8080/"
        },
        "id": "Ox-Wwt0ysy99",
        "outputId": "862a1553-bd6b-47aa-f4cc-a5eaf53aa4da"
      },
      "execution_count": null,
      "outputs": [
        {
          "output_type": "execute_result",
          "data": {
            "text/plain": [
              "396"
            ]
          },
          "metadata": {},
          "execution_count": 54
        }
      ]
    },
    {
      "cell_type": "code",
      "source": [
        "def scoring(text):\n",
        "    scores: List[int, int] = []\n",
        "    for i, sent in enumerate(sentence_segment(text)):\n",
        "        score = 0\n",
        "        for lemma in lemmatize_sentence(\n",
        "            sent,\n",
        "            not_include_tokens=set([\"&\", \"!\", \"\\n\", \".\", \"?\"]),\n",
        "            remove_stop_words=True\n",
        "        ):\n",
        "            score+=tf[lemma]\n",
        "        scores.append([score, i])\n",
        "\n",
        "    return scores\n",
        "\n",
        "scores = scoring(text)\n",
        "scores[:5]"
      ],
      "metadata": {
        "colab": {
          "base_uri": "https://localhost:8080/"
        },
        "id": "5tcMSF9Fl2Pn",
        "outputId": "763fa63d-d27b-47c6-ccfa-4c2a2bdd9124"
      },
      "execution_count": null,
      "outputs": [
        {
          "output_type": "execute_result",
          "data": {
            "text/plain": [
              "[[78, 0], [229, 1], [214, 2], [127, 3], [495, 4]]"
            ]
          },
          "metadata": {},
          "execution_count": 59
        }
      ]
    },
    {
      "cell_type": "code",
      "source": [
        "def main(text):\n",
        "    text = read_txt(text_file=\"/content/tiny_shakespeare.txt\")\n",
        "\n",
        "    sentences = sentence_segment(text)\n",
        "    tf = tf_calculate(text)\n",
        "    scores = scoring(text)\n",
        "\n",
        "    scores.sort(reverse=True)\n",
        "    percentage = 0.25\n",
        "\n",
        "    count_take = int(percentage*len(sentences))\n",
        "    count_take\n",
        "\n",
        "    poss = []\n",
        "    for score, pos in scores[:count_take]:\n",
        "        poss.append(pos)\n",
        "\n",
        "    poss.sort()\n",
        "\n",
        "    return '.'.join(str(sentences[pos]) for pos in poss)\n"
      ],
      "metadata": {
        "id": "AaYaB2I_uvTo"
      },
      "execution_count": null,
      "outputs": []
    },
    {
      "cell_type": "code",
      "source": [
        "summary = main(text)\n",
        "summary"
      ],
      "metadata": {
        "colab": {
          "base_uri": "https://localhost:8080/",
          "height": 244
        },
        "id": "midnNGYAwNM8",
        "outputId": "f52d0ae1-49b8-45ef-f8be-c50eeaccda7f"
      },
      "execution_count": null,
      "outputs": [
        {
          "output_type": "execute_result",
          "data": {
            "text/plain": [
              "'Hamas militant group has started a war that \\'Israel will win\\', defence minister says\\n..The ruling Hamas militant group in the Gaza Strip carried out an unprecedented, multi-front attack on Israel at daybreak on Saturday, firing thousands of rockets as dozens of Hamas fighters infiltrated the heavily fortified border in several locations by air, land and sea and catching the country off-guard on a major holiday.\\n..Palestinian militant group Hamas launched a large-scale surprise attack against Israel Saturday, firing thousands of rockets from Gaza and sending ground units to kill or abduct people as Israel retaliated with air strikes..Barrages of rockets were fired at Israel from the blockaded Gaza Strip at dawn on Saturday as militants from the Palestinian enclave infiltrated Israel, with at least one person killed, the army and medics said..Israeli PM Benjamin Netanyahu said Israel was at \\'war\\' with Palestinian militant group Hamas after barrages of rockets were fired from the Gaza Strip into Israel\\n..\"We are at war,\" Israeli Prime Minister Benjamin Netanyahu said in a televised address, declaring a mass mobilisation of the country\\'s army reserves..\"Not an operation,\\' not a round,\\' but at war..\"The enemy will pay an unprecedented price,\" he added, promising that Israel would \"return fire of a magnitude that the enemy has not known..Meanwhile, Palestinian President Mahmoud Abbas said on Saturday that the Palestinian people have the right to defend themselves against the \"terror of settlers and occupation troops\", the official news agency WAFA quoted him as saying.\\n..Bloodied bodies in the streets, gunmen raiding door-to-door and news of captives taken to Gaza left Israelis terrified and in shock after the Palestinian militant group Hamas launched a surprise attack that was unprecedented in audacity and scale..\"I went out, I saw loads of bodies of terrorists, civilians, cars shot up..A sea of bodies, inside Sderot along the road, other places, loads of bodies,\" Reuters quoted a resident from Sderot as saying.\\n..Hamas deputy chief Saleh Al-Arouri told Al Jazeera that they have a \"big number of Israeli captives, among them senior officers\".\\n..The conflict began with multiple rocket launches from different locations in the Palestinian territory, followed by air raid sirens across southern and central Israel.\\n..The armed wing of Hamas claimed responsibility for the rocket attacks, asserting that thousands of rockets had been launched, and Israeli forces reported an attempted seizure of an Israeli tank.\\n..The head of the Sha\\'ar Hanegev Regional Council, Ofir Liebstein, was killed in the deadly rocket fire from Hamas, The Times of Israel reported..\"Ofir was killed when he went to defend a town during the terrorist attack,\" the report said, quoting a statement from the Council.\\n..Netanyahu emphatically stated, \"We are at war,\" emphasising that it\\'s not merely an \\'operation\\' or a \\'round\\' but a full-fledged war..Additionally, he issued orders for the military to retake towns that had been infiltrated by Hamas militants, where ongoing gunfights with Israeli soldiers were occurring.\\n..In their first reaction, Israel\\'s Defense Minister, Yoav Gallant, had characterised the actions of the Palestinian militant group Hamas as a declaration of war against Israel..Hundreds of residents in the Gaza Strip fled their homes to move away from the border with Israel after barrages of rockets were fired from the coastal enclave into Israel, AFP reported.\\n..For additional information, please see the Israeli Home Front Command or their preparedness brochure,\" said an advisory by the Indian government.\\n.'"
            ],
            "application/vnd.google.colaboratory.intrinsic+json": {
              "type": "string"
            }
          },
          "metadata": {},
          "execution_count": 69
        }
      ]
    },
    {
      "cell_type": "code",
      "source": [],
      "metadata": {
        "id": "sZYey2A_wQoe"
      },
      "execution_count": null,
      "outputs": []
    }
  ]
}