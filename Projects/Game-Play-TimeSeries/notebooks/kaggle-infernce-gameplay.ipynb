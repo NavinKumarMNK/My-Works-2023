{
 "cells": [
  {
   "cell_type": "code",
   "execution_count": 1,
   "id": "74d56fd3",
   "metadata": {
    "execution": {
     "iopub.execute_input": "2023-05-24T06:03:47.815890Z",
     "iopub.status.busy": "2023-05-24T06:03:47.815486Z",
     "iopub.status.idle": "2023-05-24T06:03:51.233528Z",
     "shell.execute_reply": "2023-05-24T06:03:51.232023Z"
    },
    "papermill": {
     "duration": 3.428001,
     "end_time": "2023-05-24T06:03:51.236488",
     "exception": false,
     "start_time": "2023-05-24T06:03:47.808487",
     "status": "completed"
    },
    "tags": []
   },
   "outputs": [
    {
     "name": "stderr",
     "output_type": "stream",
     "text": [
      "/opt/conda/lib/python3.10/site-packages/scipy/__init__.py:146: UserWarning: A NumPy version >=1.16.5 and <1.23.0 is required for this version of SciPy (detected version 1.23.5\n",
      "  warnings.warn(f\"A NumPy version >={np_minversion} and <{np_maxversion}\"\n"
     ]
    }
   ],
   "source": [
    "import os\n",
    "import gc\n",
    "import sys\n",
    "import datetime\n",
    "import pickle\n",
    "import numpy as np\n",
    "import pandas as pd\n",
    "import polars as pl\n",
    "import lightgbm as lgbm\n",
    "import joblib\n",
    "\n",
    "from catboost import CatBoostClassifier, Pool"
   ]
  },
  {
   "cell_type": "code",
   "execution_count": 2,
   "id": "78c833ca",
   "metadata": {
    "execution": {
     "iopub.execute_input": "2023-05-24T06:03:51.248072Z",
     "iopub.status.busy": "2023-05-24T06:03:51.247604Z",
     "iopub.status.idle": "2023-05-24T06:03:51.879886Z",
     "shell.execute_reply": "2023-05-24T06:03:51.879002Z"
    },
    "papermill": {
     "duration": 0.641804,
     "end_time": "2023-05-24T06:03:51.883323",
     "exception": false,
     "start_time": "2023-05-24T06:03:51.241519",
     "status": "completed"
    },
    "tags": []
   },
   "outputs": [],
   "source": [
    "model_path = '/kaggle/input/models-kaggle/'\n",
    "models = []\n",
    "for q in range(1, 19):\n",
    "    with open(model_path+f'best_model_ques_{q}.pkl', 'rb') as f:\n",
    "        model = joblib.load(f)\n",
    "    models.append(model)\n",
    "    \n",
    "threshold = [\n",
    "    0.46875,# Catboost with F1=0.6414\n",
    "    0.375, # Catboost with F1=0.5336, 0.5 # LightGBM with F1=0.55\n",
    "    0.53125, # LightGBM with F1=0.568, 0.5390625 # Catboost with F1=0.56\n",
    "    0.4453125, # Catboost with F1=0.657\n",
    "    0.4921875, # Catboost with F1=0.637, 0.5234375 # LightGBM with F1=0.6336 -*-\n",
    "    0.453125, # Catboost with F1=0.6362, 0.4375 # Lightbgm with F1=0.6341 -*-\n",
    "    0.4765625, # Catboost with F1=0.6143\n",
    "    0.4765625, # Catboost with F1=0.5619 ~ LightGBM\n",
    "    0.4453125, # Catboost with F1=0.6239, 0.4921875 # LightGBM with F1=0.6177 (performs better)\n",
    "    0.515625, # Catboost with F1=0.6167\n",
    "    0.4921875, # Catboost with F1=0.5969 ~ LightGBM\n",
    "    0.4609375, # Catboost with F1=0.5767\n",
    "    0.5546875, # Catboost with F1=0.6213\n",
    "    0.484375, # Catboost with F1=0.629\n",
    "    0.5, # Catboost with F1=0.6351 ~ LightGBM\n",
    "    0.5, # LightGBM with F1=0.5421\n",
    "    0.4765625, # LightGBM with F1=0.5529 ~ Catbooost Performs Better But(test) 0.484375 with F1=0.5458 \n",
    "    0.5, #LightGBM with F1=0.5728, Catboost 0.4765625 with F1=0.567\n",
    "]\n"
   ]
  },
  {
   "cell_type": "code",
   "execution_count": 3,
   "id": "a442d268",
   "metadata": {
    "execution": {
     "iopub.execute_input": "2023-05-24T06:03:51.895631Z",
     "iopub.status.busy": "2023-05-24T06:03:51.894514Z",
     "iopub.status.idle": "2023-05-24T06:03:51.915366Z",
     "shell.execute_reply": "2023-05-24T06:03:51.914132Z"
    },
    "papermill": {
     "duration": 0.030285,
     "end_time": "2023-05-24T06:03:51.918532",
     "exception": false,
     "start_time": "2023-05-24T06:03:51.888247",
     "status": "completed"
    },
    "tags": []
   },
   "outputs": [],
   "source": [
    "def feature_engineer(df):\n",
    "    columns = [\n",
    "        pl.col(\"page\").cast(pl.Int8),\n",
    "        pl.col(\"level\").cast(pl.Int8),\n",
    "        pl.col(\"fullscreen\").cast(pl.Int8),\n",
    "        pl.col(\"hq\").cast(pl.Int8),\n",
    "        pl.col(\"music\").cast(pl.Int8),\n",
    "        pl.col(\"index\").cast(pl.UInt16),\n",
    "        (\n",
    "            pl.when(pl.col(\"hover_duration\").is_null())\n",
    "            .then(0)\n",
    "            .otherwise(1)\n",
    "            .alias(\"is_hover\")\n",
    "            .cast(pl.Int8)\n",
    "        ),\n",
    "        (\n",
    "            pl.when(pl.col(\"room_coor_x\").is_null())\n",
    "            .then(0)\n",
    "            .otherwise(1)\n",
    "            .alias(\"is_click\")\n",
    "            .cast(pl.Int8)\n",
    "        ),\n",
    "        (\n",
    "            pl.when(pl.col(\"page\").is_null())\n",
    "            .then(0)\n",
    "            .otherwise(1)\n",
    "            .alias(\"is_page\")\n",
    "            .cast(pl.Int8)\n",
    "        ),\n",
    "        (\n",
    "            (pl.col(\"elapsed_time\") - pl.col(\"elapsed_time\").shift(1))\n",
    "            .fill_null(0)\n",
    "            .clip(0, 1e9)\n",
    "            .over([\"session_id\", \"level\"])\n",
    "            .alias(\"elapsed_time_diff\")\n",
    "        ),\n",
    "        (\n",
    "            (pl.col(\"screen_coor_x\") - pl.col(\"screen_coor_x\").shift(1))\n",
    "            .abs()\n",
    "            .over([\"session_id\", \"level\"])\n",
    "            .alias(\"screen_corr_x_dff\")\n",
    "        ),\n",
    "        (\n",
    "            (pl.col(\"screen_coor_y\") - pl.col(\"screen_coor_y\").shift(1))\n",
    "            .abs()\n",
    "            .over([\"session_id\", \"level\"])\n",
    "            .alias(\"screen_corr_y_dff\")\n",
    "        ),\n",
    "        (\n",
    "            (pl.col(\"room_coor_x\") - pl.col(\"room_coor_x\").shift(1))\n",
    "            .abs()\n",
    "            .over([\"session_id\", \"level\"])\n",
    "            .alias(\"room_corr_x_diff\")\n",
    "        ),\n",
    "        (\n",
    "            (pl.col(\"room_coor_y\") - pl.col(\"room_coor_y\").shift(1))\n",
    "            .abs()\n",
    "            .over([\"session_id\", \"level\"])\n",
    "            .alias(\"room_corr_y_diff\")\n",
    "        )\n",
    "    ]\n",
    "    \n",
    "    df = (df.with_columns(columns))\n",
    "    \n",
    "    df = df.with_columns([\n",
    "        pl.col('fqid').fill_null('fqid_None'),\n",
    "    ])\n",
    "\n",
    "    df = df.with_columns([\n",
    "        pl.col('text_fqid').fill_null('text_fqid_None'),\n",
    "    ])\n",
    "\n",
    "    df = df.with_columns([\n",
    "        pl.col('page').fill_null(-1),\n",
    "    ])\n",
    "    \n",
    "    def extract_text_feature(df: pl.DataFrame) -> pl.DataFrame:\n",
    "        dfs = []\n",
    "        cc = ['question', 'exclamatory', 'comma', 'unicode']\n",
    "        i = 0\n",
    "        for c in ['\\?', '!', ',', '\\\\\\\\u0']:\n",
    "            tmp = df['text'].str.contains(c).cast(pl.UInt8).rename(f\"text_{cc[i]}\")\n",
    "            dfs.append(tmp)\n",
    "            i+=1\n",
    "\n",
    "        tmp_full_stop = df['text'].str.contains(r'\\.').cast(pl.UInt8).rename(\"text_full_stop\")\n",
    "        tmp_ellipsis = df['text'].str.contains(r'\\.\\.\\.').cast(pl.UInt8).rename(\"text_ellipsis\")\n",
    "\n",
    "        dfs.append(tmp_full_stop)\n",
    "        dfs.append(tmp_ellipsis)\n",
    "\n",
    "        tmp = df['text'].str.n_chars().eq(0).cast(pl.UInt8).rename(\"text_empty\")\n",
    "\n",
    "        dfs = pl.DataFrame(dfs)\n",
    "        dfs = pl.concat([df, dfs], how=\"horizontal\")\n",
    "        return dfs\n",
    "\n",
    "    df = extract_text_feature(df)\n",
    "    return df"
   ]
  },
  {
   "cell_type": "code",
   "execution_count": 4,
   "id": "1b1ec9c8",
   "metadata": {
    "execution": {
     "iopub.execute_input": "2023-05-24T06:03:51.930665Z",
     "iopub.status.busy": "2023-05-24T06:03:51.929460Z",
     "iopub.status.idle": "2023-05-24T06:03:51.937738Z",
     "shell.execute_reply": "2023-05-24T06:03:51.936392Z"
    },
    "papermill": {
     "duration": 0.017445,
     "end_time": "2023-05-24T06:03:51.940810",
     "exception": false,
     "start_time": "2023-05-24T06:03:51.923365",
     "status": "completed"
    },
    "tags": []
   },
   "outputs": [],
   "source": [
    "CATS = ['event_name', 'name', 'fqid', 'room_fqid', 'text_fqid', 'level', 'page'] \n",
    "NUMS = ['room_coor_x', 'room_coor_y', 'screen_coor_x', \n",
    "        'screen_coor_y', 'hover_duration', 'elapsed_time_diff',\n",
    "        'screen_corr_x_dff', 'screen_corr_y_dff', 'room_corr_x_diff', 'room_corr_y_diff']\n",
    "SNO = ['session_id', 'index']\n",
    "LEVEL = {\n",
    "    '0-4'  : [0, 1, 2, 3, 4],\n",
    "    '5-12' : [5, 6, 7, 8, 9, 10, 11, 12],\n",
    "    '13-22': [13, 14, 15, 16, 17, 18, 19, 20, 21, 22],\n",
    "}\n",
    "DATE = [ 'year', 'month', 'day', 'hour', 'minute', 'second']\n",
    "DUO = [\"is_click\", \"is_page\", \"is_hover\"]\n",
    "TEXT = [\"text_\\?\", \"text_!\", \"text_,\", \"text_\\\\u0\", \"text_\\.\"]"
   ]
  },
  {
   "cell_type": "code",
   "execution_count": 5,
   "id": "d3157b02",
   "metadata": {
    "execution": {
     "iopub.execute_input": "2023-05-24T06:03:51.953363Z",
     "iopub.status.busy": "2023-05-24T06:03:51.952417Z",
     "iopub.status.idle": "2023-05-24T06:03:51.985272Z",
     "shell.execute_reply": "2023-05-24T06:03:51.984073Z"
    },
    "papermill": {
     "duration": 0.042571,
     "end_time": "2023-05-24T06:03:51.988372",
     "exception": false,
     "start_time": "2023-05-24T06:03:51.945801",
     "status": "completed"
    },
    "tags": []
   },
   "outputs": [],
   "source": [
    "class GRP_0_4:\n",
    "    def __init__(self):\n",
    "        self.EVENT_NAME = ['person_click', 'object_hover', 'map_click', 'notebook_click', 'checkpoint', 'notification_click', 'object_click', 'navigate_click', 'cutscene_click', 'observation_click', 'map_hover']\n",
    "        self.NAME = ['open', 'next', 'prev', 'close', 'basic', 'undefined']\n",
    "        self.FQID = ['block_tocollection', 'tostacks', 'directory', 'chap1_finale', 'report', 'notebook', 'tocloset', 'plaque', 'tunic.kohlcenter', 'photo', 'doorblock', 'tomap', 'block_0', 'wells', 'intro', 'tunic', 'tunic.capitol_0', 'tunic.historicalsociety', 'boss', 'block_tomap2', 'tocollection', 'outtolunch', 'block_tomap1', 'tobasement', 'toentry', 'groupconvo', 'gramps', 'teddy', 'tunic.hub.slip', 'fqid_None', 'janitor', 'plaque.face.date', 'togrampa', 'retirement_letter', 'chap1_finale_c', 'cs']\n",
    "        self.ROOM_FQID = ['tunic.historicalsociety.stacks', 'tunic.historicalsociety.entry', 'tunic.capitol_0.hall', 'tunic.historicalsociety.basement', 'tunic.historicalsociety.closet', 'tunic.historicalsociety.collection', 'tunic.kohlcenter.halloffame']\n",
    "        self.TEXT_FQID = ['tunic.historicalsociety.closet.intro', 'tunic.historicalsociety.closet.photo', 'tunic.historicalsociety.closet.teddy.intro_0_cs_5', 'tunic.historicalsociety.closet.retirement_letter.hub', 'tunic.historicalsociety.closet.doorblock', 'tunic.historicalsociety.entry.wells.talktogramps', 'tunic.capitol_0.hall.chap1_finale_c', 'tunic.kohlcenter.halloffame.block_0', 'tunic.historicalsociety.closet.notebook', 'text_fqid_None', 'tunic.historicalsociety.basement.janitor', 'tunic.historicalsociety.collection.tunic.slip', 'tunic.historicalsociety.collection.tunic', 'tunic.historicalsociety.collection.gramps.found', 'tunic.historicalsociety.entry.block_tocollection', 'tunic.kohlcenter.halloffame.plaque.face.date', 'tunic.historicalsociety.collection.gramps.lost', 'tunic.historicalsociety.collection.gramps.look_0', 'tunic.historicalsociety.stacks.outtolunch', 'tunic.historicalsociety.entry.block_tomap1', 'tunic.historicalsociety.closet.teddy.intro_0_cs_0', 'tunic.historicalsociety.entry.boss.talktogramps', 'tunic.kohlcenter.halloffame.togrampa', 'tunic.historicalsociety.entry.block_tomap2', 'tunic.historicalsociety.collection.cs', 'tunic.historicalsociety.entry.gramps.hub', 'tunic.historicalsociety.entry.groupconvo', 'tunic.historicalsociety.closet.gramps.intro_0_cs_0']\n",
    "        self.LEVEL = [0, 1, 2, 3, 4]\n",
    "        self.PAGE = [-1, 0, 1]\n",
    "\n",
    "class GRP_5_12:\n",
    "    def __init__(self):\n",
    "        self.EVENT_NAME = ['person_click', 'object_hover', 'map_click', 'notebook_click', 'checkpoint', 'notification_click', 'object_click', 'navigate_click', 'cutscene_click', 'observation_click', 'map_hover']\n",
    "        self.NAME = ['open', 'next', 'prev', 'close', 'basic', 'undefined']\n",
    "        self.FQID = ['trigger_scarf', 'tocollection', 'businesscards', 'businesscards.card_1.next', 'tunic.capitol_1', 'tofrontdesk', 'block_badge', 'block_1', 'tunic.historicalsociety', 'block_0', 'businesscards.card_bingo.bingo', 'block', 'reader.paper1.next', 'journals', 'boss', 'tohallway', 'tunic.library', 'reader.paper1.prev', 'tomap', 'tunic.humanecology', 'plaque', 'tunic', 'tunic.capitol_0', 'chap2_finale', 'door_block_clean', 'block_magnify', 'logbook.page.bingo', 'journals.pic_0.next', 'tobasement', 'logbook', 'tocloset_dirty', 'door_block_talk', 'reader.paper2.next', 'tostacks', 'photo', 'archivist', 'block_badge_2', 'reader.paper2.bingo', 'janitor', 'journals.pic_1.next', 'tunic.hub.slip', 'chap2_finale_c', 'journals.hub.topics', 'tunic.kohlcenter', 'directory', 'gramps', 'journals.pic_2.bingo', 'worker', 'outtolunch', 'tomicrofiche', 'businesscards.card_bingo.next', 'trigger_coffee', 'toentry', 'what_happened', 'journals.pic_2.next', 'fqid_None', 'magnify', 'reader.paper0.prev', 'wellsbadge', 'tunic.drycleaner', 'reader', 'reader.paper2.prev', 'businesscards.card_0.next', 'reader.paper0.next']\n",
    "        self.ROOM_FQID = ['tunic.library.microfiche', 'tunic.historicalsociety.entry', 'tunic.capitol_0.hall', 'tunic.historicalsociety.stacks', 'tunic.historicalsociety.collection', 'tunic.historicalsociety.frontdesk', 'tunic.historicalsociety.basement', 'tunic.drycleaner.frontdesk', 'tunic.kohlcenter.halloffame', 'tunic.humanecology.frontdesk', 'tunic.library.frontdesk', 'tunic.capitol_1.hall', 'tunic.historicalsociety.closet_dirty']\n",
    "        self.TEXT_FQID = ['tunic.historicalsociety.closet_dirty.trigger_scarf', 'tunic.historicalsociety.closet_dirty.photo', 'tunic.library.frontdesk.block_badge_2', 'tunic.historicalsociety.closet_dirty.what_happened', 'tunic.library.frontdesk.worker.wells_recap', 'tunic.historicalsociety.frontdesk.magnify', 'tunic.historicalsociety.frontdesk.archivist.foundtheodora', 'tunic.library.frontdesk.wellsbadge.hub', 'tunic.humanecology.frontdesk.worker.intro', 'tunic.drycleaner.frontdesk.worker.done2', 'tunic.historicalsociety.frontdesk.archivist.newspaper', 'tunic.library.frontdesk.worker.droppedbadge', 'tunic.humanecology.frontdesk.block_0', 'tunic.historicalsociety.closet_dirty.trigger_coffee', 'tunic.historicalsociety.closet_dirty.gramps.news', 'tunic.library.frontdesk.worker.hello_short', 'tunic.historicalsociety.stacks.outtolunch', 'tunic.historicalsociety.frontdesk.archivist.need_glass_1', 'tunic.capitol_1.hall.chap2_finale_c', 'tunic.historicalsociety.frontdesk.archivist.have_glass', 'tunic.historicalsociety.frontdesk.block_magnify', 'tunic.drycleaner.frontdesk.worker.hub', 'tunic.historicalsociety.closet_dirty.door_block_talk', 'tunic.historicalsociety.frontdesk.archivist.hello', 'tunic.library.frontdesk.worker.hello', 'tunic.historicalsociety.closet_dirty.gramps.helpclean', 'tunic.library.frontdesk.worker.wells', 'tunic.historicalsociety.stacks.block', 'text_fqid_None', 'tunic.historicalsociety.basement.janitor', 'tunic.drycleaner.frontdesk.block_0', 'tunic.historicalsociety.closet_dirty.gramps.nothing', 'tunic.capitol_0.hall.boss.talktogramps', 'tunic.historicalsociety.stacks.journals.pic_2.bingo', 'tunic.historicalsociety.closet_dirty.gramps.archivist', 'tunic.historicalsociety.frontdesk.archivist.have_glass_recap', 'tunic.drycleaner.frontdesk.worker.done', 'tunic.drycleaner.frontdesk.logbook.page.bingo', 'tunic.library.microfiche.block_0', 'tunic.capitol_1.hall.boss.haveyougotit', 'tunic.drycleaner.frontdesk.block_1', 'tunic.library.frontdesk.block_badge', 'tunic.humanecology.frontdesk.worker.badger', 'tunic.historicalsociety.closet_dirty.door_block_clean', 'tunic.humanecology.frontdesk.businesscards.card_bingo.bingo', 'tunic.drycleaner.frontdesk.worker.takealook', 'tunic.library.frontdesk.worker.preflag', 'tunic.humanecology.frontdesk.block_1', 'tunic.historicalsociety.frontdesk.archivist.newspaper_recap', 'tunic.historicalsociety.frontdesk.archivist.need_glass_0', 'tunic.library.microfiche.reader.paper2.bingo']\n",
    "        self.LEVEL = [5, 6, 7, 8, 9, 10, 11, 12]\n",
    "        self.PAGE = [-1, 0, 1, 2, 3]\n",
    "\n",
    "class GRP_13_22:\n",
    "    def __init__(self):\n",
    "        self.EVENT_NAME = ['person_click', 'object_hover', 'map_click', 'notebook_click', 'checkpoint', 'notification_click', 'object_click', 'navigate_click', 'cutscene_click', 'observation_click', 'map_hover']\n",
    "        self.NAME = ['open', 'next', 'prev', 'close', 'basic', 'undefined']\n",
    "        self.FQID = ['tunic.wildlife', 'wells', 'businesscards.card_1.next', 'tunic', 'reader_flag.paper0.next', 'journals_flag.pic_0.next', 'journals_flag.pic_2.next', 'tunic.historicalsociety', 'logbook', 'tunic.kohlcenter', 'journals_flag.pic_2.bingo', 'gramps', 'reader_flag.paper1.prev', 'tomap', 'journals_flag.pic_1.next', 'journals_flag.hub.topics_old', 'journals.pic_2.next', 'businesscards.card_0.next', 'boss', 'tocollection', 'fox', 'expert', 'block_nelson', 'reader', 'need_glasses', 'journals_flag.pic_0_old.next', 'tunic.humanecology', 'photo', 'tracks.hub.deer', 'journals_flag.pic_0.bingo', 'reader_flag.paper2.prev', 'tunic.hub.slip', 'crane_ranger', 'journals_flag.pic_1_old.next', 'directory.closeup.archivist', 'journals_flag.pic_2_old.next', 'teddy', 'tofrontdesk', 'reader_flag.paper0.prev', 'businesscards', 'reader.paper1.prev', 'tostacks', 'colorbook', 'businesscards.card_bingo.next', 'reader.paper2.prev', 'reader_flag.paper1.next', 'tunic.flaghouse', 'journals.pic_0.next', 'journals.pic_2.bingo', 'plaque', 'reader_flag.paper2.bingo', 'tracks', 'key', 'tobasement', 'tunic.capitol_1', 'tunic.drycleaner', 'chap4_finale_c', 'ch3start', 'groupconvo_flag', 'journals_flag.hub.topics', 'tunic.capitol_2', 'outtolunch', 'worker', 'toentry', 'confrontation', 'glasses', 'unlockdoor', 'reader_flag.paper2.next', 'journals', 'reader.paper1.next', 'archivist_glasses', 'journals.hub.topics', 'tocloset_dirty', 'tocage', 'reader_flag', 'directory', 'reader.paper0.next', 'reader.paper2.next', 'tocollectionflag', 'seescratches', 'fqid_None', 'remove_cup', 'journals_flag.pic_1.bingo', 'reader.paper0.prev', 'tunic.library', 'tohallway', 'journals_flag', 'tomicrofiche', 'flag_girl', 'savedteddy', 'journals.pic_1.next', 'lockeddoor', 'coffee']\n",
    "        self.ROOM_FQID = ['tunic.capitol_1.hall', 'tunic.capitol_2.hall', 'tunic.historicalsociety.stacks', 'tunic.humanecology.frontdesk', 'tunic.historicalsociety.cage', 'tunic.historicalsociety.basement', 'tunic.historicalsociety.entry', 'tunic.library.microfiche', 'tunic.historicalsociety.frontdesk', 'tunic.historicalsociety.collection_flag', 'tunic.drycleaner.frontdesk', 'tunic.library.frontdesk', 'tunic.historicalsociety.collection', 'tunic.wildlife.center', 'tunic.flaghouse.entry', 'tunic.historicalsociety.closet_dirty', 'tunic.kohlcenter.halloffame']\n",
    "        self.TEXT_FQID = ['tunic.library.frontdesk.worker.preflag', 'tunic.drycleaner.frontdesk.worker.done2', 'tunic.wildlife.center.wells.animals', 'tunic.historicalsociety.frontdesk.archivist_glasses.confrontation', 'tunic.historicalsociety.closet_dirty.photo', 'tunic.historicalsociety.cage.lockeddoor', 'tunic.library.frontdesk.worker.flag_recap', 'tunic.historicalsociety.cage.glasses.afterteddy', 'tunic.historicalsociety.stacks.journals_flag.pic_2.bingo', 'tunic.historicalsociety.stacks.outtolunch', 'tunic.historicalsociety.entry.boss.flag', 'tunic.historicalsociety.basement.seescratches', 'tunic.wildlife.center.wells.animals2', 'tunic.library.frontdesk.worker.flag', 'tunic.historicalsociety.basement.gramps.whatdo', 'tunic.flaghouse.entry.flag_girl.symbol', 'tunic.historicalsociety.stacks.journals.pic_2.bingo', 'tunic.wildlife.center.crane_ranger.crane', 'tunic.historicalsociety.collection_flag.gramps.recap', 'tunic.wildlife.center.fox.concern', 'tunic.wildlife.center.expert.removed_cup', 'tunic.wildlife.center.wells.nodeer_recap', 'tunic.historicalsociety.stacks.journals_flag.pic_0.bingo', 'tunic.historicalsociety.basement.savedteddy', 'tunic.capitol_2.hall.chap4_finale_c', 'tunic.historicalsociety.stacks.journals_flag.pic_1.bingo', 'tunic.historicalsociety.basement.ch3start', 'tunic.historicalsociety.cage.glasses.beforeteddy', 'tunic.historicalsociety.cage.confrontation', 'tunic.capitol_1.hall.boss.writeitup', 'tunic.historicalsociety.frontdesk.key', 'tunic.historicalsociety.cage.teddy.trapped', 'tunic.flaghouse.entry.flag_girl.hello_recap', 'tunic.library.frontdesk.worker.nelson_recap', 'tunic.historicalsociety.frontdesk.archivist_glasses.confrontation_recap', 'tunic.wildlife.center.wells.nodeer', 'tunic.historicalsociety.cage.unlockdoor', 'tunic.historicalsociety.cage.need_glasses', 'tunic.library.microfiche.reader_flag.paper2.bingo', 'tunic.wildlife.center.tracks.hub.deer', 'tunic.historicalsociety.basement.gramps.seeyalater', 'tunic.historicalsociety.entry.wells.flag_recap', 'tunic.library.frontdesk.worker.nelson', 'tunic.flaghouse.entry.flag_girl.symbol_recap', 'tunic.library.frontdesk.block_nelson', 'tunic.historicalsociety.entry.groupconvo_flag', 'tunic.wildlife.center.expert.recap', 'tunic.flaghouse.entry.flag_girl.hello', 'tunic.historicalsociety.entry.wells.flag', 'text_fqid_None', 'tunic.wildlife.center.remove_cup', 'tunic.humanecology.frontdesk.worker.badger', 'tunic.flaghouse.entry.colorbook', 'tunic.wildlife.center.coffee', 'tunic.capitol_2.hall.boss.haveyougotit', 'tunic.historicalsociety.entry.boss.flag_recap', 'tunic.historicalsociety.entry.directory.closeup.archivist', 'tunic.historicalsociety.collection_flag.gramps.flag']\n",
    "        self.LEVEL = [13, 14, 15, 16, 17, 18, 19, 20, 21, 22]\n",
    "        self.PAGE = [-1, 0, 1, 2, 3, 4, 5, 6]"
   ]
  },
  {
   "cell_type": "code",
   "execution_count": 6,
   "id": "345fadb0",
   "metadata": {
    "execution": {
     "iopub.execute_input": "2023-05-24T06:03:52.000637Z",
     "iopub.status.busy": "2023-05-24T06:03:51.999514Z",
     "iopub.status.idle": "2023-05-24T06:03:52.021746Z",
     "shell.execute_reply": "2023-05-24T06:03:52.020341Z"
    },
    "papermill": {
     "duration": 0.031795,
     "end_time": "2023-05-24T06:03:52.025069",
     "exception": false,
     "start_time": "2023-05-24T06:03:51.993274",
     "status": "completed"
    },
    "tags": []
   },
   "outputs": [],
   "source": [
    "def model_data_1(x:pl.DataFrame, group:str):\n",
    "    if group==\"0-4\":\n",
    "        grp = GRP_0_4()\n",
    "    elif group==\"5-12\":\n",
    "        grp = GRP_5_12()\n",
    "    elif group==\"13-22\":\n",
    "        grp = GRP_13_22()\n",
    "        \n",
    "    aggs = [pl.col(\"index\").count().alias(f\"session_number\")]\n",
    "    for cat in CATS:\n",
    "        if cat == 'event_name':\n",
    "            item = grp.EVENT_NAME\n",
    "        elif cat == 'name':\n",
    "            item = grp.NAME\n",
    "        elif cat == 'text_fqid':\n",
    "            item = grp.TEXT_FQID\n",
    "        elif cat == 'level':\n",
    "            item = grp.LEVEL\n",
    "        elif cat == 'page':\n",
    "            item = grp.PAGE\n",
    "        elif cat == 'fqid':\n",
    "            item = grp.FQID\n",
    "        elif cat == 'room_fqid':\n",
    "            item = grp.ROOM_FQID\n",
    "        \n",
    "        # for every attribute in the item list, count the number of times it appears in the session and create a column for it \n",
    "        aggs.extend([\n",
    "            pl.col(cat)\n",
    "              .filter(pl.col(cat) == c)\n",
    "              .count()\n",
    "              .alias(f\"{c}_{cat}_counts\")\n",
    "              for c in item\n",
    "            ])\n",
    "    \n",
    "    BI_CAT = ['fullscreen', 'hq', 'music']\n",
    "    for col in BI_CAT:\n",
    "        aggs.append(pl.col(col).max().alias(f\"is_{col}\"))\n",
    "    \n",
    "    for bi in DUO:\n",
    "        aggs.extend([\n",
    "            pl.col(bi)\n",
    "            .filter(pl.col(bi) == c)\n",
    "            .count()\n",
    "            .alias(f\"{c}_{bi}_counts\")\n",
    "            for c in x[bi].unique().to_pandas().to_list()\n",
    "        ])\n",
    "    for num in NUMS:\n",
    "        aggs.extend([\n",
    "            pl.col(num)\n",
    "            .std()\n",
    "            .alias(f\"{num}_std\")\n",
    "        ])\n",
    "        aggs.extend([\n",
    "            pl.col(num)\n",
    "            .mean()\n",
    "            .alias(f\"{num}_mean\")\n",
    "        ])\n",
    "        aggs.extend([\n",
    "            pl.col(num)\n",
    "            .sum()\n",
    "            .alias(f\"{num}_sum\")\n",
    "        ])\n",
    "\n",
    "    for num in list(filter(lambda x: x not in \n",
    "                ['elapsed_time_diff', 'screen_corr_x_dff', 'screen_corr_y_dff', \n",
    "                 'room_corr_x_diff', 'room_corr_y_diff'], NUMS)):\n",
    "        aggs.extend([\n",
    "            pl.col(num)\n",
    "            .max()\n",
    "            .alias(f\"{num}_max\")\n",
    "        ])\n",
    "        aggs.extend([\n",
    "            pl.col(num)\n",
    "            .min()\n",
    "            .alias(f\"{num}_min\")\n",
    "        ])\n",
    "\n",
    "    x = x.groupby(\"session_id\").agg(aggs).sort(\"session_id\")\n",
    "    x = x.drop(['0_is_click_counts', '0_is_page_counts', '0_is_hover_counts']\n",
    "              )\n",
    "    \n",
    "    \n",
    "    x = x.rename({\n",
    "            \"1_is_click_counts\" : \"click_counts\",\n",
    "            \"1_is_page_counts\" : \"page_counts\",\n",
    "            \"1_is_hover_counts\" : \"hover_counts\"\n",
    "        })\n",
    "\n",
    "    x = x.with_columns(\n",
    "        pl.col(['is_hq']).cast(pl.UInt8),\n",
    "        pl.col(['is_fullscreen']).cast(pl.UInt8),\n",
    "        pl.col(['is_music']).cast(pl.UInt8),\n",
    "        pl.col('session_id').apply(lambda x: int(str(x)[:2])).cast(pl.UInt8).alias('year'),\n",
    "        pl.col('session_id').apply(lambda x: int(str(x)[2:4])+1).cast(pl.UInt8).alias('month'),\n",
    "        pl.col('session_id').apply(lambda x: int(str(x)[4:6])).cast(pl.UInt8).alias('day'),\n",
    "        pl.col('session_id').apply(lambda x: int(str(x)[6:8])).cast(pl.UInt8).alias('hour'),\n",
    "        #pl.col('session_id').apply(lambda x: int(str(x)[8:10])).cast(pl.Int8).alias('minute'),\n",
    "        #pl.col('session_id').apply(lambda x: int(str(x)[10:12])).cast(pl.Int8).alias('second'),\n",
    "    )\n",
    "    x = x.sort(\"session_id\")\n",
    "    x = x.to_pandas()\n",
    "    x = x.set_index(\"session_id\")\n",
    "    \n",
    "    return x"
   ]
  },
  {
   "cell_type": "markdown",
   "id": "e5a07fc2",
   "metadata": {
    "execution": {
     "iopub.status.busy": "2023-05-23T14:00:27.725624Z",
     "iopub.status.idle": "2023-05-23T14:00:27.726207Z",
     "shell.execute_reply": "2023-05-23T14:00:27.726006Z",
     "shell.execute_reply.started": "2023-05-23T14:00:27.725985Z"
    },
    "papermill": {
     "duration": 0.004405,
     "end_time": "2023-05-24T06:03:52.034447",
     "exception": false,
     "start_time": "2023-05-24T06:03:52.030042",
     "status": "completed"
    },
    "tags": []
   },
   "source": [
    "## **Inference**"
   ]
  },
  {
   "cell_type": "code",
   "execution_count": 7,
   "id": "8e1ee2d3",
   "metadata": {
    "_cell_guid": "b1076dfc-b9ad-4769-8c92-a6c4dae69d19",
    "_uuid": "8f2839f25d086af736a60e9eeb907d3b93b6e0e5",
    "execution": {
     "iopub.execute_input": "2023-05-24T06:03:52.045364Z",
     "iopub.status.busy": "2023-05-24T06:03:52.044992Z",
     "iopub.status.idle": "2023-05-24T06:03:52.076736Z",
     "shell.execute_reply": "2023-05-24T06:03:52.075317Z"
    },
    "papermill": {
     "duration": 0.040761,
     "end_time": "2023-05-24T06:03:52.079815",
     "exception": false,
     "start_time": "2023-05-24T06:03:52.039054",
     "status": "completed"
    },
    "tags": []
   },
   "outputs": [],
   "source": [
    "import jo_wilder_310\n",
    "env = jo_wilder_310.make_env()\n",
    "iter_test = env.iter_test()"
   ]
  },
  {
   "cell_type": "code",
   "execution_count": 8,
   "id": "7ddff56e",
   "metadata": {
    "execution": {
     "iopub.execute_input": "2023-05-24T06:03:52.091288Z",
     "iopub.status.busy": "2023-05-24T06:03:52.090890Z",
     "iopub.status.idle": "2023-05-24T06:03:53.340036Z",
     "shell.execute_reply": "2023-05-24T06:03:53.338677Z"
    },
    "papermill": {
     "duration": 1.258433,
     "end_time": "2023-05-24T06:03:53.343185",
     "exception": false,
     "start_time": "2023-05-24T06:03:52.084752",
     "status": "completed"
    },
    "tags": []
   },
   "outputs": [
    {
     "name": "stdout",
     "output_type": "stream",
     "text": [
      "This version of the API is not optimized and should not be used to estimate the runtime of your code on the hidden test set.\n",
      "Run in  0:00:01.238377\n"
     ]
    }
   ],
   "source": [
    "limits = {'0-4':(1,4), '5-12':(4,14), '13-22':(14,19)}\n",
    "t1 = datetime.datetime.now()\n",
    "for (test, sample_submission) in iter_test:\n",
    "    print\n",
    "    test = test.sort_values(by='index')\n",
    "    grp = test.level_group.values[0]\n",
    "    session_id = test.session_id.values[0]\n",
    "    df = (pl.from_pandas(test))\n",
    "    df = feature_engineer(df)\n",
    "    a,b = limits[grp]\n",
    "\n",
    "    df = model_data_1(df, grp)\n",
    "    preds = []\n",
    "    for q in range(a, b):\n",
    "        model = models[q-1]   \n",
    "        pred = model.predict_proba(df)[0, 1]\n",
    "        mask = sample_submission.session_id.str.contains(f'q{q}')\n",
    "        sample_submission.loc[mask,'correct'] = int(pred > threshold[q-1]) \n",
    "    env.predict(sample_submission)\n",
    "    \n",
    "t2 = datetime.datetime.now()\n",
    "print('Run in ', t2-t1)"
   ]
  }
 ],
 "metadata": {
  "kernelspec": {
   "display_name": "Python 3",
   "language": "python",
   "name": "python3"
  },
  "language_info": {
   "codemirror_mode": {
    "name": "ipython",
    "version": 3
   },
   "file_extension": ".py",
   "mimetype": "text/x-python",
   "name": "python",
   "nbconvert_exporter": "python",
   "pygments_lexer": "ipython3",
   "version": "3.10.10"
  },
  "papermill": {
   "default_parameters": {},
   "duration": 20.908143,
   "end_time": "2023-05-24T06:03:55.786911",
   "environment_variables": {},
   "exception": null,
   "input_path": "__notebook__.ipynb",
   "output_path": "__notebook__.ipynb",
   "parameters": {},
   "start_time": "2023-05-24T06:03:34.878768",
   "version": "2.4.0"
  }
 },
 "nbformat": 4,
 "nbformat_minor": 5
}
