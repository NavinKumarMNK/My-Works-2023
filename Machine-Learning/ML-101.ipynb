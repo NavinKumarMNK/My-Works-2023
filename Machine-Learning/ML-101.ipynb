{
 "cells": [
  {
   "cell_type": "markdown",
   "id": "40c32816",
   "metadata": {},
   "source": [
    "# **Machine Learning 🤔**"
   ]
  },
  {
   "cell_type": "code",
   "execution_count": 71,
   "id": "ce717dcc",
   "metadata": {
    "scrolled": true
   },
   "outputs": [
    {
     "name": "stdout",
     "output_type": "stream",
     "text": [
      "The watermark extension is already loaded. To reload it, use:\n",
      "  %reload_ext watermark\n",
      "Python implementation: CPython\n",
      "Python version       : 3.10.12\n",
      "IPython version      : 8.14.0\n",
      "\n",
      "numpy  : 1.26.0\n",
      "ray    : 2.4.0\n",
      "pandas : 1.5.3\n",
      "sklearn: 1.2.0\n",
      "\n",
      "Compiler    : GCC 11.4.0\n",
      "OS          : Linux\n",
      "Release     : 6.2.0-34-generic\n",
      "Machine     : x86_64\n",
      "Processor   : x86_64\n",
      "CPU cores   : 12\n",
      "Architecture: 64bit\n",
      "\n"
     ]
    }
   ],
   "source": [
    "%load_ext watermark\n",
    "%watermark -v -m -p numpy,ray,pandas,sklearn"
   ]
  },
  {
   "cell_type": "code",
   "execution_count": 72,
   "id": "e998d831",
   "metadata": {},
   "outputs": [],
   "source": [
    "import os\n",
    "import numpy as np\n",
    "import sklearn\n",
    "import matplotlib.pyplot as plt\n",
    "import scipy\n",
    "import io\n",
    "\n",
    "try:\n",
    "    import modin.pandas as pd\n",
    "    import ray \n",
    "    ray.init()\n",
    "except Exception as e: \n",
    "    import pandas as pd"
   ]
  },
  {
   "cell_type": "markdown",
   "id": "1bd02016",
   "metadata": {},
   "source": [
    "## **Numpy Exercise**"
   ]
  },
  {
   "cell_type": "markdown",
   "id": "8948c44b",
   "metadata": {},
   "source": [
    "<img src=\"https://cdn.icon-icons.com/icons2/2699/PNG/512/numpy_logo_icon_168073.png\" width=\"350\"/>"
   ]
  },
  {
   "cell_type": "code",
   "execution_count": 73,
   "id": "902dd1c5",
   "metadata": {},
   "outputs": [
    {
     "data": {
      "text/plain": [
       "array([[1, 2, 3],\n",
       "       [4, 5, 6],\n",
       "       [7, 8, 9]])"
      ]
     },
     "execution_count": 73,
     "metadata": {},
     "output_type": "execute_result"
    }
   ],
   "source": [
    "# Create an array with values as list\n",
    "array = np.array([\n",
    "    [1, 2, 3], [4, 5, 6], [7, 8, 9]\n",
    "])\n",
    "array"
   ]
  },
  {
   "cell_type": "code",
   "execution_count": 74,
   "id": "c2085466",
   "metadata": {},
   "outputs": [
    {
     "data": {
      "text/plain": [
       "array([[0., 0., 0.],\n",
       "       [0., 0., 0.],\n",
       "       [0., 0., 0.]])"
      ]
     },
     "execution_count": 74,
     "metadata": {},
     "output_type": "execute_result"
    }
   ],
   "source": [
    "# Create a null vector of shape as parameter\n",
    "array = np.zeros((3, 3)) # (row, column)\n",
    "array"
   ]
  },
  {
   "cell_type": "code",
   "execution_count": 75,
   "id": "72a3de1d",
   "metadata": {},
   "outputs": [
    {
     "name": "stdout",
     "output_type": "stream",
     "text": [
      "(3, 3)\n",
      "72\n"
     ]
    }
   ],
   "source": [
    "# Shape and memory\n",
    "print(array.shape)\n",
    "print(array.size * array.itemsize)"
   ]
  },
  {
   "cell_type": "code",
   "execution_count": 76,
   "id": "0307133b",
   "metadata": {},
   "outputs": [
    {
     "name": "stdout",
     "output_type": "stream",
     "text": [
      "class:  ndarray\n",
      "shape:  (3, 3)\n",
      "strides:  (24, 8)\n",
      "itemsize:  8\n",
      "aligned:  True\n",
      "contiguous:  True\n",
      "fortran:  False\n",
      "data pointer: 0x561d817b5970\n",
      "byteorder:  little\n",
      "byteswap:  False\n",
      "type: float64\n"
     ]
    }
   ],
   "source": [
    "# Information of numpy \n",
    "np.info(array)"
   ]
  },
  {
   "cell_type": "code",
   "execution_count": 77,
   "id": "31ff4e03",
   "metadata": {},
   "outputs": [
    {
     "name": "stdout",
     "output_type": "stream",
     "text": [
      "index 3 is out of bounds for axis 0 with size 3\n"
     ]
    },
    {
     "data": {
      "text/plain": [
       "array([[0., 1., 0.],\n",
       "       [0., 0., 1.],\n",
       "       [3., 4., 0.]])"
      ]
     },
     "execution_count": 77,
     "metadata": {},
     "output_type": "execute_result"
    }
   ],
   "source": [
    "# Modify the array\n",
    "array = np.zeros((3, 3))\n",
    "array[2][1] = 4\n",
    "array[2, 0] = 3  # best respresentation\n",
    "array[[1, 0], [2, 1]] = 1  # for x, y in zip(list1, list2)\n",
    "try:\n",
    "    array[3][0] = 1\n",
    "except Exception as e:\n",
    "    print(e)\n",
    "array"
   ]
  },
  {
   "cell_type": "code",
   "execution_count": 78,
   "id": "2bc17c63",
   "metadata": {},
   "outputs": [
    {
     "data": {
      "text/plain": [
       "array([[0, 1, 2],\n",
       "       [3, 4, 5],\n",
       "       [6, 7, 8]])"
      ]
     },
     "execution_count": 78,
     "metadata": {},
     "output_type": "execute_result"
    }
   ],
   "source": [
    "# Creating a numpy array with values ranging from a to b & reshape\n",
    "array = np.arange(0, 9).reshape(3, 3)\n",
    "array"
   ]
  },
  {
   "cell_type": "code",
   "execution_count": 79,
   "id": "d8eb4b60",
   "metadata": {},
   "outputs": [
    {
     "name": "stdout",
     "output_type": "stream",
     "text": [
      "[[6 7 8]\n",
      " [3 4 5]\n",
      " [0 1 2]]\n",
      "[[2 1 0]\n",
      " [5 4 3]\n",
      " [8 7 6]]\n"
     ]
    }
   ],
   "source": [
    " # reverse the order of row [0, n-1] -> [n-1, 0, -1]\n",
    "print(array[::-1]) \n",
    "\n",
    "# reverse the order of columns [0, n-1] -> [n-1, 0, -1]\n",
    "print(array[:, ::-1]) "
   ]
  },
  {
   "cell_type": "code",
   "execution_count": 80,
   "id": "82c3993a",
   "metadata": {},
   "outputs": [
    {
     "data": {
      "text/plain": [
       "array([[1, 0, 0],\n",
       "       [0, 1, 0],\n",
       "       [0, 0, 1]], dtype=int32)"
      ]
     },
     "execution_count": 80,
     "metadata": {},
     "output_type": "execute_result"
    }
   ],
   "source": [
    "# Identity matrix with dtype\n",
    "array = np.eye(3, dtype=np.int32)\n",
    "array"
   ]
  },
  {
   "cell_type": "code",
   "execution_count": 81,
   "id": "899b3f1f",
   "metadata": {},
   "outputs": [
    {
     "data": {
      "text/plain": [
       "array([[1., 1., 1., 1., 1.],\n",
       "       [1., 0., 0., 0., 1.],\n",
       "       [1., 0., 0., 0., 1.],\n",
       "       [1., 0., 0., 0., 1.],\n",
       "       [1., 1., 1., 1., 1.]])"
      ]
     },
     "execution_count": 81,
     "metadata": {},
     "output_type": "execute_result"
    }
   ],
   "source": [
    "# 2d array with 1 on the borders\n",
    "array = np.ones((5, 5))\n",
    "array[1:-1, 1:-1] = 0\n",
    "array\n"
   ]
  },
  {
   "cell_type": "code",
   "execution_count": 82,
   "id": "8d685e19",
   "metadata": {},
   "outputs": [
    {
     "data": {
      "text/plain": [
       "array([[2., 2., 2., 2., 2.],\n",
       "       [2., 1., 1., 1., 2.],\n",
       "       [2., 1., 1., 1., 2.],\n",
       "       [2., 1., 1., 1., 2.],\n",
       "       [2., 2., 2., 2., 2.]])"
      ]
     },
     "execution_count": 82,
     "metadata": {},
     "output_type": "execute_result"
    }
   ],
   "source": [
    "# Pad and array\n",
    "array = np.ones((3, 3))\n",
    "array = np.pad(array,  pad_width=1, mode='constant', constant_values=2)\n",
    "array"
   ]
  },
  {
   "cell_type": "code",
   "execution_count": 83,
   "id": "b42cf619",
   "metadata": {},
   "outputs": [
    {
     "name": "stdout",
     "output_type": "stream",
     "text": [
      "nan\n",
      "False\n",
      "False\n",
      "False\n",
      "nan\n",
      "False\n"
     ]
    }
   ],
   "source": [
    "# np.nan Expression\n",
    "print(\n",
    "    0 * np.nan,\n",
    "    np.nan == np.nan,\n",
    "    np.inf > np.nan,\n",
    "    np.inf < np.nan,\n",
    "    np.nan - np.nan,\n",
    "    0.3 == 0.1 * 3,\n",
    "    sep='\\n'\n",
    ")"
   ]
  },
  {
   "cell_type": "code",
   "execution_count": 84,
   "id": "dc18e09f",
   "metadata": {},
   "outputs": [
    {
     "data": {
      "text/plain": [
       "array([[0, 0, 0, 0, 0],\n",
       "       [1, 0, 0, 0, 0],\n",
       "       [0, 2, 0, 0, 0],\n",
       "       [0, 0, 3, 0, 0],\n",
       "       [0, 0, 0, 4, 0]])"
      ]
     },
     "execution_count": 84,
     "metadata": {},
     "output_type": "execute_result"
    }
   ],
   "source": [
    "# 5*5 matrix with values 1,2,3,4 just below diagnol\n",
    "array = np.diag((1, 2, 3, 4), k=-1) # k is the shift \n",
    "array "
   ]
  },
  {
   "cell_type": "code",
   "execution_count": 85,
   "id": "b8a25bce",
   "metadata": {},
   "outputs": [
    {
     "data": {
      "text/plain": [
       "array([[1., 0., 1., 0., 1., 0., 1., 0.],\n",
       "       [0., 1., 0., 1., 0., 1., 0., 1.],\n",
       "       [1., 0., 1., 0., 1., 0., 1., 0.],\n",
       "       [0., 1., 0., 1., 0., 1., 0., 1.],\n",
       "       [1., 0., 1., 0., 1., 0., 1., 0.],\n",
       "       [0., 1., 0., 1., 0., 1., 0., 1.],\n",
       "       [1., 0., 1., 0., 1., 0., 1., 0.],\n",
       "       [0., 1., 0., 1., 0., 1., 0., 1.]])"
      ]
     },
     "execution_count": 85,
     "metadata": {},
     "output_type": "execute_result"
    }
   ],
   "source": [
    "# checkboard pattern\n",
    "array = np.zeros((8, 8))\n",
    "array[0:-1:2,0:-1:2] = 1\n",
    "array[1::2, 1::2] = 1\n",
    "array"
   ]
  },
  {
   "cell_type": "code",
   "execution_count": 86,
   "id": "814748ab",
   "metadata": {},
   "outputs": [
    {
     "name": "stdout",
     "output_type": "stream",
     "text": [
      "(1, 2)\n",
      "[[0 1 0 1 0 1 0 1]\n",
      " [1 0 1 0 1 0 1 0]\n",
      " [0 1 0 1 0 1 0 1]\n",
      " [1 0 1 0 1 0 1 0]\n",
      " [0 1 0 1 0 1 0 1]\n",
      " [1 0 1 0 1 0 1 0]\n",
      " [0 1 0 1 0 1 0 1]\n",
      " [1 0 1 0 1 0 1 0]]\n"
     ]
    }
   ],
   "source": [
    "# unravel the numpy array \n",
    "print(np.unravel_index(10, array.shape))\n",
    "\n",
    "# tile function\n",
    "print(np.tile(\n",
    "    np.array([[0, 1], [1, 0]]), reps=(4, 4)\n",
    "))"
   ]
  },
  {
   "cell_type": "code",
   "execution_count": 87,
   "id": "dd53eef0",
   "metadata": {},
   "outputs": [
    {
     "name": "stdout",
     "output_type": "stream",
     "text": [
      "[[0.37454012 0.95071431 0.73199394]\n",
      " [0.59865848 0.15601864 0.15599452]\n",
      " [0.05808361 0.86617615 0.60111501]]\n"
     ]
    }
   ],
   "source": [
    "# set random seed => value doesn't change\n",
    "np.random.seed(42)\n",
    "\n",
    "# Generate Random numpy array\n",
    "array = np.random.random((3, 3))\n",
    "print(array)"
   ]
  },
  {
   "cell_type": "code",
   "execution_count": 88,
   "id": "8f188da1",
   "metadata": {},
   "outputs": [
    {
     "name": "stdout",
     "output_type": "stream",
     "text": [
      "0.05808361216819946 0.9507143064099162 0.4992549757478559 0.30888608340705315\n",
      "[0.37454012 0.15599452 0.05808361]\n",
      "[0.95071431 0.59865848 0.86617615]\n",
      "[0.68574946 0.30355721 0.50845826]\n",
      "[0.23748416 0.20866811 0.3363454 ]\n"
     ]
    }
   ],
   "source": [
    "# Calculate the metrics\n",
    "# -1, -2, ... from the x-axis(row wise), y-axiz(column wise), ...\n",
    "print(array.min(), array.max(), array.mean(), array.std())\n",
    "print(array.min(-1), array.max(-1), array.mean(-1), array.std(-1), sep='\\n')"
   ]
  },
  {
   "cell_type": "code",
   "execution_count": 89,
   "id": "d53e67b5",
   "metadata": {},
   "outputs": [
    {
     "data": {
      "text/plain": [
       "array([[ 0.95784693, -1.49297371,  1.89126849],\n",
       "       [ 1.40121275, -0.80938924, -0.91816886],\n",
       "       [-0.91253796, -0.48176452,  0.30434471],\n",
       "       [-0.02651794, -0.52815482,  0.61483417]])"
      ]
     },
     "execution_count": 89,
     "metadata": {},
     "output_type": "execute_result"
    }
   ],
   "source": [
    "# Normalize = (x - x_mean)/(x_std)\n",
    "array = np.random.random((4, 3))\n",
    "array = (array - np.mean(array))/(np.std(array)) \n",
    "array"
   ]
  },
  {
   "cell_type": "code",
   "execution_count": 90,
   "id": "efd107cc",
   "metadata": {},
   "outputs": [
    {
     "name": "stderr",
     "output_type": "stream",
     "text": [
      "FutureWarning: Passing (type, 1) or '1type' as a synonym of type is deprecated; in a future version of numpy, it will be understood as (type, (1,)) / '(1,)type'.\n"
     ]
    },
    {
     "data": {
      "text/plain": [
       "dtype([('r', 'u1'), ('g', 'u1'), ('b', 'u1'), ('a', 'u1')])"
      ]
     },
     "execution_count": 90,
     "metadata": {},
     "output_type": "execute_result"
    }
   ],
   "source": [
    "# Custom Dtype\n",
    "color = np.dtype([\n",
    "    (\"r\", np.ubyte, 1),\n",
    "    (\"g\", np.ubyte, 1),\n",
    "    (\"b\", np.ubyte, 1),\n",
    "    (\"a\", np.ubyte, 1),\n",
    "])\n",
    "\n",
    "color"
   ]
  },
  {
   "cell_type": "code",
   "execution_count": 91,
   "id": "8a9c8d3f",
   "metadata": {},
   "outputs": [
    {
     "name": "stdout",
     "output_type": "stream",
     "text": [
      "[255   0]\n",
      "[  0 255]\n",
      "[0 0]\n",
      "[255 255]\n"
     ]
    }
   ],
   "source": [
    "colors = np.array(\n",
    "    [\n",
    "        (255, 0, 0, 255),\n",
    "        (0, 255, 0, 255),\n",
    "    ],\n",
    "    dtype=color\n",
    ")\n",
    "\n",
    "# Access the fields by name\n",
    "print(colors['r'])\n",
    "print(colors['g']) \n",
    "print(colors['b']) \n",
    "print(colors['a'])"
   ]
  },
  {
   "cell_type": "code",
   "execution_count": 92,
   "id": "3a78995e",
   "metadata": {},
   "outputs": [
    {
     "name": "stdout",
     "output_type": "stream",
     "text": [
      "[[2.]\n",
      " [2.]\n",
      " [2.]]\n",
      "[[2.]\n",
      " [2.]\n",
      " [2.]]\n"
     ]
    }
   ],
   "source": [
    "# Matrix Product\n",
    "array1, array2 = np.ones((3,2)), np.ones((2, 1))\n",
    "print(np.dot(array1, array2))\n",
    "print(array1 @ array2)"
   ]
  },
  {
   "cell_type": "code",
   "execution_count": 93,
   "id": "a78a78f4",
   "metadata": {},
   "outputs": [
    {
     "data": {
      "text/plain": [
       "(array([False, False, False, False,  True,  True,  True,  True, False,\n",
       "        False, False]),\n",
       " array([ 0,  1,  2,  3, -4, -5, -6, -7,  8,  9, 10]))"
      ]
     },
     "execution_count": 93,
     "metadata": {},
     "output_type": "execute_result"
    }
   ],
   "source": [
    "# conditions\n",
    "array = np.arange(11)\n",
    "indices = (3 < array) & (8 > array)\n",
    "array[indices] *= -1\n",
    "indices, array"
   ]
  },
  {
   "cell_type": "code",
   "execution_count": 94,
   "id": "794ec5e5",
   "metadata": {},
   "outputs": [
    {
     "data": {
      "text/plain": [
       "(9, 10)"
      ]
     },
     "execution_count": 94,
     "metadata": {},
     "output_type": "execute_result"
    }
   ],
   "source": [
    "# calculate sum() from start=-1 and np.sum() calclates along axis -1\n",
    "sum(range(5),-1), np.sum(range(5),-1)"
   ]
  },
  {
   "cell_type": "code",
   "execution_count": 95,
   "id": "c1f901df",
   "metadata": {},
   "outputs": [
    {
     "name": "stdout",
     "output_type": "stream",
     "text": [
      "[[-2. -1.]\n",
      " [ 0.  1.]]\n",
      "[[ 0.25 -1.  ]\n",
      " [ 1.    1.  ]]\n",
      "[[0 0]\n",
      " [0 1]]\n",
      "[[ True  True]\n",
      " [False False]]\n",
      "[[-0.-2.j -0.-1.j]\n",
      " [ 0.+0.j  0.+1.j]]\n",
      "[[-2. -1.]\n",
      " [ 0.  1.]]\n"
     ]
    }
   ],
   "source": [
    "# astype() + conditions\n",
    "array = np.arange(-2, 2).reshape((2, 2)).astype(np.float32)\n",
    "print(\n",
    "    array,\n",
    "    array**array,  # 0**0 = 1\n",
    "    2 << array.astype(np.int32) >> 2,\n",
    "    array < -array,\n",
    "    1j*array,\n",
    "    array/1/1,\n",
    "    sep=\"\\n\"\n",
    ")"
   ]
  },
  {
   "cell_type": "code",
   "execution_count": 96,
   "id": "402751c7",
   "metadata": {},
   "outputs": [
    {
     "name": "stdout",
     "output_type": "stream",
     "text": [
      "nan\n",
      "0\n",
      "[-9.22337204e+18]\n"
     ]
    },
    {
     "name": "stderr",
     "output_type": "stream",
     "text": [
      "RuntimeWarning: invalid value encountered in divide\n",
      "RuntimeWarning: divide by zero encountered in floor_divide\n",
      "RuntimeWarning: invalid value encountered in cast\n"
     ]
    }
   ],
   "source": [
    "# conditions\n",
    "\n",
    "print(\n",
    "    np.array(0) / np.array(0),\n",
    "    np.array(0) // np.array(0),\n",
    "    np.array([np.nan]).astype(int).astype(float),\n",
    "    sep=\"\\n\"\n",
    ")"
   ]
  },
  {
   "cell_type": "code",
   "execution_count": 97,
   "id": "0415cebb",
   "metadata": {},
   "outputs": [
    {
     "data": {
      "text/plain": [
       "(array([-7.21012279, -4.15710703, -2.67276313, -0.87860032,  5.70351923,\n",
       "        -6.00652436,  0.28468877,  1.84829138, -9.07099175,  2.15089704]),\n",
       " array([ -8.,  -5.,  -3.,  -1.,   6.,  -7.,   1.,   2., -10.,   3.]))"
      ]
     },
     "execution_count": 97,
     "metadata": {},
     "output_type": "execute_result"
    }
   ],
   "source": [
    "# round away from zero a float array\n",
    "array = np.random.uniform(-10, 10, 10)\n",
    "array2 = np.copysign(np.ceil(np.abs(array)), array)\n",
    "array, array2"
   ]
  },
  {
   "cell_type": "code",
   "execution_count": 98,
   "id": "e73aff5a",
   "metadata": {
    "scrolled": true
   },
   "outputs": [
    {
     "name": "stdout",
     "output_type": "stream",
     "text": [
      "[1 3 4 6] [0 1 2 3 4 6 7 8 9]\n"
     ]
    }
   ],
   "source": [
    "# intersection\n",
    "array1 = np.random.randint(0, 10, 10)\n",
    "array2 = np.random.randint(0, 10, 10)\n",
    "\n",
    "print(\n",
    "    np.intersect1d(array1, array2),\n",
    "    np.union1d(array1, array2)\n",
    ")"
   ]
  },
  {
   "cell_type": "code",
   "execution_count": 99,
   "id": "c28432cd",
   "metadata": {},
   "outputs": [
    {
     "name": "stdout",
     "output_type": "stream",
     "text": [
      "nan 1j\n",
      "[inf]\n"
     ]
    }
   ],
   "source": [
    "# ignore errors + emath(scimath)\n",
    "\"\"\"\n",
    "defaults = np.seterr(all=\"ignore\")\n",
    "<-- code --> \n",
    "_ = np.seterr(**defaults)\n",
    "\"\"\"\n",
    "\n",
    "with np.errstate(all=\"ignore\"):\n",
    "    print(np.sqrt(-1), np.emath.sqrt(-1))\n",
    "    array = np.ones(1) / 0\n",
    "    print(array)"
   ]
  },
  {
   "cell_type": "code",
   "execution_count": 100,
   "id": "68693ee6",
   "metadata": {
    "scrolled": true
   },
   "outputs": [
    {
     "name": "stdout",
     "output_type": "stream",
     "text": [
      "2023-10-11\n",
      "2023-10-12\n",
      "2023-10-13\n",
      "['2023-03' '2023-04' '2023-05' '2023-06' '2023-07']\n"
     ]
    }
   ],
   "source": [
    "# Datetime\n",
    "print(\n",
    "    yesterday := np.datetime64('today', 'D') - np.timedelta64(1, 'D'),\n",
    "    today := np.datetime64('today', 'D'),\n",
    "    tomorrow := np.datetime64('today', 'D') + np.timedelta64(1, 'D'),\n",
    "    sep='\\n'\n",
    ")\n",
    "\n",
    "array = np.arange('2023-03-17', '2023-08-29', dtype='datetime64[M]')\n",
    "print(array)\n"
   ]
  },
  {
   "cell_type": "code",
   "execution_count": 101,
   "id": "915ff60c",
   "metadata": {},
   "outputs": [
    {
     "data": {
      "text/plain": [
       "array([-1.5, -1.5, -1.5])"
      ]
     },
     "execution_count": 101,
     "metadata": {},
     "output_type": "execute_result"
    }
   ],
   "source": [
    "# ((A+B)*(-A/2))\n",
    "A = np.ones(3)*1\n",
    "B = np.ones(3)*2\n",
    "(A+B)*(-A/2)\n",
    "\n",
    "# Other method \n",
    "np.add(A,B, out=B)\n",
    "np.divide(A, 2, out=A)\n",
    "np.negative(A, out=A)\n",
    "np.multiply(A, B, out=A)\n",
    "A"
   ]
  },
  {
   "cell_type": "code",
   "execution_count": 102,
   "id": "2b6d3cf9",
   "metadata": {},
   "outputs": [
    {
     "name": "stdout",
     "output_type": "stream",
     "text": [
      "[ 5.10722821 -1.49688251 -5.84116674  1.35400656 -9.37373415  6.84569549\n",
      " -1.00491733 -2.09699528  8.53317732  4.54543992]\n",
      "[  5.  -2.  -6.   1. -10.   6.  -2.  -3.   8.   4.]\n",
      "[  5.  -2.  -6.   1. -10.   6.  -2.  -3.   8.   4.]\n",
      "[ 6. -1. -5.  2. -9.  7. -1. -2.  9.  5.]\n",
      "[ 5. -1. -5.  1. -9.  6. -1. -2.  8.  4.]\n"
     ]
    }
   ],
   "source": [
    "# Extract signs and integer parts\n",
    "array = np.random.uniform(-10, 10, 10)\n",
    "print(\n",
    "    array,\n",
    "    array - array%1,\n",
    "    np.floor(array),\n",
    "    np.ceil(array),\n",
    "    np.trunc(array),\n",
    "    sep=\"\\n\",\n",
    ")"
   ]
  },
  {
   "cell_type": "code",
   "execution_count": 103,
   "id": "98f78ee4",
   "metadata": {},
   "outputs": [
    {
     "data": {
      "text/plain": [
       "array([[0., 1., 2., 3., 4.],\n",
       "       [0., 1., 2., 3., 4.],\n",
       "       [0., 1., 2., 3., 4.],\n",
       "       [0., 1., 2., 3., 4.],\n",
       "       [0., 1., 2., 3., 4.]])"
      ]
     },
     "execution_count": 103,
     "metadata": {},
     "output_type": "execute_result"
    }
   ],
   "source": [
    "# array with row values rangin from 0-4\n",
    "array = np.zeros((5, 5))\n",
    "array[:] = np.arange(5) # array += np.arange(5)\n",
    "array"
   ]
  },
  {
   "cell_type": "code",
   "execution_count": 104,
   "id": "cb6b0a94",
   "metadata": {},
   "outputs": [
    {
     "data": {
      "text/plain": [
       "array([0., 1., 2., 3., 4., 5., 6., 7., 8., 9.], dtype=float32)"
      ]
     },
     "execution_count": 104,
     "metadata": {},
     "output_type": "execute_result"
    }
   ],
   "source": [
    "# build and array from generator\n",
    "def generate():\n",
    "    for x in range(10):\n",
    "        yield x\n",
    "\n",
    "array = np.fromiter(\n",
    "    generate(), dtype=np.float32  # range() function are supported\n",
    ")\n",
    "array"
   ]
  },
  {
   "cell_type": "code",
   "execution_count": 105,
   "id": "3b1704c3",
   "metadata": {},
   "outputs": [
    {
     "data": {
      "text/plain": [
       "array([4, 6, 7, 7, 8])"
      ]
     },
     "execution_count": 105,
     "metadata": {},
     "output_type": "execute_result"
    }
   ],
   "source": [
    "# array sotring\n",
    "array = np.random.randint(0, 10, 5)\n",
    "array.sort()\n",
    "array"
   ]
  },
  {
   "cell_type": "code",
   "execution_count": 106,
   "id": "38b32706",
   "metadata": {},
   "outputs": [
    {
     "name": "stdout",
     "output_type": "stream",
     "text": [
      "assignment destination is read-only\n",
      "[0. 0. 0. 0. 0. 0. 0. 0. 0. 0.]\n"
     ]
    }
   ],
   "source": [
    "# make immutable\n",
    "array = np.zeros(10)\n",
    "array.flags.writeable=False\n",
    "try:\n",
    "    array[0]=2\n",
    "except Exception as e:\n",
    "    print(e)\n",
    "finally:\n",
    "    print(array)"
   ]
  },
  {
   "cell_type": "code",
   "execution_count": 107,
   "id": "3d336750",
   "metadata": {},
   "outputs": [
    {
     "name": "stdout",
     "output_type": "stream",
     "text": [
      "CPU times: user 0 ns, sys: 47 µs, total: 47 µs\n",
      "Wall time: 51.3 µs\n",
      "CPU times: user 0 ns, sys: 13 µs, total: 13 µs\n",
      "Wall time: 16.2 µs\n"
     ]
    },
    {
     "data": {
      "text/plain": [
       "4125042171973730304"
      ]
     },
     "execution_count": 107,
     "metadata": {},
     "output_type": "execute_result"
    }
   ],
   "source": [
    "array = np.arange(0, 100000, 10000)\n",
    "\n",
    "%time np.prod(array[1:])\n",
    "%time np.multiply.reduce(array[1:])"
   ]
  },
  {
   "cell_type": "code",
   "execution_count": 108,
   "id": "b69c8f97",
   "metadata": {},
   "outputs": [
    {
     "name": "stdout",
     "output_type": "stream",
     "text": [
      "[1. 2. 3.]\n",
      "[1.        2.0000001 3.       ]\n",
      "[ True False  True]\n",
      "True\n",
      "False\n"
     ]
    }
   ],
   "source": [
    "# comparison\n",
    "A = np.array([1.0, 2.0, 3.0])\n",
    "B = np.array([1.0, 2.0000001, 3.0])\n",
    "print(\n",
    "    A, B,\n",
    "    A==B,\n",
    "    np.allclose(A, B),\n",
    "    np.array_equal(A, B),\n",
    "    sep='\\n'\n",
    ")"
   ]
  },
  {
   "cell_type": "code",
   "execution_count": 109,
   "id": "058ccf8c",
   "metadata": {},
   "outputs": [
    {
     "data": {
      "text/plain": [
       "(array([[1, 4, 7],\n",
       "        [9, 8, 8],\n",
       "        [0, 8, 6]]),\n",
       " array([[8, 7, 0],\n",
       "        [7, 7, 2],\n",
       "        [0, 7, 2]]),\n",
       " array([[1, 4, 7, 8, 7, 0],\n",
       "        [9, 8, 8, 7, 7, 2],\n",
       "        [0, 8, 6, 0, 7, 2]]),\n",
       " array([[1, 4, 7],\n",
       "        [9, 8, 8],\n",
       "        [0, 8, 6],\n",
       "        [8, 7, 0],\n",
       "        [7, 7, 2],\n",
       "        [0, 7, 2]]))"
      ]
     },
     "execution_count": 109,
     "metadata": {},
     "output_type": "execute_result"
    }
   ],
   "source": [
    "# stacking\n",
    "array1 = np.random.randint(0, 10, 9).reshape((3, 3))\n",
    "array2 = np.random.randint(0, 10, 9).reshape((3, 3))\n",
    "\n",
    "array1, array2, np.column_stack((array1, array2)), np.vstack((array1, array2))"
   ]
  },
  {
   "cell_type": "code",
   "execution_count": 110,
   "id": "646ae94a",
   "metadata": {},
   "outputs": [
    {
     "data": {
      "text/plain": [
       "(array([[0.79017554, 0.60595997],\n",
       "        [0.92630088, 0.65107703],\n",
       "        [0.91495968, 0.85003858],\n",
       "        [0.44945067, 0.09541012],\n",
       "        [0.37081825, 0.66884125]]),\n",
       " array([[0.99577351, 0.65420923],\n",
       "        [1.13222551, 0.61265527],\n",
       "        [1.24888622, 0.74863221],\n",
       "        [0.45946599, 0.20917644],\n",
       "        [0.764758  , 1.06456679]]))"
      ]
     },
     "execution_count": 110,
     "metadata": {},
     "output_type": "execute_result"
    }
   ],
   "source": [
    "# random 10*2 matrix representing cartesian cordinates -> convert them to polar coordinates\n",
    "cartesian_cordinates = np.random.random((5, 2))\n",
    "x, y = cartesian_cordinates[:, 0], cartesian_cordinates[:, 1]\n",
    "polar_cordinates = np.column_stack(( # or np.vstack()\n",
    "    np.sqrt(x**2 + y**2),  # r\n",
    "    np.arctan2(y, x) # theta\n",
    "))\n",
    "cartesian_cordinates, polar_cordinates"
   ]
  },
  {
   "cell_type": "code",
   "execution_count": 111,
   "id": "a9af857b",
   "metadata": {},
   "outputs": [
    {
     "data": {
      "text/plain": [
       "(array([4, 2, 7, 5, 2, 0, 2, 4]), 2)"
      ]
     },
     "execution_count": 111,
     "metadata": {},
     "output_type": "execute_result"
    }
   ],
   "source": [
    "# maxvalues of numpy array\n",
    "array = np.random.randint(0, 10, 8)\n",
    "array, np.argmax(array)\n"
   ]
  },
  {
   "cell_type": "code",
   "execution_count": 112,
   "id": "2c940706",
   "metadata": {},
   "outputs": [
    {
     "name": "stdout",
     "output_type": "stream",
     "text": [
      "[[(0.  , 0.  ) (0.25, 0.  ) (0.5 , 0.  ) (0.75, 0.  ) (1.  , 0.  )]\n",
      " [(0.  , 0.25) (0.25, 0.25) (0.5 , 0.25) (0.75, 0.25) (1.  , 0.25)]\n",
      " [(0.  , 0.5 ) (0.25, 0.5 ) (0.5 , 0.5 ) (0.75, 0.5 ) (1.  , 0.5 )]\n",
      " [(0.  , 0.75) (0.25, 0.75) (0.5 , 0.75) (0.75, 0.75) (1.  , 0.75)]\n",
      " [(0.  , 1.  ) (0.25, 1.  ) (0.5 , 1.  ) (0.75, 1.  ) (1.  , 1.  )]]\n"
     ]
    }
   ],
   "source": [
    "# create a structured array with x and y coordinates covering the [0, 1]x[0, 1] area\n",
    "array = np.zeros((5, 5), dtype=[('x', np.float32), ('y', np.float32)])\n",
    "array['x'], array['y'] = np.meshgrid(\n",
    "    np.linspace(0, 1, 5),\n",
    "    np.linspace(0, 1, 5)\n",
    ")\n",
    "print(array)"
   ]
  },
  {
   "cell_type": "code",
   "execution_count": 113,
   "id": "4328375f",
   "metadata": {},
   "outputs": [
    {
     "data": {
      "text/plain": [
       "(array([[-2.        , -0.66666667, -0.4       , -0.28571429, -0.22222222,\n",
       "         -0.18181818, -0.15384615, -0.13333333],\n",
       "        [ 2.        , -2.        , -0.66666667, -0.4       , -0.28571429,\n",
       "         -0.22222222, -0.18181818, -0.15384615],\n",
       "        [ 0.66666667,  2.        , -2.        , -0.66666667, -0.4       ,\n",
       "         -0.28571429, -0.22222222, -0.18181818],\n",
       "        [ 0.4       ,  0.66666667,  2.        , -2.        , -0.66666667,\n",
       "         -0.4       , -0.28571429, -0.22222222],\n",
       "        [ 0.28571429,  0.4       ,  0.66666667,  2.        , -2.        ,\n",
       "         -0.66666667, -0.4       , -0.28571429],\n",
       "        [ 0.22222222,  0.28571429,  0.4       ,  0.66666667,  2.        ,\n",
       "         -2.        , -0.66666667, -0.4       ],\n",
       "        [ 0.18181818,  0.22222222,  0.28571429,  0.4       ,  0.66666667,\n",
       "          2.        , -2.        , -0.66666667],\n",
       "        [ 0.15384615,  0.18181818,  0.22222222,  0.28571429,  0.4       ,\n",
       "          0.66666667,  2.        , -2.        ]]),\n",
       " 3638.163637117973)"
      ]
     },
     "execution_count": 113,
     "metadata": {},
     "output_type": "execute_result"
    }
   ],
   "source": [
    "# Cauch matrix C: Cij = 1/xi-yj\n",
    "x = np.arange(8)\n",
    "y = x + 0.5\n",
    "C = 1./np.subtract.outer(x, y)\n",
    "C, np.linalg.det(C)"
   ]
  },
  {
   "cell_type": "code",
   "execution_count": 114,
   "id": "39defb63",
   "metadata": {},
   "outputs": [
    {
     "data": {
      "text/plain": [
       "97"
      ]
     },
     "execution_count": 114,
     "metadata": {},
     "output_type": "execute_result"
    }
   ],
   "source": [
    "# closest value to given vector \n",
    "array = np.arange(100)\n",
    "v = np.random.uniform(0, 100)\n",
    "index = np.abs(array-v).argmin()\n",
    "array[index]"
   ]
  },
  {
   "cell_type": "code",
   "execution_count": 115,
   "id": "aac95582",
   "metadata": {},
   "outputs": [
    {
     "name": "stderr",
     "output_type": "stream",
     "text": [
      "FutureWarning: Passing (type, 1) or '1type' as a synonym of type is deprecated; in a future version of numpy, it will be understood as (type, (1,)) / '(1,)type'.\n",
      "FutureWarning: Passing (type, 1) or '1type' as a synonym of type is deprecated; in a future version of numpy, it will be understood as (type, (1,)) / '(1,)type'.\n",
      "FutureWarning: Passing (type, 1) or '1type' as a synonym of type is deprecated; in a future version of numpy, it will be understood as (type, (1,)) / '(1,)type'.\n"
     ]
    },
    {
     "data": {
      "text/plain": [
       "dtype([('position', [('x', 'u1'), ('y', 'u1')]), ('color', [('r', 'u1'), ('g', 'u1'), ('b', 'u1')])])"
      ]
     },
     "metadata": {},
     "output_type": "display_data"
    },
    {
     "data": {
      "text/plain": [
       "array([((1, 2), (2, 3, 4)), ((2, 3), (4, 5, 6))],\n",
       "      dtype=[('position', [('x', 'u1'), ('y', 'u1')]), ('color', [('r', 'u1'), ('g', 'u1'), ('b', 'u1')])])"
      ]
     },
     "metadata": {},
     "output_type": "display_data"
    },
    {
     "data": {
      "text/plain": [
       "array([1, 2], dtype=uint8)"
      ]
     },
     "metadata": {},
     "output_type": "display_data"
    },
    {
     "data": {
      "text/plain": [
       "(2, 3, 4)"
      ]
     },
     "metadata": {},
     "output_type": "display_data"
    }
   ],
   "source": [
    "# Datatype position (x, y) and color(r, g, b)\n",
    "color = np.dtype([\n",
    "    (\"r\", np.ubyte, 1),\n",
    "    (\"g\", np.ubyte, 1),\n",
    "    (\"b\", np.ubyte, 1),\n",
    "])\n",
    "\n",
    "position = np.dtype([\n",
    "    (\"x\", np.ubyte, 1),\n",
    "    (\"y\", np.ubyte, 1)\n",
    "])\n",
    "\n",
    "datatype = np.dtype([\n",
    "    (\"position\", position, 1),\n",
    "    (\"color\", color, 1)\n",
    "])\n",
    "\n",
    "array = np.array([\n",
    "    ((1, 2), (2, 3, 4)),\n",
    "    ((2, 3), (4, 5, 6)),\n",
    "], dtype=datatype)\n",
    "\n",
    "display(datatype, array, array['position']['x'], array['color'][0])"
   ]
  },
  {
   "cell_type": "code",
   "execution_count": 116,
   "id": "714b158b",
   "metadata": {},
   "outputs": [
    {
     "name": "stdout",
     "output_type": "stream",
     "text": [
      "[((0., 0.), (0., 0., 0.)) ((0., 0.), (0., 0., 0.))\n",
      " ((0., 0.), (0., 0., 0.)) ((0., 0.), (0., 0., 0.))]\n"
     ]
    },
    {
     "name": "stderr",
     "output_type": "stream",
     "text": [
      "FutureWarning: Passing (type, 1) or '1type' as a synonym of type is deprecated; in a future version of numpy, it will be understood as (type, (1,)) / '(1,)type'.\n"
     ]
    }
   ],
   "source": [
    "array = np.zeros(4, [ ('position', [ ('x', float, 1),\n",
    "                                  ('y', float, 1)]),\n",
    "                   ('color',    [ ('r', float, 1),\n",
    "                                  ('g', float, 1),\n",
    "                                  ('b', float, 1)])])\n",
    "print(array)"
   ]
  },
  {
   "cell_type": "code",
   "execution_count": 117,
   "id": "7186deeb",
   "metadata": {},
   "outputs": [
    {
     "name": "stdout",
     "output_type": "stream",
     "text": [
      "[[0.         0.76975463 0.80855597 0.79020489 0.6701856 ]\n",
      " [0.76975463 0.         0.49487023 0.22189132 0.64061235]\n",
      " [0.80855597 0.49487023 0.         0.28032522 0.24551033]\n",
      " [0.79020489 0.22189132 0.28032522 0.         0.46537671]\n",
      " [0.6701856  0.64061235 0.24551033 0.46537671 0.        ]]\n",
      "[[0.         0.76975463 0.80855597 0.79020489 0.6701856 ]\n",
      " [0.76975463 0.         0.49487023 0.22189132 0.64061235]\n",
      " [0.80855597 0.49487023 0.         0.28032522 0.24551033]\n",
      " [0.79020489 0.22189132 0.28032522 0.         0.46537671]\n",
      " [0.6701856  0.64061235 0.24551033 0.46537671 0.        ]]\n"
     ]
    }
   ],
   "source": [
    "# Distance between every two points of a given coordinate points\n",
    "array = np.random.random((5, 2))\n",
    "x, y = np.atleast_2d(array[:, 0], array[:, 1])\n",
    "print(np.sqrt((x-x.T)**2 + (y-y.T)**2))\n",
    "\n",
    "print(scipy.spatial.distance.cdist(array, array))"
   ]
  },
  {
   "cell_type": "code",
   "execution_count": 118,
   "id": "f69b0276",
   "metadata": {},
   "outputs": [
    {
     "data": {
      "text/plain": [
       "array([[ 1,  2,  3,  4,  5],\n",
       "       [ 6, -1,  7,  8,  9],\n",
       "       [-1, -1,  9, 10, 11]], dtype=int32)"
      ]
     },
     "execution_count": 118,
     "metadata": {},
     "output_type": "execute_result"
    }
   ],
   "source": [
    "# read from file\n",
    "string = io.StringIO(\n",
    "    \"1, 2, 3, 4, 5\\n 6, , 7, 8, 9\\n , ,9, 10, 11\\n\"\n",
    ")\n",
    "array = np.genfromtxt(string, delimiter=\",\", dtype=np.int32)\n",
    "array"
   ]
  },
  {
   "cell_type": "code",
   "execution_count": 119,
   "id": "06c4e1c2",
   "metadata": {},
   "outputs": [
    {
     "name": "stdout",
     "output_type": "stream",
     "text": [
      "(0, 0) 0\n",
      "(0, 0)\n",
      "[0 1 2]\n"
     ]
    }
   ],
   "source": [
    "# Numpy iterator\n",
    "array = np.arange(9).reshape((3, 3))\n",
    "for index, value in np.ndenumerate(array):\n",
    "    print(index, value)\n",
    "    break\n",
    "for index in np.ndindex(array.shape):\n",
    "    print(index)\n",
    "    break\n",
    "for value in array:\n",
    "    print(value)\n",
    "    break"
   ]
  },
  {
   "cell_type": "code",
   "execution_count": 120,
   "id": "363a7c60",
   "metadata": {},
   "outputs": [
    {
     "data": {
      "text/plain": [
       "(array([-1.,  0.,  1.]), array([ 0.1,  1. , 10. ]))"
      ]
     },
     "execution_count": 120,
     "metadata": {},
     "output_type": "execute_result"
    }
   ],
   "source": [
    "array1 = np.linspace(-1, 1, 3)\n",
    "array2 = np.logspace(-1, 1, 3)\n",
    "array1, array2"
   ]
  },
  {
   "cell_type": "code",
   "execution_count": 121,
   "id": "49bb5789",
   "metadata": {},
   "outputs": [
    {
     "data": {
      "text/plain": [
       "array([[0.91779022, 1.        , 0.91779022],\n",
       "       [1.        , 0.60653066, 1.        ],\n",
       "       [0.91779022, 1.        , 0.91779022]])"
      ]
     },
     "execution_count": 121,
     "metadata": {},
     "output_type": "execute_result"
    }
   ],
   "source": [
    "# Guassian Matrix\n",
    "array1, array2 = np.meshgrid(\n",
    "    np.linspace(-1, 1, 3),\n",
    "    np.linspace(-1, 1, 3)\n",
    ")\n",
    "array = np.sqrt(array1*array1+array2*array2)\n",
    "sigma, mu = 1.0, 1.0\n",
    "guassian = np.exp(\n",
    "    -(array-mu)**2/(2.0*sigma**2)\n",
    ")\n",
    "guassian"
   ]
  },
  {
   "cell_type": "code",
   "execution_count": 122,
   "id": "ab3a061b",
   "metadata": {},
   "outputs": [
    {
     "data": {
      "text/plain": [
       "array([[ 1., -0., -1.],\n",
       "       [-0.,  0.,  0.],\n",
       "       [-1.,  0.,  1.]])"
      ]
     },
     "execution_count": 122,
     "metadata": {},
     "output_type": "execute_result"
    }
   ],
   "source": [
    "array1*array2"
   ]
  },
  {
   "cell_type": "code",
   "execution_count": 123,
   "id": "6511fc8b",
   "metadata": {},
   "outputs": [
    {
     "data": {
      "text/plain": [
       "(array([[ 0., -1., -1.],\n",
       "        [ 0.,  0., -1.],\n",
       "        [-1.,  0., -1.]]),\n",
       " array([1, 8, 5, 2, 6]))"
      ]
     },
     "execution_count": 123,
     "metadata": {},
     "output_type": "execute_result"
    }
   ],
   "source": [
    "# randomly place p elements in 2d array\n",
    "array = np.zeros((3, 3))\n",
    "np.put(\n",
    "    array,\n",
    "    arr:=np.random.choice(range(9), 5, replace=False),\n",
    "    -1\n",
    ")\n",
    "array, arr"
   ]
  },
  {
   "cell_type": "code",
   "execution_count": 124,
   "id": "17ad0b4c",
   "metadata": {},
   "outputs": [
    {
     "data": {
      "text/plain": [
       "array([[-0.03131425, -0.36809411,  0.37169823,  0.02771013],\n",
       "       [ 0.07097481,  0.25665771,  0.00054392, -0.32817644],\n",
       "       [-0.19375054,  0.15728977, -0.08080437,  0.11726514]])"
      ]
     },
     "execution_count": 124,
     "metadata": {},
     "output_type": "execute_result"
    }
   ],
   "source": [
    "# subract mean of each row in numpy array\n",
    "array = np.random.rand(3, 4)\n",
    "array = array - array.mean(axis=-1, keepdims=True)\n",
    "array"
   ]
  },
  {
   "cell_type": "code",
   "execution_count": 125,
   "id": "a0d9f004",
   "metadata": {},
   "outputs": [
    {
     "data": {
      "text/plain": [
       "array([[7, 8, 9],\n",
       "       [4, 5, 6],\n",
       "       [1, 2, 3]])"
      ]
     },
     "execution_count": 125,
     "metadata": {},
     "output_type": "execute_result"
    }
   ],
   "source": [
    "# sort a numpy array by nth column or row\n",
    "array = np.arange(1, 10).reshape(3, 3)\n",
    "array[array[:, 1].argsort()[::-1]]"
   ]
  },
  {
   "cell_type": "code",
   "execution_count": 126,
   "id": "efa26514",
   "metadata": {},
   "outputs": [
    {
     "name": "stdout",
     "output_type": "stream",
     "text": [
      "[[ 2.  1.  2.  2.]\n",
      " [ 1. nan  1.  1.]\n",
      " [ 2.  1.  1.  1.]] False\n",
      "[False False False]\n"
     ]
    }
   ],
   "source": [
    "# null columns\n",
    "array = np.random.randint(1, 3, (3, 4)).astype(np.float32)\n",
    "array[1, 1] = None\n",
    "print(array, ~array.any(axis=-1).any())\n",
    "print(array.any(axis=-1, where=(array==np.nan)))"
   ]
  },
  {
   "cell_type": "code",
   "execution_count": 127,
   "id": "9dde3f3b",
   "metadata": {
    "scrolled": true
   },
   "outputs": [
    {
     "name": "stdout",
     "output_type": "stream",
     "text": [
      "4 (array([[0],\n",
      "       [1],\n",
      "       [2]]), array([[0, 1, 2]]), array([[0, 1, 2],\n",
      "       [1, 2, 3],\n",
      "       [2, 3, 4]]))\n"
     ]
    }
   ],
   "source": [
    "# np.nditer\n",
    "A = np.arange(3).reshape(3,1)\n",
    "B = np.arange(3).reshape(1,3)\n",
    "it = np.nditer([A,B,None])\n",
    "for x,y,z in it: z[...] = x + y\n",
    "print(z, it.operands)"
   ]
  },
  {
   "cell_type": "code",
   "execution_count": 128,
   "id": "7f341a7a",
   "metadata": {},
   "outputs": [
    {
     "data": {
      "text/plain": [
       "(NamedArray([0, 1, 2, 3, 4, 5, 6, 7, 8, 9]), 'range_10', 'no_name')"
      ]
     },
     "execution_count": 128,
     "metadata": {},
     "output_type": "execute_result"
    }
   ],
   "source": [
    "#named array\n",
    "class NamedArray(np.ndarray):\n",
    "    def __new__(cls, array, name=\"no_name\"):\n",
    "        obj = np.asarray(array).view(cls)\n",
    "        obj.name = name\n",
    "        return obj\n",
    "\n",
    "    def __array_finalize__(self, obj):\n",
    "        if obj is None:\n",
    "            return\n",
    "        self.info = getattr(obj, 'name', \"no_name\")\n",
    "\n",
    "array = NamedArray(np.arange(10), \"range_10\")\n",
    "array, array.name, array.info"
   ]
  },
  {
   "cell_type": "code",
   "execution_count": 129,
   "id": "6c6840de",
   "metadata": {},
   "outputs": [
    {
     "data": {
      "text/plain": [
       "(array([1., 1., 1., 1., 1., 1., 1., 1., 1., 1.]),\n",
       " array([8, 3, 8, 2, 6, 5, 7, 8, 4, 0]),\n",
       " array([1., 0., 1., 1., 1., 1., 1., 1., 3.]),\n",
       " (array([0, 2, 3, 4, 5, 6, 7, 8]),))"
      ]
     },
     "execution_count": 129,
     "metadata": {},
     "output_type": "execute_result"
    }
   ],
   "source": [
    "# bincount\n",
    "array = np.ones(10)\n",
    "i = np.random.randint(0, len(array), 10)\n",
    "array, i, np.bincount(i, array), np.where(np.bincount(i, array) != 0)"
   ]
  },
  {
   "cell_type": "code",
   "execution_count": 130,
   "id": "10c1eac9",
   "metadata": {},
   "outputs": [
    {
     "data": {
      "text/plain": [
       "array([[[ 50, 233, 171, 151, 206],\n",
       "        [ 58, 117, 159,  95, 215],\n",
       "        [232, 179, 112,  61, 240],\n",
       "        [185,  51,  11, 253,  38]],\n",
       "\n",
       "       [[129, 130, 112, 100, 112],\n",
       "        [183,  80, 186, 112,   1],\n",
       "        [129, 219,  53,  86, 228],\n",
       "        [223, 224, 128, 146, 125]],\n",
       "\n",
       "       [[129,  52, 171, 217, 159],\n",
       "        [197, 159, 246,  67, 182],\n",
       "        [202, 183, 122, 144, 254],\n",
       "        [ 37,  23,  68, 115,  97]]], dtype=uint8)"
      ]
     },
     "metadata": {},
     "output_type": "display_data"
    },
    {
     "data": {
      "text/plain": [
       "array([ 50, 129, 129], dtype=uint8)"
      ]
     },
     "metadata": {},
     "output_type": "display_data"
    },
    {
     "data": {
      "text/plain": [
       "array([ 50,  58, 232, 185], dtype=uint8)"
      ]
     },
     "metadata": {},
     "output_type": "display_data"
    },
    {
     "data": {
      "text/plain": [
       "array([[ 50,  58, 232, 185],\n",
       "       [129, 183, 129, 223],\n",
       "       [129, 197, 202,  37]], dtype=uint8)"
      ]
     },
     "metadata": {},
     "output_type": "display_data"
    },
    {
     "data": {
      "text/plain": [
       "array([  1,  11,  23,  37,  38,  50,  51,  52,  53,  58,  61,  67,  68,\n",
       "        80,  86,  95,  97, 100, 112, 115, 117, 122, 125, 128, 129, 130,\n",
       "       144, 146, 151, 159, 171, 179, 182, 183, 185, 186, 197, 202, 206,\n",
       "       215, 217, 219, 223, 224, 228, 232, 233, 240, 246, 253, 254],\n",
       "      dtype=uint8)"
      ]
     },
     "metadata": {},
     "output_type": "display_data"
    }
   ],
   "source": [
    "# 3d-array\n",
    "array = np.random.randint(0, 256, (3, 4, 5)).astype(np.uint8)  # (nchannel, nrow, ncolumn)\n",
    "display(\n",
    "    array,\n",
    "    array[:, 0, 0], # (channel, row, column),\n",
    "    array[0, :, 0],\n",
    "    array[..., 0],\n",
    "    np.unique(array)\n",
    ")"
   ]
  },
  {
   "cell_type": "code",
   "execution_count": 131,
   "id": "95422788",
   "metadata": {},
   "outputs": [
    {
     "data": {
      "text/plain": [
       "32"
      ]
     },
     "metadata": {},
     "output_type": "display_data"
    }
   ],
   "source": [
    "# np.einsum() : einstein summation\n",
    "array1 = np.array([1, 2, 3])\n",
    "array2 = np.array([4, 5, 6])\n",
    "result = np.einsum(\"n,n\", array1, array2)\n",
    "display(result)"
   ]
  },
  {
   "cell_type": "code",
   "execution_count": 132,
   "id": "123e80cc",
   "metadata": {},
   "outputs": [
    {
     "name": "stdout",
     "output_type": "stream",
     "text": [
      "CPU times: user 143 ms, sys: 249 ms, total: 392 ms\n",
      "Wall time: 42.6 ms\n",
      "CPU times: user 22.5 ms, sys: 67.3 ms, total: 89.8 ms\n",
      "Wall time: 10.2 ms\n",
      "CPU times: user 11 ms, sys: 12.4 ms, total: 23.4 ms\n",
      "Wall time: 2.42 ms\n",
      "\n"
     ]
    }
   ],
   "source": [
    "# diagonal of a dot product\n",
    "array1 = np.random.uniform(0, 1, (1000, 1000))\n",
    "array2 = np.random.uniform(0, 1, (1000, 1000))\n",
    "\n",
    "# slow, fast, faster versions\n",
    "# display(array1, array2, array1 @ array2)\n",
    "\n",
    "%time np.diag(array1@array2)\n",
    "%time np.sum(array1*array2.T, axis=-1)\n",
    "%time np.einsum(\"ij, ji->i\", array1, array2)  \n",
    "\n",
    "print()"
   ]
  },
  {
   "cell_type": "code",
   "execution_count": 133,
   "id": "971d57f9",
   "metadata": {},
   "outputs": [
    {
     "data": {
      "text/plain": [
       "array([[[4., 4., 4.],\n",
       "        [4., 4., 4.],\n",
       "        [4., 4., 4.]],\n",
       "\n",
       "       [[4., 4., 4.],\n",
       "        [4., 4., 4.],\n",
       "        [4., 4., 4.]],\n",
       "\n",
       "       [[4., 4., 4.],\n",
       "        [4., 4., 4.],\n",
       "        [4., 4., 4.]],\n",
       "\n",
       "       [[4., 4., 4.],\n",
       "        [4., 4., 4.],\n",
       "        [4., 4., 4.]]])"
      ]
     },
     "metadata": {},
     "output_type": "display_data"
    },
    {
     "data": {
      "text/plain": [
       "array([[[2., 2.],\n",
       "        [2., 2.],\n",
       "        [2., 2.]],\n",
       "\n",
       "       [[2., 2.],\n",
       "        [2., 2.],\n",
       "        [2., 2.]],\n",
       "\n",
       "       [[2., 2.],\n",
       "        [2., 2.],\n",
       "        [2., 2.]],\n",
       "\n",
       "       [[2., 2.],\n",
       "        [2., 2.],\n",
       "        [2., 2.]]])"
      ]
     },
     "metadata": {},
     "output_type": "display_data"
    }
   ],
   "source": [
    "# matrix mutliplication between 3d and 2d array\n",
    "array1 = np.ones((4, 3, 2))\n",
    "array2 = 2*np.ones((2, 3))\n",
    "\n",
    "display(array1 @ array2)\n",
    "\n",
    "array1 = np.ones((4, 3, 2)) \n",
    "array2 = 2*np.ones((4, 3))\n",
    "\n",
    "display(array1 * array2[:, :, None])"
   ]
  },
  {
   "cell_type": "code",
   "execution_count": 134,
   "id": "539d4f56",
   "metadata": {},
   "outputs": [
    {
     "data": {
      "text/plain": [
       "(array([1, 1, 2, 3, 4, 4, 6]), array([1, 2, 3, 4, 4, 6, 1]))"
      ]
     },
     "execution_count": 134,
     "metadata": {},
     "output_type": "execute_result"
    }
   ],
   "source": [
    "C = np.bincount([1, 1, 2, 3, 4, 4, 6])\n",
    "A = np.repeat(np.arange(len(C)), C)\n",
    "A, np.roll(A, shift=-1)"
   ]
  },
  {
   "cell_type": "code",
   "execution_count": 135,
   "id": "a451d0a1",
   "metadata": {},
   "outputs": [
    {
     "data": {
      "text/plain": [
       "array([0, 1, 2, 3, 4, 5, 6, 7, 8, 9])"
      ]
     },
     "metadata": {},
     "output_type": "display_data"
    },
    {
     "data": {
      "text/plain": [
       "array([1., 2., 3., 4., 5., 6., 7., 8.])"
      ]
     },
     "execution_count": 135,
     "metadata": {},
     "output_type": "execute_result"
    }
   ],
   "source": [
    "# np.cumsum & moving average\n",
    "array = np.arange(10)\n",
    "ret = np.cumsum(array)\n",
    "display(array)\n",
    "\n",
    "n = 3\n",
    "ret[n:] = ret[n:] - ret[:-n]\n",
    "ret[n-1:]/n"
   ]
  },
  {
   "cell_type": "code",
   "execution_count": 136,
   "id": "b7d4c008",
   "metadata": {},
   "outputs": [
    {
     "data": {
      "text/plain": [
       "array([0, 0, 0, 1, 0, 0, 0, 0, 1, 0])"
      ]
     },
     "metadata": {},
     "output_type": "display_data"
    },
    {
     "data": {
      "text/plain": [
       "array([ True,  True,  True, False,  True,  True,  True,  True, False,\n",
       "        True])"
      ]
     },
     "metadata": {},
     "output_type": "display_data"
    },
    {
     "data": {
      "text/plain": [
       "array([-0.13716732,  0.121898  , -0.15936541,  0.46296515,  0.5912337 ,\n",
       "        0.05265242,  0.80942958, -0.88011257,  0.99369793, -0.99208959])"
      ]
     },
     "metadata": {},
     "output_type": "display_data"
    },
    {
     "data": {
      "text/plain": [
       "array([ 0.13716732, -0.121898  ,  0.15936541, -0.46296515, -0.5912337 ,\n",
       "       -0.05265242, -0.80942958,  0.88011257, -0.99369793,  0.99208959])"
      ]
     },
     "metadata": {},
     "output_type": "display_data"
    }
   ],
   "source": [
    "array = np.random.randint(0,2,10)\n",
    "display(\n",
    "    array,\n",
    "    np.logical_not(array),\n",
    ")\n",
    "\n",
    "array = np.random.uniform(-1.0,1.0,10)\n",
    "display(\n",
    "    array,\n",
    "    np.negative(array)\n",
    ")"
   ]
  },
  {
   "cell_type": "code",
   "execution_count": 137,
   "id": "36f24283",
   "metadata": {},
   "outputs": [
    {
     "data": {
      "text/plain": [
       "array([[-0.45967109, -0.48765967,  0.26370106,  0.24835341, -0.64782163],\n",
       "       [-0.40666406, -0.50514677, -0.40323211,  0.24342623,  0.5979955 ],\n",
       "       [-0.40999497,  0.5703418 , -0.6052749 ,  0.2272546 , -0.29767767],\n",
       "       [-0.43258755, -0.05367524, -0.07986945, -0.89598388, -0.02864843],\n",
       "       [-0.51778273,  0.4228995 ,  0.6285927 ,  0.15694738,  0.36509696]])"
      ]
     },
     "metadata": {},
     "output_type": "display_data"
    },
    {
     "data": {
      "text/plain": [
       "array([2.48942494, 1.23354501, 0.58811412, 0.14710699, 0.03774921])"
      ]
     },
     "metadata": {},
     "output_type": "display_data"
    },
    {
     "data": {
      "text/plain": [
       "array([[-0.48835322, -0.42224648, -0.41888991, -0.4044024 , -0.49417506],\n",
       "       [-0.58040837,  0.53695209,  0.5085672 , -0.33856621, -0.03925434],\n",
       "       [ 0.09105488, -0.41049926,  0.16787377, -0.62831538,  0.6326433 ],\n",
       "       [-0.3412184 , -0.59407358,  0.55269682,  0.47437474, -0.01189219],\n",
       "       [ 0.54764612, -0.10934947,  0.48190795, -0.31940572, -0.59487069]])"
      ]
     },
     "metadata": {},
     "output_type": "display_data"
    },
    {
     "data": {
      "text/plain": [
       "5"
      ]
     },
     "execution_count": 137,
     "metadata": {},
     "output_type": "execute_result"
    }
   ],
   "source": [
    "# SVD\n",
    "array = np.random.uniform(0, 1, (5, 5))\n",
    "u, s, v = np.linalg.svd(array)\n",
    "display(u, s, v)\n",
    "rank = np.sum(s>1e-10)\n",
    "rank"
   ]
  },
  {
   "cell_type": "code",
   "execution_count": 138,
   "id": "2630caa0",
   "metadata": {},
   "outputs": [
    {
     "data": {
      "text/plain": [
       "Symetric([[ 5,  9, 11, 12,  9],\n",
       "          [ 9,  3, 11,  9, 10],\n",
       "          [11, 11,  8, 42,  7],\n",
       "          [12,  9, 42,  2,  1],\n",
       "          [ 9, 10,  7,  1,  1]])"
      ]
     },
     "execution_count": 138,
     "metadata": {},
     "output_type": "execute_result"
    }
   ],
   "source": [
    "# Symmetric\n",
    "class Symetric(np.ndarray):\n",
    "    def __setitem__(self, index, value):\n",
    "        i,j = index\n",
    "        super(Symetric, self).__setitem__((i,j), value)\n",
    "        super(Symetric, self).__setitem__((j,i), value)\n",
    "\n",
    "def symetric(Z):\n",
    "    return np.asarray(Z + Z.T - np.diag(Z.diagonal())).view(Symetric)\n",
    "\n",
    "S = symetric(np.random.randint(0,10,(5,5)))\n",
    "S[2,3] = 42\n",
    "S"
   ]
  },
  {
   "cell_type": "code",
   "execution_count": 139,
   "id": "5165666f",
   "metadata": {},
   "outputs": [
    {
     "name": "stdout",
     "output_type": "stream",
     "text": [
      "CPU times: user 9.19 ms, sys: 1.13 ms, total: 10.3 ms\n",
      "Wall time: 10.3 ms\n",
      "CPU times: user 567 µs, sys: 542 µs, total: 1.11 ms\n",
      "Wall time: 886 µs\n",
      "CPU times: user 283 µs, sys: 271 µs, total: 554 µs\n",
      "Wall time: 560 µs\n"
     ]
    },
    {
     "data": {
      "text/plain": [
       "array([0.01066136, 0.18462519, 0.1271737 , ..., 0.79515536, 0.40653846,\n",
       "       0.02707851])"
      ]
     },
     "execution_count": 139,
     "metadata": {},
     "output_type": "execute_result"
    }
   ],
   "source": [
    "x = np.random.rand(500000)\n",
    "\n",
    "%time np.power(x,3)\n",
    "%time x*x*x\n",
    "%time np.einsum('i,i,i->i',x,x,x)"
   ]
  },
  {
   "cell_type": "code",
   "execution_count": 140,
   "id": "b32f7c7d",
   "metadata": {},
   "outputs": [
    {
     "data": {
      "text/plain": [
       "7.217105088793782"
      ]
     },
     "metadata": {},
     "output_type": "display_data"
    },
    {
     "data": {
      "text/plain": [
       "array([0.21088412, 0.46137195, 0.75865482, 0.49869994, 0.78802424,\n",
       "       0.12558179, 0.43264752, 0.200037  , 0.63553309, 0.12121537])"
      ]
     },
     "metadata": {},
     "output_type": "display_data"
    },
    {
     "data": {
      "text/plain": [
       "4.232649829754995"
      ]
     },
     "metadata": {},
     "output_type": "display_data"
    },
    {
     "data": {
      "text/plain": [
       "array([[0.21088412, 0.19532169, 0.19664017, 0.1387324 , 0.22756031,\n",
       "        0.049906  , 0.13304555, 0.09856709, 0.17278323, 0.05418691],\n",
       "       [0.49813217, 0.46137195, 0.46448634, 0.32770164, 0.53752323,\n",
       "        0.11788363, 0.31426867, 0.23282664, 0.40813355, 0.12799561],\n",
       "       [0.81360922, 0.75356802, 0.75865482, 0.53524164, 0.87794743,\n",
       "        0.19254168, 0.51330129, 0.3802804 , 0.66661268, 0.20905778],\n",
       "       [0.75806297, 0.70212086, 0.70686038, 0.49869994, 0.81800872,\n",
       "        0.17939659, 0.47825748, 0.35431812, 0.62110208, 0.19478511],\n",
       "       [0.73027583, 0.67638431, 0.6809501 , 0.48041987, 0.78802424,\n",
       "        0.17282073, 0.46072674, 0.34133043, 0.59833531, 0.18764518],\n",
       "       [0.53066172, 0.49150094, 0.49481871, 0.34910156, 0.57262514,\n",
       "        0.12558179, 0.33479137, 0.24803093, 0.43478591, 0.13635411],\n",
       "       [0.6857688 , 0.63516173, 0.63944925, 0.45114044, 0.73999771,\n",
       "        0.16228808, 0.43264752, 0.32052788, 0.56186946, 0.17620905],\n",
       "       [0.4279788 , 0.39639562, 0.3990714 , 0.28155049, 0.4618223 ,\n",
       "        0.10128174, 0.27000931, 0.200037  , 0.35065494, 0.10996962],\n",
       "       [0.77567619, 0.7184343 , 0.72328394, 0.51028699, 0.83701475,\n",
       "        0.18356478, 0.48936956, 0.36255053, 0.63553309, 0.19931085],\n",
       "       [0.4717449 , 0.43693195, 0.43988137, 0.31034249, 0.50904932,\n",
       "        0.11163905, 0.29762109, 0.22049325, 0.38651372, 0.12121537]])"
      ]
     },
     "metadata": {},
     "output_type": "display_data"
    }
   ],
   "source": [
    "A = np.random.uniform(0,1,10)\n",
    "B = np.random.uniform(0,1,10)\n",
    "\n",
    "display(\n",
    "    np.einsum('i->', A),       # np.sum(A)\n",
    "    np.einsum('i,i->i', A, B), # A * B\n",
    "    np.einsum('i,i', A, B),    # np.inner(A, B)\n",
    "    np.einsum('i,j->ij', A, B),    # np.outer(A, B)\n",
    ")"
   ]
  },
  {
   "cell_type": "markdown",
   "id": "a569a503",
   "metadata": {},
   "source": [
    "## **Pandas**\n",
    "<img src=\"https://mochablog.org/wp/wp-content/uploads/2020/05/Pandas_logo.png\" width=\"350\"/>\n"
   ]
  },
  {
   "cell_type": "code",
   "execution_count": null,
   "id": "70f511e3",
   "metadata": {},
   "outputs": [],
   "source": []
  }
 ],
 "metadata": {
  "kernelspec": {
   "display_name": "Python 3 (ipykernel)",
   "language": "python",
   "name": "python3"
  },
  "language_info": {
   "codemirror_mode": {
    "name": "ipython",
    "version": 3
   },
   "file_extension": ".py",
   "mimetype": "text/x-python",
   "name": "python",
   "nbconvert_exporter": "python",
   "pygments_lexer": "ipython3",
   "version": "3.10.12"
  }
 },
 "nbformat": 4,
 "nbformat_minor": 5
}
