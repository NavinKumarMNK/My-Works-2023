{
 "cells": [
  {
   "cell_type": "markdown",
   "id": "9fef3edf",
   "metadata": {},
   "source": [
    "# **Machine Learning 🤔**"
   ]
  },
  {
   "cell_type": "code",
   "execution_count": 6,
   "id": "818d49e3",
   "metadata": {
    "scrolled": true
   },
   "outputs": [
    {
     "name": "stdout",
     "output_type": "stream",
     "text": [
      "Python implementation: CPython\n",
      "Python version       : 3.10.12\n",
      "IPython version      : 8.14.0\n",
      "\n",
      "numpy  : 1.26.0\n",
      "ray    : 2.4.0\n",
      "pandas : 1.5.3\n",
      "sklearn: 1.2.0\n",
      "\n",
      "Compiler    : GCC 11.4.0\n",
      "OS          : Linux\n",
      "Release     : 6.2.0-34-generic\n",
      "Machine     : x86_64\n",
      "Processor   : x86_64\n",
      "CPU cores   : 12\n",
      "Architecture: 64bit\n",
      "\n"
     ]
    }
   ],
   "source": [
    "%load_ext watermark\n",
    "%watermark -v -m -p numpy,ray,pandas,sklearn"
   ]
  },
  {
   "cell_type": "code",
   "execution_count": 328,
   "id": "f01c3704",
   "metadata": {},
   "outputs": [],
   "source": [
    "import os\n",
    "import numpy as np\n",
    "import sklearn\n",
    "import matplotlib.pyplot as plt\n",
    "import scipy\n",
    "\n",
    "try:\n",
    "    import modin.pandas as pd\n",
    "    import ray \n",
    "    ray.init()\n",
    "except Exception as e: \n",
    "    import pandas as pd"
   ]
  },
  {
   "cell_type": "markdown",
   "id": "d8d7457f",
   "metadata": {},
   "source": [
    "## **Numpy Exercise**"
   ]
  },
  {
   "cell_type": "code",
   "execution_count": 10,
   "id": "413da633",
   "metadata": {},
   "outputs": [
    {
     "data": {
      "text/plain": [
       "array([[1, 2, 3],\n",
       "       [4, 5, 6],\n",
       "       [7, 8, 9]])"
      ]
     },
     "execution_count": 10,
     "metadata": {},
     "output_type": "execute_result"
    }
   ],
   "source": [
    "# Create an array with values as list\n",
    "array = np.array([\n",
    "    [1, 2, 3], [4, 5, 6], [7, 8, 9]\n",
    "])\n",
    "array"
   ]
  },
  {
   "cell_type": "code",
   "execution_count": 16,
   "id": "c2085466",
   "metadata": {},
   "outputs": [
    {
     "data": {
      "text/plain": [
       "array([[0., 0., 0.],\n",
       "       [0., 0., 0.],\n",
       "       [0., 0., 0.]])"
      ]
     },
     "execution_count": 16,
     "metadata": {},
     "output_type": "execute_result"
    }
   ],
   "source": [
    "# Create a null vector of shape as parameter\n",
    "array = np.zeros((3, 3)) # (row, column)\n",
    "array"
   ]
  },
  {
   "cell_type": "code",
   "execution_count": 20,
   "id": "90b66486",
   "metadata": {},
   "outputs": [
    {
     "name": "stdout",
     "output_type": "stream",
     "text": [
      "(3, 3)\n",
      "72\n"
     ]
    }
   ],
   "source": [
    "# Shape and memory\n",
    "print(array.shape)\n",
    "print(array.size * array.itemsize)"
   ]
  },
  {
   "cell_type": "code",
   "execution_count": 24,
   "id": "ba0f3d23",
   "metadata": {},
   "outputs": [
    {
     "name": "stdout",
     "output_type": "stream",
     "text": [
      "class:  ndarray\n",
      "shape:  (3, 3)\n",
      "strides:  (24, 8)\n",
      "itemsize:  8\n",
      "aligned:  True\n",
      "contiguous:  True\n",
      "fortran:  False\n",
      "data pointer: 0x55cb02c52030\n",
      "byteorder:  little\n",
      "byteswap:  False\n",
      "type: float64\n"
     ]
    }
   ],
   "source": [
    "# Information of numpy \n",
    "np.info(array)"
   ]
  },
  {
   "cell_type": "code",
   "execution_count": 32,
   "id": "d21721a1",
   "metadata": {},
   "outputs": [
    {
     "name": "stdout",
     "output_type": "stream",
     "text": [
      "index 3 is out of bounds for axis 0 with size 3\n"
     ]
    },
    {
     "data": {
      "text/plain": [
       "array([[0., 1., 0.],\n",
       "       [0., 0., 1.],\n",
       "       [3., 4., 0.]])"
      ]
     },
     "execution_count": 32,
     "metadata": {},
     "output_type": "execute_result"
    }
   ],
   "source": [
    "# Modify the array\n",
    "array = np.zeros((3, 3))\n",
    "array[2][1] = 4\n",
    "array[2, 0] = 3  # best respresentation\n",
    "array[[1, 0], [2, 1]] = 1  # for x, y in zip(list1, list2)\n",
    "try:\n",
    "    array[3][0] = 1\n",
    "except Exception as e:\n",
    "    print(e)\n",
    "array"
   ]
  },
  {
   "cell_type": "code",
   "execution_count": 33,
   "id": "578054b9",
   "metadata": {},
   "outputs": [
    {
     "data": {
      "text/plain": [
       "array([[0, 1, 2],\n",
       "       [3, 4, 5],\n",
       "       [6, 7, 8]])"
      ]
     },
     "execution_count": 33,
     "metadata": {},
     "output_type": "execute_result"
    }
   ],
   "source": [
    "# Creating a numpy array with values ranging from a to b & reshape\n",
    "array = np.arange(0, 9).reshape(3, 3)\n",
    "array"
   ]
  },
  {
   "cell_type": "code",
   "execution_count": 42,
   "id": "3da83f28",
   "metadata": {},
   "outputs": [
    {
     "name": "stdout",
     "output_type": "stream",
     "text": [
      "[[6 7 8]\n",
      " [3 4 5]\n",
      " [0 1 2]]\n",
      "[[2 1 0]\n",
      " [5 4 3]\n",
      " [8 7 6]]\n"
     ]
    }
   ],
   "source": [
    " # reverse the order of row [0, n-1] -> [n-1, 0, -1]\n",
    "print(array[::-1]) \n",
    "\n",
    "# reverse the order of columns [0, n-1] -> [n-1, 0, -1]\n",
    "print(array[:, ::-1]) "
   ]
  },
  {
   "cell_type": "code",
   "execution_count": 46,
   "id": "263b6e7d",
   "metadata": {},
   "outputs": [
    {
     "data": {
      "text/plain": [
       "array([[1, 0, 0],\n",
       "       [0, 1, 0],\n",
       "       [0, 0, 1]], dtype=int32)"
      ]
     },
     "execution_count": 46,
     "metadata": {},
     "output_type": "execute_result"
    }
   ],
   "source": [
    "# Identity matrix with dtype\n",
    "array = np.eye(3, dtype=np.int32)\n",
    "array"
   ]
  },
  {
   "cell_type": "code",
   "execution_count": 57,
   "id": "a83dd729",
   "metadata": {},
   "outputs": [
    {
     "data": {
      "text/plain": [
       "array([[1., 1., 1., 1., 1.],\n",
       "       [1., 0., 0., 0., 1.],\n",
       "       [1., 0., 0., 0., 1.],\n",
       "       [1., 0., 0., 0., 1.],\n",
       "       [1., 1., 1., 1., 1.]])"
      ]
     },
     "execution_count": 57,
     "metadata": {},
     "output_type": "execute_result"
    }
   ],
   "source": [
    "# 2d array with 1 on the borders\n",
    "array = np.ones((5, 5))\n",
    "array[1:-1, 1:-1] = 0\n",
    "array\n"
   ]
  },
  {
   "cell_type": "code",
   "execution_count": 59,
   "id": "d6c3b18c",
   "metadata": {},
   "outputs": [
    {
     "data": {
      "text/plain": [
       "array([[2., 2., 2., 2., 2.],\n",
       "       [2., 1., 1., 1., 2.],\n",
       "       [2., 1., 1., 1., 2.],\n",
       "       [2., 1., 1., 1., 2.],\n",
       "       [2., 2., 2., 2., 2.]])"
      ]
     },
     "execution_count": 59,
     "metadata": {},
     "output_type": "execute_result"
    }
   ],
   "source": [
    "# Pad and array\n",
    "array = np.ones((3, 3))\n",
    "array = np.pad(array,  pad_width=1, mode='constant', constant_values=2)\n",
    "array"
   ]
  },
  {
   "cell_type": "code",
   "execution_count": 62,
   "id": "9ea98096",
   "metadata": {},
   "outputs": [
    {
     "name": "stdout",
     "output_type": "stream",
     "text": [
      "nan\n",
      "False\n",
      "False\n",
      "False\n",
      "nan\n",
      "False\n"
     ]
    }
   ],
   "source": [
    "# np.nan Expression\n",
    "print(\n",
    "    0 * np.nan,\n",
    "    np.nan == np.nan,\n",
    "    np.inf > np.nan,\n",
    "    np.inf < np.nan,\n",
    "    np.nan - np.nan,\n",
    "    0.3 == 0.1 * 3,\n",
    "    sep='\\n'\n",
    ")"
   ]
  },
  {
   "cell_type": "code",
   "execution_count": 69,
   "id": "bb63600b",
   "metadata": {},
   "outputs": [
    {
     "data": {
      "text/plain": [
       "array([[0, 0, 0, 0, 0],\n",
       "       [1, 0, 0, 0, 0],\n",
       "       [0, 2, 0, 0, 0],\n",
       "       [0, 0, 3, 0, 0],\n",
       "       [0, 0, 0, 4, 0]])"
      ]
     },
     "execution_count": 69,
     "metadata": {},
     "output_type": "execute_result"
    }
   ],
   "source": [
    "# 5*5 matrix with values 1,2,3,4 just below diagnol\n",
    "array = np.diag((1, 2, 3, 4), k=-1) # k is the shift \n",
    "array "
   ]
  },
  {
   "cell_type": "code",
   "execution_count": 76,
   "id": "6e73d58e",
   "metadata": {},
   "outputs": [
    {
     "data": {
      "text/plain": [
       "array([[1., 0., 1., 0., 1., 0., 1., 0.],\n",
       "       [0., 1., 0., 1., 0., 1., 0., 1.],\n",
       "       [1., 0., 1., 0., 1., 0., 1., 0.],\n",
       "       [0., 1., 0., 1., 0., 1., 0., 1.],\n",
       "       [1., 0., 1., 0., 1., 0., 1., 0.],\n",
       "       [0., 1., 0., 1., 0., 1., 0., 1.],\n",
       "       [1., 0., 1., 0., 1., 0., 1., 0.],\n",
       "       [0., 1., 0., 1., 0., 1., 0., 1.]])"
      ]
     },
     "execution_count": 76,
     "metadata": {},
     "output_type": "execute_result"
    }
   ],
   "source": [
    "# checkboard pattern\n",
    "array = np.zeros((8, 8))\n",
    "array[0:-1:2,0:-1:2] = 1\n",
    "array[1::2, 1::2] = 1\n",
    "array"
   ]
  },
  {
   "cell_type": "code",
   "execution_count": 83,
   "id": "ee70a1e3",
   "metadata": {},
   "outputs": [
    {
     "name": "stdout",
     "output_type": "stream",
     "text": [
      "(1, 2)\n",
      "[[0 1 0 1 0 1 0 1]\n",
      " [1 0 1 0 1 0 1 0]\n",
      " [0 1 0 1 0 1 0 1]\n",
      " [1 0 1 0 1 0 1 0]\n",
      " [0 1 0 1 0 1 0 1]\n",
      " [1 0 1 0 1 0 1 0]\n",
      " [0 1 0 1 0 1 0 1]\n",
      " [1 0 1 0 1 0 1 0]]\n"
     ]
    }
   ],
   "source": [
    "# unravel the numpy array \n",
    "print(np.unravel_index(10, array.shape))\n",
    "\n",
    "# tile function\n",
    "print(np.tile(\n",
    "    np.array([[0, 1], [1, 0]]), reps=(4, 4)\n",
    "))"
   ]
  },
  {
   "cell_type": "code",
   "execution_count": 86,
   "id": "db052630",
   "metadata": {},
   "outputs": [
    {
     "name": "stdout",
     "output_type": "stream",
     "text": [
      "[[0.37454012 0.95071431 0.73199394]\n",
      " [0.59865848 0.15601864 0.15599452]\n",
      " [0.05808361 0.86617615 0.60111501]]\n"
     ]
    }
   ],
   "source": [
    "# set random seed => value doesn't change\n",
    "np.random.seed(42)\n",
    "\n",
    "# Generate Random numpy array\n",
    "array = np.random.random((3, 3))\n",
    "print(array)"
   ]
  },
  {
   "cell_type": "code",
   "execution_count": 88,
   "id": "19177b4c",
   "metadata": {},
   "outputs": [
    {
     "name": "stdout",
     "output_type": "stream",
     "text": [
      "0.05808361216819946 0.9507143064099162 0.4992549757478559 0.30888608340705315\n",
      "[0.37454012 0.15599452 0.05808361]\n",
      "[0.95071431 0.59865848 0.86617615]\n",
      "[0.68574946 0.30355721 0.50845826]\n",
      "[0.23748416 0.20866811 0.3363454 ]\n"
     ]
    }
   ],
   "source": [
    "# Calculate the metrics\n",
    "# -1, -2, ... from the x-axis(row wise), y-axiz(column wise), ...\n",
    "print(array.min(), array.max(), array.mean(), array.std())\n",
    "print(array.min(-1), array.max(-1), array.mean(-1), array.std(-1), sep='\\n')"
   ]
  },
  {
   "cell_type": "code",
   "execution_count": 85,
   "id": "7f49c919",
   "metadata": {},
   "outputs": [
    {
     "data": {
      "text/plain": [
       "array([[-0.93249038, -0.26556256,  0.05869067],\n",
       "       [ 0.4506235 ,  1.88848002, -0.66956567],\n",
       "       [ 0.70474267,  1.04630988, -1.33899508],\n",
       "       [ 1.11241375, -0.79691986, -1.25772695]])"
      ]
     },
     "execution_count": 85,
     "metadata": {},
     "output_type": "execute_result"
    }
   ],
   "source": [
    "# Normalize = (x - x_mean)/(x_std)\n",
    "array = np.random.random((4, 3))\n",
    "array = (array - np.mean(array))/(np.std(array)) \n",
    "array"
   ]
  },
  {
   "cell_type": "code",
   "execution_count": 89,
   "id": "84967957",
   "metadata": {},
   "outputs": [
    {
     "name": "stderr",
     "output_type": "stream",
     "text": [
      "FutureWarning: Passing (type, 1) or '1type' as a synonym of type is deprecated; in a future version of numpy, it will be understood as (type, (1,)) / '(1,)type'.\n"
     ]
    },
    {
     "data": {
      "text/plain": [
       "dtype([('r', 'u1'), ('g', 'u1'), ('b', 'u1'), ('a', 'u1')])"
      ]
     },
     "execution_count": 89,
     "metadata": {},
     "output_type": "execute_result"
    }
   ],
   "source": [
    "# Custom Dtype\n",
    "color = np.dtype([\n",
    "    (\"r\", np.ubyte, 1),\n",
    "    (\"g\", np.ubyte, 1),\n",
    "    (\"b\", np.ubyte, 1),\n",
    "    (\"a\", np.ubyte, 1),\n",
    "])\n",
    "\n",
    "color"
   ]
  },
  {
   "cell_type": "code",
   "execution_count": 93,
   "id": "9e84d606",
   "metadata": {},
   "outputs": [
    {
     "name": "stdout",
     "output_type": "stream",
     "text": [
      "[255   0]\n",
      "[  0 255]\n",
      "[0 0]\n",
      "[255 255]\n"
     ]
    }
   ],
   "source": [
    "colors = np.array(\n",
    "    [\n",
    "        (255, 0, 0, 255),\n",
    "        (0, 255, 0, 255),\n",
    "    ],\n",
    "    dtype=color\n",
    ")\n",
    "\n",
    "# Access the fields by name\n",
    "print(colors['r'])\n",
    "print(colors['g']) \n",
    "print(colors['b']) \n",
    "print(colors['a'])"
   ]
  },
  {
   "cell_type": "code",
   "execution_count": 91,
   "id": "6f0b200c",
   "metadata": {},
   "outputs": [
    {
     "name": "stdout",
     "output_type": "stream",
     "text": [
      "[[2.]\n",
      " [2.]\n",
      " [2.]]\n",
      "[[2.]\n",
      " [2.]\n",
      " [2.]]\n"
     ]
    }
   ],
   "source": [
    "# Matrix Product\n",
    "array1, array2 = np.ones((3,2)), np.ones((2, 1))\n",
    "print(np.dot(array1, array2))\n",
    "print(array1 @ array2)"
   ]
  },
  {
   "cell_type": "code",
   "execution_count": 101,
   "id": "0efd1bca",
   "metadata": {},
   "outputs": [
    {
     "data": {
      "text/plain": [
       "(array([False, False, False, False,  True,  True,  True,  True, False,\n",
       "        False, False]),\n",
       " array([ 0,  1,  2,  3, -4, -5, -6, -7,  8,  9, 10]))"
      ]
     },
     "execution_count": 101,
     "metadata": {},
     "output_type": "execute_result"
    }
   ],
   "source": [
    "# conditions\n",
    "array = np.arange(11)\n",
    "indices = (3 < array) & (8 > array)\n",
    "array[indices] *= -1\n",
    "indices, array"
   ]
  },
  {
   "cell_type": "code",
   "execution_count": 102,
   "id": "36fb8243",
   "metadata": {},
   "outputs": [
    {
     "data": {
      "text/plain": [
       "(9, 10)"
      ]
     },
     "execution_count": 102,
     "metadata": {},
     "output_type": "execute_result"
    }
   ],
   "source": [
    "# calculate sum() from start=-1 and np.sum() calclates along axis -1\n",
    "sum(range(5),-1), np.sum(range(5),-1)"
   ]
  },
  {
   "cell_type": "code",
   "execution_count": 132,
   "id": "b86a9d55",
   "metadata": {},
   "outputs": [
    {
     "name": "stdout",
     "output_type": "stream",
     "text": [
      "[[-2. -1.]\n",
      " [ 0.  1.]]\n",
      "[[ 0.25 -1.  ]\n",
      " [ 1.    1.  ]]\n",
      "[[0 0]\n",
      " [0 1]]\n",
      "[[ True  True]\n",
      " [False False]]\n",
      "[[-0.-2.j -0.-1.j]\n",
      " [ 0.+0.j  0.+1.j]]\n",
      "[[-2. -1.]\n",
      " [ 0.  1.]]\n"
     ]
    }
   ],
   "source": [
    "# astype() + conditions\n",
    "array = np.arange(-2, 2).reshape((2, 2)).astype(np.float32)\n",
    "print(\n",
    "    array,\n",
    "    array**array,  # 0**0 = 1\n",
    "    2 << array.astype(np.int32) >> 2,\n",
    "    array < -array,\n",
    "    1j*array,\n",
    "    array/1/1,\n",
    "    sep=\"\\n\"\n",
    ")"
   ]
  },
  {
   "cell_type": "code",
   "execution_count": 130,
   "id": "98925295",
   "metadata": {},
   "outputs": [
    {
     "name": "stdout",
     "output_type": "stream",
     "text": [
      "nan\n",
      "0\n",
      "[-9.22337204e+18]\n"
     ]
    },
    {
     "name": "stderr",
     "output_type": "stream",
     "text": [
      "RuntimeWarning: invalid value encountered in divide\n",
      "RuntimeWarning: divide by zero encountered in floor_divide\n",
      "RuntimeWarning: invalid value encountered in cast\n"
     ]
    }
   ],
   "source": [
    "# conditions\n",
    "\n",
    "print(\n",
    "    np.array(0) / np.array(0),\n",
    "    np.array(0) // np.array(0),\n",
    "    np.array([np.nan]).astype(int).astype(float),\n",
    "    sep=\"\\n\"\n",
    ")"
   ]
  },
  {
   "cell_type": "code",
   "execution_count": 150,
   "id": "806c90b8",
   "metadata": {},
   "outputs": [
    {
     "data": {
      "text/plain": [
       "(array([-9.58831011,  9.39819704,  6.64885282, -5.75321779, -6.36350066,\n",
       "        -6.3319098 , -3.91515514,  0.49512863, -1.36109963, -4.1754172 ]),\n",
       " array([-10.,  10.,   7.,  -6.,  -7.,  -7.,  -4.,   1.,  -2.,  -5.]))"
      ]
     },
     "execution_count": 150,
     "metadata": {},
     "output_type": "execute_result"
    }
   ],
   "source": [
    "# round away from zero a float array\n",
    "array = np.random.uniform(-10, 10, 10)\n",
    "array2 = np.copysign(np.ceil(np.abs(array)), array)\n",
    "array, array2"
   ]
  },
  {
   "cell_type": "code",
   "execution_count": 153,
   "id": "314097c0",
   "metadata": {
    "scrolled": true
   },
   "outputs": [
    {
     "name": "stdout",
     "output_type": "stream",
     "text": [
      "[6 7 8] [0 1 3 4 6 7 8 9]\n"
     ]
    }
   ],
   "source": [
    "# intersection\n",
    "array1 = np.random.randint(0, 10, 10)\n",
    "array2 = np.random.randint(0, 10, 10)\n",
    "\n",
    "print(\n",
    "    np.intersect1d(array1, array2),\n",
    "    np.union1d(array1, array2)\n",
    ")"
   ]
  },
  {
   "cell_type": "code",
   "execution_count": 162,
   "id": "bafce4a0",
   "metadata": {},
   "outputs": [
    {
     "name": "stdout",
     "output_type": "stream",
     "text": [
      "nan 1j\n",
      "[inf]\n"
     ]
    }
   ],
   "source": [
    "# ignore errors + emath(scimath)\n",
    "\"\"\"\n",
    "defaults = np.seterr(all=\"ignore\")\n",
    "<-- code --> \n",
    "_ = np.seterr(**defaults)\n",
    "\"\"\"\n",
    "\n",
    "with np.errstate(all=\"ignore\"):\n",
    "    print(np.sqrt(-1), np.emath.sqrt(-1))\n",
    "    array = np.ones(1) / 0\n",
    "    print(array)"
   ]
  },
  {
   "cell_type": "code",
   "execution_count": 171,
   "id": "a4d0b5ee",
   "metadata": {
    "scrolled": true
   },
   "outputs": [
    {
     "name": "stdout",
     "output_type": "stream",
     "text": [
      "2023-10-10\n",
      "2023-10-11\n",
      "2023-10-12\n",
      "['2023-03' '2023-04' '2023-05' '2023-06' '2023-07']\n"
     ]
    }
   ],
   "source": [
    "# Datetime\n",
    "print(\n",
    "    yesterday := np.datetime64('today', 'D') - np.timedelta64(1, 'D'),\n",
    "    today := np.datetime64('today', 'D'),\n",
    "    tomorrow := np.datetime64('today', 'D') + np.timedelta64(1, 'D'),\n",
    "    sep='\\n'\n",
    ")\n",
    "\n",
    "array = np.arange('2023-03-17', '2023-08-29', dtype='datetime64[M]')\n",
    "print(array)\n"
   ]
  },
  {
   "cell_type": "code",
   "execution_count": 173,
   "id": "30f4fb07",
   "metadata": {},
   "outputs": [
    {
     "data": {
      "text/plain": [
       "array([-1.5, -1.5, -1.5])"
      ]
     },
     "execution_count": 173,
     "metadata": {},
     "output_type": "execute_result"
    }
   ],
   "source": [
    "# ((A+B)*(-A/2))\n",
    "A = np.ones(3)*1\n",
    "B = np.ones(3)*2\n",
    "(A+B)*(-A/2)\n",
    "\n",
    "# Other method \n",
    "np.add(A,B, out=B)\n",
    "np.divide(A, 2, out=A)\n",
    "np.negative(A, out=A)\n",
    "np.multiply(A, B, out=A)\n",
    "A"
   ]
  },
  {
   "cell_type": "code",
   "execution_count": 185,
   "id": "d3a7cce6",
   "metadata": {},
   "outputs": [
    {
     "name": "stdout",
     "output_type": "stream",
     "text": [
      "[ 0.61869167 -1.04433671  1.05786178  1.85393448 -8.38293347 -2.60691088\n",
      " -5.15680123  6.06279513 -0.59398731  9.66846282]\n",
      "[ 0. -2.  1.  1. -9. -3. -6.  6. -1.  9.]\n",
      "[ 0. -2.  1.  1. -9. -3. -6.  6. -1.  9.]\n",
      "[ 1. -1.  2.  2. -8. -2. -5.  7. -0. 10.]\n",
      "[ 0. -1.  1.  1. -8. -2. -5.  6. -0.  9.]\n"
     ]
    }
   ],
   "source": [
    "# Extract signs and integer parts\n",
    "array = np.random.uniform(-10, 10, 10)\n",
    "print(\n",
    "    array,\n",
    "    array - array%1,\n",
    "    np.floor(array),\n",
    "    np.ceil(array),\n",
    "    np.trunc(array),\n",
    "    sep=\"\\n\",\n",
    ")"
   ]
  },
  {
   "cell_type": "code",
   "execution_count": 189,
   "id": "641b2e74",
   "metadata": {},
   "outputs": [
    {
     "data": {
      "text/plain": [
       "array([[0., 1., 2., 3., 4.],\n",
       "       [0., 1., 2., 3., 4.],\n",
       "       [0., 1., 2., 3., 4.],\n",
       "       [0., 1., 2., 3., 4.],\n",
       "       [0., 1., 2., 3., 4.]])"
      ]
     },
     "execution_count": 189,
     "metadata": {},
     "output_type": "execute_result"
    }
   ],
   "source": [
    "# array with row values rangin from 0-4\n",
    "array = np.zeros((5, 5))\n",
    "array[:] = np.arange(5) # array += np.arange(5)\n",
    "array"
   ]
  },
  {
   "cell_type": "code",
   "execution_count": 194,
   "id": "9ee3a4ec",
   "metadata": {},
   "outputs": [
    {
     "data": {
      "text/plain": [
       "array([0., 1., 2., 3., 4., 5., 6., 7., 8., 9.], dtype=float32)"
      ]
     },
     "execution_count": 194,
     "metadata": {},
     "output_type": "execute_result"
    }
   ],
   "source": [
    "# build and array from generator\n",
    "def generate():\n",
    "    for x in range(10):\n",
    "        yield x\n",
    "\n",
    "array = np.fromiter(\n",
    "    generate(), dtype=np.float32  # range() function are supported\n",
    ")\n",
    "array"
   ]
  },
  {
   "cell_type": "code",
   "execution_count": 224,
   "id": "e838fc6c",
   "metadata": {},
   "outputs": [
    {
     "data": {
      "text/plain": [
       "array([0, 5, 6, 8, 8])"
      ]
     },
     "execution_count": 224,
     "metadata": {},
     "output_type": "execute_result"
    }
   ],
   "source": [
    "# array sotring\n",
    "array = np.random.randint(0, 10, 5)\n",
    "array.sort()\n",
    "array"
   ]
  },
  {
   "cell_type": "code",
   "execution_count": 226,
   "id": "d37393a8",
   "metadata": {},
   "outputs": [
    {
     "name": "stdout",
     "output_type": "stream",
     "text": [
      "assignment destination is read-only\n",
      "[0. 0. 0. 0. 0. 0. 0. 0. 0. 0.]\n"
     ]
    }
   ],
   "source": [
    "# make immutable\n",
    "array = np.zeros(10)\n",
    "array.flags.writeable=False\n",
    "try:\n",
    "    array[0]=2\n",
    "except Exception as e:\n",
    "    print(e)\n",
    "finally:\n",
    "    print(array)"
   ]
  },
  {
   "cell_type": "code",
   "execution_count": 254,
   "id": "a6469b33",
   "metadata": {},
   "outputs": [
    {
     "name": "stdout",
     "output_type": "stream",
     "text": [
      "CPU times: user 41 µs, sys: 0 ns, total: 41 µs\n",
      "Wall time: 46.5 µs\n",
      "CPU times: user 22 µs, sys: 0 ns, total: 22 µs\n",
      "Wall time: 26.7 µs\n"
     ]
    },
    {
     "data": {
      "text/plain": [
       "4125042171973730304"
      ]
     },
     "execution_count": 254,
     "metadata": {},
     "output_type": "execute_result"
    }
   ],
   "source": [
    "array = np.arange(0, 100000, 10000)\n",
    "\n",
    "%time np.prod(array[1:])\n",
    "%time np.multiply.reduce(array[1:])"
   ]
  },
  {
   "cell_type": "code",
   "execution_count": 258,
   "id": "ba461ffd",
   "metadata": {},
   "outputs": [
    {
     "name": "stdout",
     "output_type": "stream",
     "text": [
      "[1. 2. 3.]\n",
      "[1.        2.0000001 3.       ]\n",
      "[ True False  True]\n",
      "True\n",
      "False\n"
     ]
    }
   ],
   "source": [
    "# comparison\n",
    "A = np.array([1.0, 2.0, 3.0])\n",
    "B = np.array([1.0, 2.0000001, 3.0])\n",
    "print(\n",
    "    A, B,\n",
    "    A==B,\n",
    "    np.allclose(A, B),\n",
    "    np.array_equal(A, B),\n",
    "    sep='\\n'\n",
    ")"
   ]
  },
  {
   "cell_type": "code",
   "execution_count": 278,
   "id": "48cb3afb",
   "metadata": {},
   "outputs": [
    {
     "data": {
      "text/plain": [
       "(array([[9, 2, 4],\n",
       "        [5, 8, 4],\n",
       "        [0, 3, 4]]),\n",
       " array([[9, 9, 4],\n",
       "        [6, 3, 0],\n",
       "        [4, 6, 9]]),\n",
       " array([[9, 2, 4, 9, 9, 4],\n",
       "        [5, 8, 4, 6, 3, 0],\n",
       "        [0, 3, 4, 4, 6, 9]]),\n",
       " array([[9, 2, 4],\n",
       "        [5, 8, 4],\n",
       "        [0, 3, 4],\n",
       "        [9, 9, 4],\n",
       "        [6, 3, 0],\n",
       "        [4, 6, 9]]))"
      ]
     },
     "execution_count": 278,
     "metadata": {},
     "output_type": "execute_result"
    }
   ],
   "source": [
    "# stacking\n",
    "array1 = np.random.randint(0, 10, 9).reshape((3, 3))\n",
    "array2 = np.random.randint(0, 10, 9).reshape((3, 3))\n",
    "\n",
    "array1, array2, np.column_stack((array1, array2)), np.vstack((array1, array2))"
   ]
  },
  {
   "cell_type": "code",
   "execution_count": 268,
   "id": "808e9cbf",
   "metadata": {},
   "outputs": [
    {
     "data": {
      "text/plain": [
       "(array([[0.47030063, 0.98342314],\n",
       "        [0.39882444, 0.81643187],\n",
       "        [0.79834512, 0.15071754],\n",
       "        [0.50819878, 0.69581281],\n",
       "        [0.8583588 , 0.32595891]]),\n",
       " array([[1.09009346, 1.1247174 ],\n",
       "        [0.90863741, 1.11639347],\n",
       "        [0.81244736, 0.18659139],\n",
       "        [0.86163882, 0.93997914],\n",
       "        [0.91816613, 0.36292563]]))"
      ]
     },
     "execution_count": 268,
     "metadata": {},
     "output_type": "execute_result"
    }
   ],
   "source": [
    "# random 10*2 matrix representing cartesian cordinates -> convert them to polar coordinates\n",
    "cartesian_cordinates = np.random.random((5, 2))\n",
    "x, y = cartesian_cordinates[:, 0], cartesian_cordinates[:, 1]\n",
    "polar_cordinates = np.column_stack(( # or np.vstack()\n",
    "    np.sqrt(x**2 + y**2),  # r\n",
    "    np.arctan2(y, x) # theta\n",
    "))\n",
    "cartesian_cordinates, polar_cordinates"
   ]
  },
  {
   "cell_type": "code",
   "execution_count": 260,
   "id": "092893f4",
   "metadata": {},
   "outputs": [
    {
     "data": {
      "text/plain": [
       "(array([9, 8, 8, 0, 8, 6, 8, 7]), 0)"
      ]
     },
     "execution_count": 260,
     "metadata": {},
     "output_type": "execute_result"
    }
   ],
   "source": [
    "# maxvalues of numpy array\n",
    "array = np.random.randint(0, 10, 8)\n",
    "array, np.argmax(array)\n"
   ]
  },
  {
   "cell_type": "code",
   "execution_count": 284,
   "id": "f80aa73b",
   "metadata": {},
   "outputs": [
    {
     "name": "stdout",
     "output_type": "stream",
     "text": [
      "[[(0.  , 0.  ) (0.25, 0.  ) (0.5 , 0.  ) (0.75, 0.  ) (1.  , 0.  )]\n",
      " [(0.  , 0.25) (0.25, 0.25) (0.5 , 0.25) (0.75, 0.25) (1.  , 0.25)]\n",
      " [(0.  , 0.5 ) (0.25, 0.5 ) (0.5 , 0.5 ) (0.75, 0.5 ) (1.  , 0.5 )]\n",
      " [(0.  , 0.75) (0.25, 0.75) (0.5 , 0.75) (0.75, 0.75) (1.  , 0.75)]\n",
      " [(0.  , 1.  ) (0.25, 1.  ) (0.5 , 1.  ) (0.75, 1.  ) (1.  , 1.  )]]\n"
     ]
    }
   ],
   "source": [
    "# create a structured array with x and y coordinates covering the [0, 1]x[0, 1] area\n",
    "array = np.zeros((5, 5), dtype=[('x', np.float32), ('y', np.float32)])\n",
    "array['x'], array['y'] = np.meshgrid(\n",
    "    np.linspace(0, 1, 5),\n",
    "    np.linspace(0, 1, 5)\n",
    ")\n",
    "print(array)"
   ]
  },
  {
   "cell_type": "code",
   "execution_count": 291,
   "id": "3f3e3b12",
   "metadata": {},
   "outputs": [
    {
     "data": {
      "text/plain": [
       "(array([[-2.        , -0.66666667, -0.4       , -0.28571429, -0.22222222,\n",
       "         -0.18181818, -0.15384615, -0.13333333],\n",
       "        [ 2.        , -2.        , -0.66666667, -0.4       , -0.28571429,\n",
       "         -0.22222222, -0.18181818, -0.15384615],\n",
       "        [ 0.66666667,  2.        , -2.        , -0.66666667, -0.4       ,\n",
       "         -0.28571429, -0.22222222, -0.18181818],\n",
       "        [ 0.4       ,  0.66666667,  2.        , -2.        , -0.66666667,\n",
       "         -0.4       , -0.28571429, -0.22222222],\n",
       "        [ 0.28571429,  0.4       ,  0.66666667,  2.        , -2.        ,\n",
       "         -0.66666667, -0.4       , -0.28571429],\n",
       "        [ 0.22222222,  0.28571429,  0.4       ,  0.66666667,  2.        ,\n",
       "         -2.        , -0.66666667, -0.4       ],\n",
       "        [ 0.18181818,  0.22222222,  0.28571429,  0.4       ,  0.66666667,\n",
       "          2.        , -2.        , -0.66666667],\n",
       "        [ 0.15384615,  0.18181818,  0.22222222,  0.28571429,  0.4       ,\n",
       "          0.66666667,  2.        , -2.        ]]),\n",
       " 3638.163637117973)"
      ]
     },
     "execution_count": 291,
     "metadata": {},
     "output_type": "execute_result"
    }
   ],
   "source": [
    "# Cauch matrix C: Cij = 1/xi-yj\n",
    "x = np.arange(8)\n",
    "y = x + 0.5\n",
    "C = 1./np.subtract.outer(x, y)\n",
    "C, np.linalg.det(C)"
   ]
  },
  {
   "cell_type": "code",
   "execution_count": 298,
   "id": "38411603",
   "metadata": {},
   "outputs": [
    {
     "data": {
      "text/plain": [
       "7"
      ]
     },
     "execution_count": 298,
     "metadata": {},
     "output_type": "execute_result"
    }
   ],
   "source": [
    "# closest value to given vector \n",
    "array = np.arange(100)\n",
    "v = np.random.uniform(0, 100)\n",
    "index = np.abs(array-v).argmin()\n",
    "array[index]"
   ]
  },
  {
   "cell_type": "code",
   "execution_count": 320,
   "id": "8811e0a7",
   "metadata": {},
   "outputs": [
    {
     "name": "stderr",
     "output_type": "stream",
     "text": [
      "FutureWarning: Passing (type, 1) or '1type' as a synonym of type is deprecated; in a future version of numpy, it will be understood as (type, (1,)) / '(1,)type'.\n",
      "FutureWarning: Passing (type, 1) or '1type' as a synonym of type is deprecated; in a future version of numpy, it will be understood as (type, (1,)) / '(1,)type'.\n",
      "FutureWarning: Passing (type, 1) or '1type' as a synonym of type is deprecated; in a future version of numpy, it will be understood as (type, (1,)) / '(1,)type'.\n"
     ]
    },
    {
     "data": {
      "text/plain": [
       "dtype([('position', [('x', 'u1'), ('y', 'u1')]), ('color', [('r', 'u1'), ('g', 'u1'), ('b', 'u1')])])"
      ]
     },
     "metadata": {},
     "output_type": "display_data"
    },
    {
     "data": {
      "text/plain": [
       "array([((1, 2), (2, 3, 4)), ((2, 3), (4, 5, 6))],\n",
       "      dtype=[('position', [('x', 'u1'), ('y', 'u1')]), ('color', [('r', 'u1'), ('g', 'u1'), ('b', 'u1')])])"
      ]
     },
     "metadata": {},
     "output_type": "display_data"
    },
    {
     "data": {
      "text/plain": [
       "array([1, 2], dtype=uint8)"
      ]
     },
     "metadata": {},
     "output_type": "display_data"
    },
    {
     "data": {
      "text/plain": [
       "(2, 3, 4)"
      ]
     },
     "metadata": {},
     "output_type": "display_data"
    }
   ],
   "source": [
    "# Datatype position (x, y) and color(r, g, b)\n",
    "color = np.dtype([\n",
    "    (\"r\", np.ubyte, 1),\n",
    "    (\"g\", np.ubyte, 1),\n",
    "    (\"b\", np.ubyte, 1),\n",
    "])\n",
    "\n",
    "position = np.dtype([\n",
    "    (\"x\", np.ubyte, 1),\n",
    "    (\"y\", np.ubyte, 1)\n",
    "])\n",
    "\n",
    "datatype = np.dtype([\n",
    "    (\"position\", position, 1),\n",
    "    (\"color\", color, 1)\n",
    "])\n",
    "\n",
    "array = np.array([\n",
    "    ((1, 2), (2, 3, 4)),\n",
    "    ((2, 3), (4, 5, 6)),\n",
    "], dtype=datatype)\n",
    "\n",
    "display(datatype, array, array['position']['x'], array['color'][0])"
   ]
  },
  {
   "cell_type": "code",
   "execution_count": 322,
   "id": "cca90602",
   "metadata": {},
   "outputs": [
    {
     "name": "stdout",
     "output_type": "stream",
     "text": [
      "[((0., 0.), (0., 0., 0.)) ((0., 0.), (0., 0., 0.))\n",
      " ((0., 0.), (0., 0., 0.)) ((0., 0.), (0., 0., 0.))]\n"
     ]
    },
    {
     "name": "stderr",
     "output_type": "stream",
     "text": [
      "FutureWarning: Passing (type, 1) or '1type' as a synonym of type is deprecated; in a future version of numpy, it will be understood as (type, (1,)) / '(1,)type'.\n"
     ]
    }
   ],
   "source": [
    "array = np.zeros(4, [ ('position', [ ('x', float, 1),\n",
    "                                  ('y', float, 1)]),\n",
    "                   ('color',    [ ('r', float, 1),\n",
    "                                  ('g', float, 1),\n",
    "                                  ('b', float, 1)])])\n",
    "print(array)"
   ]
  },
  {
   "cell_type": "code",
   "execution_count": 329,
   "id": "f3881a42",
   "metadata": {},
   "outputs": [
    {
     "name": "stdout",
     "output_type": "stream",
     "text": [
      "[[0.         0.68060587 0.72902682 0.93086318 0.94899237]\n",
      " [0.68060587 0.         0.7244187  0.72159601 0.28714832]\n",
      " [0.72902682 0.7244187  0.         0.25997017 0.96779519]\n",
      " [0.93086318 0.72159601 0.25997017 0.         0.90582586]\n",
      " [0.94899237 0.28714832 0.96779519 0.90582586 0.        ]]\n",
      "[[0.         0.68060587 0.72902682 0.93086318 0.94899237]\n",
      " [0.68060587 0.         0.7244187  0.72159601 0.28714832]\n",
      " [0.72902682 0.7244187  0.         0.25997017 0.96779519]\n",
      " [0.93086318 0.72159601 0.25997017 0.         0.90582586]\n",
      " [0.94899237 0.28714832 0.96779519 0.90582586 0.        ]]\n"
     ]
    }
   ],
   "source": [
    "# Distance between every two points of a given coordinate points\n",
    "array = np.random.random((5, 2))\n",
    "x, y = np.atleast_2d(array[:, 0], array[:, 1])\n",
    "print(np.sqrt((x-x.T)**2 + (y-y.T)**2))\n",
    "\n",
    "print(scipy.spatial.distance.cdist(array, array))"
   ]
  },
  {
   "cell_type": "code",
   "execution_count": null,
   "id": "0c5a631f",
   "metadata": {},
   "outputs": [],
   "source": [
    "# read from file\n"
   ]
  }
 ],
 "metadata": {
  "kernelspec": {
   "display_name": "Python 3 (ipykernel)",
   "language": "python",
   "name": "python3"
  },
  "language_info": {
   "codemirror_mode": {
    "name": "ipython",
    "version": 3
   },
   "file_extension": ".py",
   "mimetype": "text/x-python",
   "name": "python",
   "nbconvert_exporter": "python",
   "pygments_lexer": "ipython3",
   "version": "3.10.12"
  }
 },
 "nbformat": 4,
 "nbformat_minor": 5
}
