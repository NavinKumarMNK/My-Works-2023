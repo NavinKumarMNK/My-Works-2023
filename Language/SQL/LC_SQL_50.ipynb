{
 "cells": [
  {
   "attachments": {},
   "cell_type": "markdown",
   "metadata": {},
   "source": [
    "##### **1757. Recyclable and Low Fat Products**"
   ]
  },
  {
   "cell_type": "code",
   "execution_count": null,
   "metadata": {
    "vscode": {
     "languageId": "sql"
    }
   },
   "outputs": [],
   "source": [
    "Create table If Not Exists Products (product_id int, low_fats ENUM('Y', 'N'), recyclable ENUM('Y','N'))\n",
    "Truncate table Products\n",
    "insert into Products (product_id, low_fats, recyclable) values ('0', 'Y', 'N')\n",
    "insert into Products (product_id, low_fats, recyclable) values ('1', 'Y', 'Y')\n",
    "insert into Products (product_id, low_fats, recyclable) values ('2', 'N', 'Y')\n",
    "insert into Products (product_id, low_fats, recyclable) values ('3', 'Y', 'Y')\n",
    "insert into Products (product_id, low_fats, recyclable) values ('4', 'N', 'N')\n",
    "\n",
    "-- ANSWER\n",
    "SELECT product_id FROM Products WHERE low_fats = 'Y' and recyclable = 'Y';"
   ]
  },
  {
   "attachments": {},
   "cell_type": "markdown",
   "metadata": {},
   "source": [
    "##### **584. Find Customer Referee**"
   ]
  },
  {
   "cell_type": "code",
   "execution_count": null,
   "metadata": {
    "vscode": {
     "languageId": "sql"
    }
   },
   "outputs": [],
   "source": [
    "Create table If Not Exists Customer (id int, name varchar(25), referee_id int)\n",
    "Truncate table Customer\n",
    "insert into Customer (id, name, referee_id) values ('1', 'Will', 'None')\n",
    "insert into Customer (id, name, referee_id) values ('2', 'Jane', 'None')\n",
    "insert into Customer (id, name, referee_id) values ('3', 'Alex', '2')\n",
    "insert into Customer (id, name, referee_id) values ('4', 'Bill', 'None')\n",
    "insert into Customer (id, name, referee_id) values ('5', 'Zack', '1')\n",
    "insert into Customer (id, name, referee_id) values ('6', 'Mark', '2')\n",
    "\n",
    "-- ANSWER\n",
    "SELECT name FROM Customer WHERE referee_id != 2 or referee_id IS NULL;"
   ]
  },
  {
   "attachments": {},
   "cell_type": "markdown",
   "metadata": {},
   "source": [
    "##### **595. Big Countries**"
   ]
  },
  {
   "cell_type": "code",
   "execution_count": null,
   "metadata": {
    "vscode": {
     "languageId": "sql"
    }
   },
   "outputs": [],
   "source": [
    "Create table If Not Exists World (name varchar(255), continent varchar(255), area int, population int, gdp bigint)\n",
    "Truncate table World\n",
    "insert into World (name, continent, area, population, gdp) values ('Afghanistan', 'Asia', '652230', '25500100', '20343000000')\n",
    "insert into World (name, continent, area, population, gdp) values ('Albania', 'Europe', '28748', '2831741', '12960000000')\n",
    "insert into World (name, continent, area, population, gdp) values ('Algeria', 'Africa', '2381741', '37100000', '188681000000')\n",
    "insert into World (name, continent, area, population, gdp) values ('Andorra', 'Europe', '468', '78115', '3712000000')\n",
    "insert into World (name, continent, area, population, gdp) values ('Angola', 'Africa', '1246700', '20609294', '100990000000')\n",
    "\n",
    "-- ANSWER\n",
    "SELECT name, population, area FROM World WHERE area >= 3000000 or population >= 25000000;\n",
    "SELECT name, population, area FROM World HAVING area >= 3000000 OR population >= 25000000"
   ]
  },
  {
   "attachments": {},
   "cell_type": "markdown",
   "metadata": {},
   "source": [
    "##### **1148. Article Views I**"
   ]
  },
  {
   "cell_type": "code",
   "execution_count": null,
   "metadata": {
    "vscode": {
     "languageId": "sql"
    }
   },
   "outputs": [],
   "source": [
    "Create table If Not Exists Views (article_id int, author_id int, viewer_id int, view_date date)\n",
    "Truncate table Views\n",
    "insert into Views (article_id, author_id, viewer_id, view_date) values ('1', '3', '5', '2019-08-01')\n",
    "insert into Views (article_id, author_id, viewer_id, view_date) values ('1', '3', '6', '2019-08-02')\n",
    "insert into Views (article_id, author_id, viewer_id, view_date) values ('2', '7', '7', '2019-08-01')\n",
    "insert into Views (article_id, author_id, viewer_id, view_date) values ('2', '7', '6', '2019-08-02')\n",
    "insert into Views (article_id, author_id, viewer_id, view_date) values ('4', '7', '1', '2019-07-22')\n",
    "insert into Views (article_id, author_id, viewer_id, view_date) values ('3', '4', '4', '2019-07-21')\n",
    "insert into Views (article_id, author_id, viewer_id, view_date) values ('3', '4', '4', '2019-07-21')\n",
    "\n",
    "-- ANSWER\n",
    "SELECT DISTINCT author_id AS id FROM Views WHERE author_id = viewer_id ORDER BY author_id ASC;"
   ]
  },
  {
   "attachments": {},
   "cell_type": "markdown",
   "metadata": {},
   "source": [
    "##### **1683. Invalid Tweets**"
   ]
  },
  {
   "cell_type": "code",
   "execution_count": null,
   "metadata": {
    "vscode": {
     "languageId": "sql"
    }
   },
   "outputs": [],
   "source": [
    "Create table If Not Exists Tweets(tweet_id int, content varchar(50))\n",
    "Truncate table Tweets\n",
    "insert into Tweets (tweet_id, content) values ('1', 'Vote for Biden')\n",
    "insert into Tweets (tweet_id, content) values ('2', 'Let us make America great again!')\n",
    "\n",
    "-- ANSWER\n",
    "SELECT tweet_id FROM Tweets WHERE LENGTH(CONTENT) > 15;"
   ]
  },
  {
   "attachments": {},
   "cell_type": "markdown",
   "metadata": {},
   "source": [
    "##### **1378. Replace Employee ID With The Unique Identifier**"
   ]
  },
  {
   "cell_type": "code",
   "execution_count": null,
   "metadata": {
    "vscode": {
     "languageId": "sql"
    }
   },
   "outputs": [],
   "source": [
    "Create table If Not Exists Employees (id int, name varchar(20))\n",
    "Create table If Not Exists EmployeeUNI (id int, unique_id int)\n",
    "Truncate table Employees\n",
    "insert into Employees (id, name) values ('1', 'Alice')\n",
    "insert into Employees (id, name) values ('7', 'Bob')\n",
    "insert into Employees (id, name) values ('11', 'Meir')\n",
    "insert into Employees (id, name) values ('90', 'Winston')\n",
    "insert into Employees (id, name) values ('3', 'Jonathan')\n",
    "Truncate table EmployeeUNI\n",
    "insert into EmployeeUNI (id, unique_id) values ('3', '1')\n",
    "insert into EmployeeUNI (id, unique_id) values ('11', '2')\n",
    "insert into EmployeeUNI (id, unique_id) values ('90', '3')\n",
    "\n",
    "-- ANSWER\n",
    "SELECT EmployeeUNI.unique_id, Employees.name \n",
    "FROM Employees LEFT JOIN EmployeeUNI \n",
    "ON Employees.id = EmployeeUNI.id;"
   ]
  },
  {
   "attachments": {},
   "cell_type": "markdown",
   "metadata": {},
   "source": [
    "##### **1068. Product Sales Analysis I**"
   ]
  },
  {
   "cell_type": "code",
   "execution_count": null,
   "metadata": {
    "vscode": {
     "languageId": "sql"
    }
   },
   "outputs": [],
   "source": [
    "Create table If Not Exists Sales (sale_id int, product_id int, year int, quantity int, price int)\n",
    "Create table If Not Exists Product (product_id int, product_name varchar(10))\n",
    "Truncate table Sales\n",
    "insert into Sales (sale_id, product_id, year, quantity, price) values ('1', '100', '2008', '10', '5000')\n",
    "insert into Sales (sale_id, product_id, year, quantity, price) values ('2', '100', '2009', '12', '5000')\n",
    "insert into Sales (sale_id, product_id, year, quantity, price) values ('7', '200', '2011', '15', '9000')\n",
    "Truncate table Product\n",
    "insert into Product (product_id, product_name) values ('100', 'Nokia')\n",
    "insert into Product (product_id, product_name) values ('200', 'Apple')\n",
    "insert into Product (product_id, product_name) values ('300', 'Samsung')\n",
    "\n",
    "-- ANSWER\n",
    "SELECT P.product_name, S.year, S.price \n",
    "FROM Sales AS S JOIN Product AS P\n",
    "ON S.product_id = P.product_id; "
   ]
  },
  {
   "attachments": {},
   "cell_type": "markdown",
   "metadata": {},
   "source": [
    "##### **1581. Customer Who Visited but Did Not Make Any Transactions**"
   ]
  },
  {
   "cell_type": "code",
   "execution_count": null,
   "metadata": {
    "vscode": {
     "languageId": "sql"
    }
   },
   "outputs": [],
   "source": [
    "Create table If Not Exists Visits(visit_id int, customer_id int)\n",
    "Create table If Not Exists Transactions(transaction_id int, visit_id int, amount int)\n",
    "Truncate table Visits\n",
    "insert into Visits (visit_id, customer_id) values ('1', '23')\n",
    "insert into Visits (visit_id, customer_id) values ('2', '9')\n",
    "insert into Visits (visit_id, customer_id) values ('4', '30')\n",
    "insert into Visits (visit_id, customer_id) values ('5', '54')\n",
    "insert into Visits (visit_id, customer_id) values ('6', '96')\n",
    "insert into Visits (visit_id, customer_id) values ('7', '54')\n",
    "insert into Visits (visit_id, customer_id) values ('8', '54')\n",
    "Truncate table Transactions\n",
    "insert into Transactions (transaction_id, visit_id, amount) values ('2', '5', '310')\n",
    "insert into Transactions (transaction_id, visit_id, amount) values ('3', '5', '300')\n",
    "insert into Transactions (transaction_id, visit_id, amount) values ('9', '5', '200')\n",
    "insert into Transactions (transaction_id, visit_id, amount) values ('12', '1', '910')\n",
    "insert into Transactions (transaction_id, visit_id, amount) values ('13', '2', '970')\n",
    "\n",
    "-- ANSWER\n",
    "SELECT customer_id, COUNT(customer_id) AS count_no_trans \n",
    "FROM Visits \n",
    "Where visit_id NOT IN (\n",
    "  SELECT visit_id From Transactions\n",
    ") \n",
    "GROUP BY customer_id ORDER BY count_no_trans DESC; \n",
    "\n",
    "SELECT customer_id, COUNT(visit_id) as count_no_trans \n",
    "FROM Visits v\n",
    "WHERE NOT EXISTS (\n",
    "\tSELECT visit_id FROM Transactions t \n",
    "\tWHERE t.visit_id = v.visit_id\n",
    "\t)\n",
    "GROUP BY customer_id\n",
    "\n",
    "SELECT customer_id, COUNT(v.visit_id) as count_no_trans \n",
    "FROM Visits v\n",
    "LEFT JOIN Transactions t ON v.visit_id = t.visit_id\n",
    "WHERE transaction_id IS NULL\n",
    "GROUP BY customer_id"
   ]
  },
  {
   "attachments": {},
   "cell_type": "markdown",
   "metadata": {},
   "source": [
    "##### **197. Rising Temperature**"
   ]
  },
  {
   "cell_type": "code",
   "execution_count": null,
   "metadata": {
    "vscode": {
     "languageId": "sql"
    }
   },
   "outputs": [],
   "source": [
    "Create table If Not Exists Weather (id int, recordDate date, temperature int)\n",
    "Truncate table Weather\n",
    "insert into Weather (id, recordDate, temperature) values ('1', '2015-01-01', '10')\n",
    "insert into Weather (id, recordDate, temperature) values ('2', '2015-01-02', '25')\n",
    "insert into Weather (id, recordDate, temperature) values ('3', '2015-01-03', '20')\n",
    "insert into Weather (id, recordDate, temperature) values ('4', '2015-01-04', '30')\n",
    "\n",
    "-- ANSWER\n",
    "SELECT T.id FROM (\n",
    "  SELECT id, if(\n",
    "    LAG(recordDate) OVER(ORDER BY recordDate) = recordDate - INTERVAL 1 DAY,\n",
    "    temperature - LAG(temperature) OVER(ORDER BY recordDate),\n",
    "    0\n",
    "  ) AS tempchange FROM Weather\n",
    ") AS T\n",
    "WHERE T.tempchange > 0;\n",
    "\n",
    "SELECT w1.id FROM Weather AS w1, Weather AS w2\n",
    "WHERE DATEDIFF(w1.recordDate, w2.recordDate) = 1 and w1.temperature > w2.temperature;"
   ]
  },
  {
   "attachments": {},
   "cell_type": "markdown",
   "metadata": {},
   "source": [
    "##### **1661. Average Time of Process per Machine**"
   ]
  },
  {
   "cell_type": "code",
   "execution_count": null,
   "metadata": {
    "vscode": {
     "languageId": "sql"
    }
   },
   "outputs": [],
   "source": [
    "Create table If Not Exists Activity (machine_id int, process_id int, activity_type ENUM('start', 'end'), timestamp float)\n",
    "Truncate table Activity\n",
    "insert into Activity (machine_id, process_id, activity_type, timestamp) values ('0', '0', 'start', '0.712')\n",
    "insert into Activity (machine_id, process_id, activity_type, timestamp) values ('0', '0', 'end', '1.52')\n",
    "insert into Activity (machine_id, process_id, activity_type, timestamp) values ('0', '1', 'start', '3.14')\n",
    "insert into Activity (machine_id, process_id, activity_type, timestamp) values ('0', '1', 'end', '4.12')\n",
    "insert into Activity (machine_id, process_id, activity_type, timestamp) values ('1', '0', 'start', '0.55')\n",
    "insert into Activity (machine_id, process_id, activity_type, timestamp) values ('1', '0', 'end', '1.55')\n",
    "insert into Activity (machine_id, process_id, activity_type, timestamp) values ('1', '1', 'start', '0.43')\n",
    "insert into Activity (machine_id, process_id, activity_type, timestamp) values ('1', '1', 'end', '1.42')\n",
    "insert into Activity (machine_id, process_id, activity_type, timestamp) values ('2', '0', 'start', '4.1')\n",
    "insert into Activity (machine_id, process_id, activity_type, timestamp) values ('2', '0', 'end', '4.512')\n",
    "insert into Activity (machine_id, process_id, activity_type, timestamp) values ('2', '1', 'start', '2.5')\n",
    "insert into Activity (machine_id, process_id, activity_type, timestamp) values ('2', '1', 'end', '5')\n",
    "\n",
    "-- ANSWER\n",
    "SELECT A1.machine_id, ROUND(AVG(A2.timestamp-A1.timestamp), 3) AS processing_time\n",
    "FROM Activity AS A1, Activity AS A2 \n",
    "WHERE A1.activity_type = 'start' AND A2.activity_type = 'end' AND A1.process_id = A2.process_id AND A1.machine_id = A2.machine_id\n",
    "GROUP BY A1.machine_id\n",
    "\n"
   ]
  },
  {
   "attachments": {},
   "cell_type": "markdown",
   "metadata": {},
   "source": [
    "##### **577. Employee Bonus**"
   ]
  },
  {
   "cell_type": "code",
   "execution_count": null,
   "metadata": {
    "vscode": {
     "languageId": "sql"
    }
   },
   "outputs": [],
   "source": [
    "Create table If Not Exists Employee (empId int, name varchar(255), supervisor int, salary int)\n",
    "Create table If Not Exists Bonus (empId int, bonus int)\n",
    "Truncate table Employee\n",
    "insert into Employee (empId, name, supervisor, salary) values ('3', 'Brad', 'None', '4000')\n",
    "insert into Employee (empId, name, supervisor, salary) values ('1', 'John', '3', '1000')\n",
    "insert into Employee (empId, name, supervisor, salary) values ('2', 'Dan', '3', '2000')\n",
    "insert into Employee (empId, name, supervisor, salary) values ('4', 'Thomas', '3', '4000')\n",
    "Truncate table Bonus\n",
    "insert into Bonus (empId, bonus) values ('2', '500')\n",
    "insert into Bonus (empId, bonus) values ('4', '2000')\n",
    "\n",
    "-- ANSWER\n",
    "SELECT name, bonus\n",
    "FROM Employee NATURAL LEFT OUTER JOIN Bonus\n",
    "WHERE bonus<1000 OR bonus IS NULL;\n",
    "\n",
    "SELECT E.name, B.bonus \n",
    "FROM Employee AS E LEFT JOIN Bonus AS B\n",
    "ON E.empId = B.empId\n",
    "WHERE B.bonus < 1000 or B.Bonus IS NULL; "
   ]
  },
  {
   "attachments": {},
   "cell_type": "markdown",
   "metadata": {},
   "source": [
    "##### **1280. Students and Examinations**"
   ]
  },
  {
   "cell_type": "code",
   "execution_count": null,
   "metadata": {
    "vscode": {
     "languageId": "sql"
    }
   },
   "outputs": [],
   "source": [
    "Create table If Not Exists Students (student_id int, student_name varchar(20))\n",
    "Create table If Not Exists Subjects (subject_name varchar(20))\n",
    "Create table If Not Exists Examinations (student_id int, subject_name varchar(20))\n",
    "Truncate table Students\n",
    "insert into Students (student_id, student_name) values ('1', 'Alice')\n",
    "insert into Students (student_id, student_name) values ('2', 'Bob')\n",
    "insert into Students (student_id, student_name) values ('13', 'John')\n",
    "insert into Students (student_id, student_name) values ('6', 'Alex')\n",
    "Truncate table Subjects\n",
    "insert into Subjects (subject_name) values ('Math')\n",
    "insert into Subjects (subject_name) values ('Physics')\n",
    "insert into Subjects (subject_name) values ('Programming')\n",
    "Truncate table Examinations\n",
    "insert into Examinations (student_id, subject_name) values ('1', 'Math')\n",
    "insert into Examinations (student_id, subject_name) values ('1', 'Physics')\n",
    "insert into Examinations (student_id, subject_name) values ('1', 'Programming')\n",
    "insert into Examinations (student_id, subject_name) values ('2', 'Programming')\n",
    "insert into Examinations (student_id, subject_name) values ('1', 'Physics')\n",
    "insert into Examinations (student_id, subject_name) values ('1', 'Math')\n",
    "insert into Examinations (student_id, subject_name) values ('13', 'Math')\n",
    "insert into Examinations (student_id, subject_name) values ('13', 'Programming')\n",
    "insert into Examinations (student_id, subject_name) values ('13', 'Physics')\n",
    "insert into Examinations (student_id, subject_name) values ('2', 'Math')\n",
    "insert into Examinations (student_id, subject_name) values ('1', 'Math')\n",
    "\n",
    "-- ANSWER\n",
    "SELECT S.student_id, S.student_name, SUB.subject_name, COUNT(E.subject_name) as attended_exams\n",
    "FROM Students S CROSS JOIN Subjects SUB LEFT JOIN Examinations E\n",
    "ON E.student_id = S.student_id AND SUB.subject_name = E.subject_name \n",
    "GROUP BY S.student_id, SUB.subject_name\n",
    "ORDER BY S.student_id, SUB.subject_name;"
   ]
  },
  {
   "attachments": {},
   "cell_type": "markdown",
   "metadata": {},
   "source": [
    "##### **570. Managers with at Least 5 Direct Reports**"
   ]
  },
  {
   "cell_type": "code",
   "execution_count": null,
   "metadata": {
    "vscode": {
     "languageId": "sql"
    }
   },
   "outputs": [],
   "source": [
    "Create table If Not Exists Employee (id int, name varchar(255), department varchar(255), managerId int)\n",
    "Truncate table Employee\n",
    "insert into Employee (id, name, department, managerId) values ('101', 'John', 'A', 'None')\n",
    "insert into Employee (id, name, department, managerId) values ('102', 'Dan', 'A', '101')\n",
    "insert into Employee (id, name, department, managerId) values ('103', 'James', 'A', '101')\n",
    "insert into Employee (id, name, department, managerId) values ('104', 'Amy', 'A', '101')\n",
    "insert into Employee (id, name, department, managerId) values ('105', 'Anne', 'A', '101')\n",
    "insert into Employee (id, name, department, managerId) values ('106', 'Ron', 'B', '101')\n",
    "\n",
    "--ANSWER\n",
    "SELECT E.name FROM Employee AS E JOIN (\n",
    "  SELECT managerID, count(managerID) as count FROM Employee \n",
    "  GROUP BY ManagerID\n",
    ") AS T\n",
    "ON T.managerID = E.id\n",
    "WHERE T.count >= 5"
   ]
  },
  {
   "attachments": {},
   "cell_type": "markdown",
   "metadata": {},
   "source": [
    "##### **1934. Confirmation Rate**"
   ]
  },
  {
   "cell_type": "code",
   "execution_count": null,
   "metadata": {
    "vscode": {
     "languageId": "sql"
    }
   },
   "outputs": [],
   "source": [
    "-- Active: 1685782604398@@127.0.0.1@5432@mnk@public\n",
    "Create table If Not Exists Signups (user_id int, time_stamp datetime)\n",
    "Create table If Not Exists Confirmations (user_id int, time_stamp datetime, action ENUM('confirmed','timeout'))\n",
    "Truncate table Signups\n",
    "insert into Signups (user_id, time_stamp) values ('3', '2020-03-21 10:16:13')\n",
    "insert into Signups (user_id, time_stamp) values ('7', '2020-01-04 13:57:59')\n",
    "insert into Signups (user_id, time_stamp) values ('2', '2020-07-29 23:09:44')\n",
    "insert into Signups (user_id, time_stamp) values ('6', '2020-12-09 10:39:37')\n",
    "Truncate table Confirmations\n",
    "insert into Confirmations (user_id, time_stamp, action) values ('3', '2021-01-06 03:30:46', 'timeout')\n",
    "insert into Confirmations (user_id, time_stamp, action) values ('3', '2021-07-14 14:00:00', 'timeout')\n",
    "insert into Confirmations (user_id, time_stamp, action) values ('7', '2021-06-12 11:57:29', 'confirmed')\n",
    "insert into Confirmations (user_id, time_stamp, action) values ('7', '2021-06-13 12:58:28', 'confirmed')\n",
    "insert into Confirmations (user_id, time_stamp, action) values ('7', '2021-06-14 13:59:27', 'confirmed')\n",
    "insert into Confirmations (user_id, time_stamp, action) values ('2', '2021-01-22 00:00:00', 'confirmed')\n",
    "insert into Confirmations (user_id, time_stamp, action) values ('2', '2021-02-28 23:59:59', 'timeout')\n",
    "\n",
    "-- ANSWER\n",
    "SELECT S.user_id, round((SELECT COUNT(*) FROM Confirmations WHERE action='confirmed' and C.user_id = user_id) / COUNT(*), 2) AS confirmation_rate\n",
    "FROM Confirmations AS C RIGHT JOIN Signups AS S\n",
    "ON S.user_id = C.user_id\n",
    "GROUP BY S.user_id\n",
    "ORDER BY user_id DESC;\n"
   ]
  },
  {
   "attachments": {},
   "cell_type": "markdown",
   "metadata": {},
   "source": [
    "\n",
    "##### **620. Not Boring Movies**"
   ]
  },
  {
   "cell_type": "code",
   "execution_count": null,
   "metadata": {
    "vscode": {
     "languageId": "sql"
    }
   },
   "outputs": [],
   "source": [
    "Create table If Not Exists cinema (id int, movie varchar(255), description varchar(255), rating float(2, 1))\n",
    "Truncate table cinema\n",
    "insert into cinema (id, movie, description, rating) values ('1', 'War', 'great 3D', '8.9')\n",
    "insert into cinema (id, movie, description, rating) values ('2', 'Science', 'fiction', '8.5')\n",
    "insert into cinema (id, movie, description, rating) values ('3', 'irish', 'boring', '6.2')\n",
    "insert into cinema (id, movie, description, rating) values ('4', 'Ice song', 'Fantacy', '8.6')\n",
    "insert into cinema (id, movie, description, rating) values ('5', 'House card', 'Interesting', '9.1')\n",
    "\n",
    "SELECT * FROM Cinema WHERE id%2=1 AND description != 'boring' ORDER BY rating DESC;"
   ]
  },
  {
   "attachments": {},
   "cell_type": "markdown",
   "metadata": {},
   "source": [
    "##### **1251. Average Selling Price**"
   ]
  },
  {
   "cell_type": "code",
   "execution_count": null,
   "metadata": {
    "vscode": {
     "languageId": "sql"
    }
   },
   "outputs": [],
   "source": [
    "Create table If Not Exists Prices (product_id int, start_date date, end_date date, price int)\n",
    "Create table If Not Exists UnitsSold (product_id int, purchase_date date, units int)\n",
    "Truncate table Prices\n",
    "insert into Prices (product_id, start_date, end_date, price) values ('1', '2019-02-17', '2019-02-28', '5')\n",
    "insert into Prices (product_id, start_date, end_date, price) values ('1', '2019-03-01', '2019-03-22', '20')\n",
    "insert into Prices (product_id, start_date, end_date, price) values ('2', '2019-02-01', '2019-02-20', '15')\n",
    "insert into Prices (product_id, start_date, end_date, price) values ('2', '2019-02-21', '2019-03-31', '30')\n",
    "Truncate table UnitsSold\n",
    "insert into UnitsSold (product_id, purchase_date, units) values ('1', '2019-02-25', '100')\n",
    "insert into UnitsSold (product_id, purchase_date, units) values ('1', '2019-03-01', '15')\n",
    "insert into UnitsSold (product_id, purchase_date, units) values ('2', '2019-02-10', '200')\n",
    "insert into UnitsSold (product_id, purchase_date, units) values ('2', '2019-03-22', '30')\n",
    "\n",
    "-- ANSWER\n",
    "SELECT P.product_id, ROUND(SUM(P.price*U.Units)/SUM(U.Units), 2) \n",
    "FROM Prices P JOIN UnitsSold U \n",
    "ON U.purchase_date >= P.start_date and U.purchase_date <= P.end_date and P.product_id = U.product_id\n",
    "GROUP BY P.product_id"
   ]
  },
  {
   "attachments": {},
   "cell_type": "markdown",
   "metadata": {},
   "source": [
    "##### **1075. Project Employees I**"
   ]
  },
  {
   "cell_type": "code",
   "execution_count": null,
   "metadata": {
    "vscode": {
     "languageId": "sql"
    }
   },
   "outputs": [],
   "source": [
    "Create table If Not Exists Project (project_id int, employee_id int)\n",
    "Create table If Not Exists Employee (employee_id int, name varchar(10), experience_years int)\n",
    "Truncate table Project\n",
    "insert into Project (project_id, employee_id) values ('1', '1')\n",
    "insert into Project (project_id, employee_id) values ('1', '2')\n",
    "insert into Project (project_id, employee_id) values ('1', '3')\n",
    "insert into Project (project_id, employee_id) values ('2', '1')\n",
    "insert into Project (project_id, employee_id) values ('2', '4')\n",
    "Truncate table Employee\n",
    "insert into Employee (employee_id, name, experience_years) values ('1', 'Khaled', '3')\n",
    "insert into Employee (employee_id, name, experience_years) values ('2', 'Ali', '2')\n",
    "insert into Employee (employee_id, name, experience_years) values ('3', 'John', '1')\n",
    "insert into Employee (employee_id, name, experience_years) values ('4', 'Doe', '2')\n",
    "\n",
    "-- ANSWER"
   ]
  }
 ],
 "metadata": {
  "language_info": {
   "name": "python"
  },
  "orig_nbformat": 4
 },
 "nbformat": 4,
 "nbformat_minor": 2
}
