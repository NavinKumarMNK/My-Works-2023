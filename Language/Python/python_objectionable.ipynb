{
 "cells": [
  {
   "attachments": {},
   "cell_type": "markdown",
   "metadata": {},
   "source": [
    "### **PyData : Objectinable Content**\n",
    "- https://www.youtube.com/watch?v=1SHi1kriJI4"
   ]
  },
  {
   "attachments": {},
   "cell_type": "markdown",
   "metadata": {},
   "source": [
    "##### **General Types**"
   ]
  },
  {
   "cell_type": "code",
   "execution_count": 3,
   "metadata": {},
   "outputs": [
    {
     "name": "stdout",
     "output_type": "stream",
     "text": [
      "Type: resisitor \n",
      "Number: 10-234-2313 \n",
      "Manufacturer: honhai \n",
      "Resistance: 10\n"
     ]
    }
   ],
   "source": [
    "#Tuples\n",
    "type_, number, manufacturer, resistance = (\"resisitor\", '10-234-2313', 'honhai', 10)\n",
    "print(f\"Type: {type_} \\nNumber: {number} \\nManufacturer: {manufacturer} \\nResistance: {resistance}\")"
   ]
  },
  {
   "cell_type": "code",
   "execution_count": 4,
   "metadata": {},
   "outputs": [
    {
     "name": "stdout",
     "output_type": "stream",
     "text": [
      "Type: resistor \n",
      "Number: 10-234-2313 \n",
      "Manufacturer: honhai \n",
      "Resistance: 10\n"
     ]
    }
   ],
   "source": [
    "# Dict\n",
    "component = {\n",
    "    \"type\": \"resistor\",\n",
    "    \"number\": \"10-234-2313\",\n",
    "    \"manufacturer\": \"honhai\",\n",
    "    \"resistance\": 10\n",
    "}\n",
    "print(f\"Type: {component['type']} \\nNumber: {component['number']} \\nManufacturer: {component['manufacturer']} \\nResistance: {component['resistance']}\")"
   ]
  },
  {
   "cell_type": "code",
   "execution_count": 5,
   "metadata": {},
   "outputs": [
    {
     "name": "stdout",
     "output_type": "stream",
     "text": [
      "Type: resistor \n",
      "Number: 10-234-2313 \n",
      "Manufacturer: honhai \n",
      "Resistance: 10\n"
     ]
    }
   ],
   "source": [
    "class attrdict(dict):\n",
    "    __getattr__ = dict.__getitem__\n",
    "    __setattr__ = dict.__setitem__\n",
    "    __delattr__ = dict.__delitem__\n",
    "\n",
    "component = attrdict({\n",
    "    \"type\": \"resistor\",\n",
    "    \"number\": \"10-234-2313\",\n",
    "    \"manufacturer\": \"honhai\",\n",
    "    \"resistance\": 10\n",
    "})\n",
    "\n",
    "print(f\"Type: {component.type} \\nNumber: {component.number} \\nManufacturer: {component.manufacturer} \\nResistance: {component.resistance}\")"
   ]
  },
  {
   "cell_type": "code",
   "execution_count": 18,
   "metadata": {},
   "outputs": [
    {
     "name": "stdout",
     "output_type": "stream",
     "text": [
      "r.__dict__ = {'number': '10-234-2313', 'manufacturer': 'honhai', 'resistance': 10}\n"
     ]
    }
   ],
   "source": [
    "class Resistor:\n",
    "    def __init__(self, number, manugacturer, resistance):\n",
    "        self.number = number\n",
    "        self.manufacturer = manugacturer\n",
    "        self.resistance = resistance\n",
    "    \n",
    "r = Resistor(\"10-234-2313\", \"honhai\", 10)\n",
    "print(f'{r.__dict__ = }')\n"
   ]
  },
  {
   "cell_type": "code",
   "execution_count": 19,
   "metadata": {},
   "outputs": [
    {
     "name": "stdout",
     "output_type": "stream",
     "text": [
      "getsizeof(r) = 48\n",
      "getsizeof(r.__dict__) = 104\n",
      "getsizeof(Resistor(None, None, None)) = 48\n",
      "after.compare_to(before, \"lineno\") = [<StatisticDiff traceback=<Traceback (<Frame filename='/tmp/ipykernel_187825/1104891824.py' lineno=2>,)> size=168 (-1708) count=1 (-8)>, <StatisticDiff traceback=<Traceback (<Frame filename='/home/mnk/python3/lib/python3.9/tracemalloc.py' lineno=558>,)> size=1288 (+1088) count=22 (+19)>, <StatisticDiff traceback=<Traceback (<Frame filename='/home/mnk/python3/lib/python3.9/codeop.py' lineno=143>,)> size=1756 (-969) count=24 (-12)>, <StatisticDiff traceback=<Traceback (<Frame filename='/home/mnk/python3/lib/python3.9/site-packages/IPython/core/interactiveshell.py' lineno=3457>,)> size=1072 (-600) count=5 (-4)>, <StatisticDiff traceback=<Traceback (<Frame filename='/tmp/ipykernel_187825/3562602075.py' lineno=9>,)> size=480 (+480) count=2 (+2)>, <StatisticDiff traceback=<Traceback (<Frame filename='/tmp/ipykernel_187825/3562602075.py' lineno=4>,)> size=91 (-432) count=1 (-1)>, <StatisticDiff traceback=<Traceback (<Frame filename='/tmp/ipykernel_187825/1104891824.py' lineno=9>,)> size=0 (-432) count=0 (-1)>, <StatisticDiff traceback=<Traceback (<Frame filename='/tmp/ipykernel_187825/3562602075.py' lineno=10>,)> size=424 (+424) count=1 (+1)>, <StatisticDiff traceback=<Traceback (<Frame filename='/tmp/ipykernel_187825/3562602075.py' lineno=8>,)> size=0 (-424) count=0 (-1)>, <StatisticDiff traceback=<Traceback (<Frame filename='/home/mnk/python3/lib/python3.9/site-packages/IPython/core/async_helpers.py' lineno=164>,)> size=138 (-168) count=2 (-3)>, <StatisticDiff traceback=<Traceback (<Frame filename='/tmp/ipykernel_187825/2615862224.py' lineno=16>,)> size=0 (-150) count=0 (-2)>, <StatisticDiff traceback=<Traceback (<Frame filename='/tmp/ipykernel_187825/1104891824.py' lineno=4>,)> size=0 (-136) count=0 (-1)>, <StatisticDiff traceback=<Traceback (<Frame filename='/home/mnk/python3/lib/python3.9/site-packages/IPython/core/compilerop.py' lineno=101>,)> size=16874 (-133) count=296 (-2)>, <StatisticDiff traceback=<Traceback (<Frame filename='/tmp/ipykernel_187825/1104891824.py' lineno=3>,)> size=0 (-120) count=0 (-2)>, <StatisticDiff traceback=<Traceback (<Frame filename='/home/mnk/python3/lib/python3.9/tracemalloc.py' lineno=423>,)> size=712 (+112) count=7 (+2)>, <StatisticDiff traceback=<Traceback (<Frame filename='/home/mnk/python3/lib/python3.9/site-packages/ipykernel/iostream.py' lineno=230>,)> size=744 (-96) count=5 (-2)>, <StatisticDiff traceback=<Traceback (<Frame filename='/home/mnk/python3/lib/python3.9/tracemalloc.py' lineno=315>,)> size=144 (+64) count=3 (+1)>, <StatisticDiff traceback=<Traceback (<Frame filename='/home/mnk/python3/lib/python3.9/site-packages/IPython/core/interactiveshell.py' lineno=321>,)> size=64 (-64) count=1 (-1)>, <StatisticDiff traceback=<Traceback (<Frame filename='/tmp/ipykernel_187825/4250255352.py' lineno=3>,)> size=40 (-64) count=1 (-1)>, <StatisticDiff traceback=<Traceback (<Frame filename='/home/mnk/python3/lib/python3.9/site-packages/IPython/core/hooks.py' lineno=113>,)> size=0 (-64) count=0 (-1)>, <StatisticDiff traceback=<Traceback (<Frame filename='/home/mnk/python3/lib/python3.9/tracemalloc.py' lineno=498>,)> size=480 (-48) count=2 (-1)>, <StatisticDiff traceback=<Traceback (<Frame filename='/home/mnk/python3/lib/python3.9/site-packages/IPython/core/interactiveshell.py' lineno=3053>,)> size=144 (-48) count=3 (-1)>, <StatisticDiff traceback=<Traceback (<Frame filename='/home/mnk/python3/lib/python3.9/site-packages/IPython/core/interactiveshell.py' lineno=3051>,)> size=144 (-48) count=3 (-1)>, <StatisticDiff traceback=<Traceback (<Frame filename='/home/mnk/python3/lib/python3.9/tracemalloc.py' lineno=313>,)> size=48 (+48) count=1 (+1)>, <StatisticDiff traceback=<Traceback (<Frame filename='/home/mnk/python3/lib/python3.9/tracemalloc.py' lineno=193>,)> size=48 (-48) count=1 (-1)>, <StatisticDiff traceback=<Traceback (<Frame filename='/tmp/ipykernel_187825/4250255352.py' lineno=7>,)> size=0 (-48) count=0 (-1)>, <StatisticDiff traceback=<Traceback (<Frame filename='/home/mnk/python3/lib/python3.9/tracemalloc.py' lineno=501>,)> size=0 (-48) count=0 (-1)>, <StatisticDiff traceback=<Traceback (<Frame filename='/home/mnk/python3/lib/python3.9/enum.py' lineno=680>,)> size=0 (-48) count=0 (-1)>, <StatisticDiff traceback=<Traceback (<Frame filename='/home/mnk/python3/lib/python3.9/site-packages/IPython/core/interactiveshell.py' lineno=296>,)> size=184 (-40) count=4 (-1)>, <StatisticDiff traceback=<Traceback (<Frame filename='/home/mnk/python3/lib/python3.9/linecache.py' lineno=137>,)> size=344579 (+0) count=3222 (+0)>, <StatisticDiff traceback=<Traceback (<Frame filename='/home/mnk/python3/lib/python3.9/posixpath.py' lineno=369>,)> size=139760 (+0) count=1156 (+0)>, <StatisticDiff traceback=<Traceback (<Frame filename='/home/mnk/python3/lib/python3.9/inspect.py' lineno=754>,)> size=36896 (+0) count=1 (+0)>, <StatisticDiff traceback=<Traceback (<Frame filename='/home/mnk/python3/lib/python3.9/inspect.py' lineno=751>,)> size=36896 (+0) count=1 (+0)>, <StatisticDiff traceback=<Traceback (<Frame filename='/home/mnk/python3/lib/python3.9/site-packages/IPython/core/compilerop.py' lineno=159>,)> size=5510 (+0) count=66 (+0)>, <StatisticDiff traceback=<Traceback (<Frame filename='/home/mnk/python3/lib/python3.9/json/decoder.py' lineno=353>,)> size=4370 (+0) count=28 (+0)>, <StatisticDiff traceback=<Traceback (<Frame filename='/home/mnk/python3/lib/python3.9/site-packages/IPython/core/history.py' lineno=709>,)> size=2672 (+0) count=6 (+0)>, <StatisticDiff traceback=<Traceback (<Frame filename='/home/mnk/python3/lib/python3.9/site-packages/jupyter_client/session.py' lineno=1041>,)> size=2317 (+0) count=17 (+0)>, <StatisticDiff traceback=<Traceback (<Frame filename='/home/mnk/python3/lib/python3.9/site-packages/jupyter_client/session.py' lineno=99>,)> size=1694 (+0) count=8 (+0)>, <StatisticDiff traceback=<Traceback (<Frame filename='/tmp/ipykernel_187825/4250255352.py' lineno=1>,)> size=1692 (+0) count=8 (+0)>, <StatisticDiff traceback=<Traceback (<Frame filename='/home/mnk/python3/lib/python3.9/sre_compile.py' lineno=804>,)> size=1472 (+0) count=5 (+0)>, <StatisticDiff traceback=<Traceback (<Frame filename='/home/mnk/python3/lib/python3.9/tracemalloc.py' lineno=229>,)> size=1296 (+0) count=3 (+0)>, <StatisticDiff traceback=<Traceback (<Frame filename='/home/mnk/python3/lib/python3.9/site-packages/IPython/core/history.py' lineno=710>,)> size=1288 (+0) count=3 (+0)>, <StatisticDiff traceback=<Traceback (<Frame filename='/home/mnk/python3/lib/python3.9/tracemalloc.py' lineno=547>,)> size=1280 (+0) count=3 (+0)>, <StatisticDiff traceback=<Traceback (<Frame filename='/home/mnk/python3/lib/python3.9/site-packages/IPython/core/ultratb.py' lineno=1366>,)> size=1112 (+0) count=1 (+0)>, <StatisticDiff traceback=<Traceback (<Frame filename='/home/mnk/python3/lib/python3.9/site-packages/IPython/core/compilerop.py' lineno=188>,)> size=1112 (+0) count=1 (+0)>, <StatisticDiff traceback=<Traceback (<Frame filename='/home/mnk/python3/lib/python3.9/site-packages/zmq/sugar/socket.py' lineno=730>,)> size=1056 (+0) count=6 (+0)>, <StatisticDiff traceback=<Traceback (<Frame filename='/home/mnk/python3/lib/python3.9/site-packages/traitlets/traitlets.py' lineno=621>,)> size=1042 (+0) count=15 (+0)>, <StatisticDiff traceback=<Traceback (<Frame filename='/home/mnk/python3/lib/python3.9/site-packages/IPython/core/history.py' lineno=763>,)> size=1016 (+0) count=13 (+0)>, <StatisticDiff traceback=<Traceback (<Frame filename='/home/mnk/python3/lib/python3.9/inspect.py' lineno=2266>,)> size=1008 (+0) count=6 (+0)>, <StatisticDiff traceback=<Traceback (<Frame filename='/home/mnk/python3/lib/python3.9/site-packages/IPython/core/interactiveshell.py' lineno=3230>,)> size=988 (+0) count=2 (+0)>, <StatisticDiff traceback=<Traceback (<Frame filename='/home/mnk/python3/lib/python3.9/site-packages/IPython/core/ultratb.py' lineno=281>,)> size=976 (+0) count=2 (+0)>, <StatisticDiff traceback=<Traceback (<Frame filename='/home/mnk/python3/lib/python3.9/tracemalloc.py' lineno=226>,)> size=848 (+0) count=2 (+0)>, <StatisticDiff traceback=<Traceback (<Frame filename='/home/mnk/python3/lib/python3.9/site-packages/IPython/core/ultratb.py' lineno=835>,)> size=848 (+0) count=1 (+0)>, <StatisticDiff traceback=<Traceback (<Frame filename='/home/mnk/python3/lib/python3.9/sre_parse.py' lineno=199>,)> size=840 (+0) count=1 (+0)>, <StatisticDiff traceback=<Traceback (<Frame filename='/home/mnk/python3/lib/python3.9/sre_compile.py' lineno=501>,)> size=840 (+0) count=1 (+0)>, <StatisticDiff traceback=<Traceback (<Frame filename='/home/mnk/python3/lib/python3.9/site-packages/IPython/core/ultratb.py' lineno=170>,)> size=840 (+0) count=1 (+0)>, <StatisticDiff traceback=<Traceback (<Frame filename='/home/mnk/python3/lib/python3.9/site-packages/traitlets/traitlets.py' lineno=1245>,)> size=833 (+0) count=12 (+0)>, <StatisticDiff traceback=<Traceback (<Frame filename='/home/mnk/python3/lib/python3.9/tracemalloc.py' lineno=173>,)> size=816 (+0) count=2 (+0)>, <StatisticDiff traceback=<Traceback (<Frame filename='/home/mnk/python3/lib/python3.9/asyncio/events.py' lineno=80>,)> size=776 (+0) count=6 (+0)>, <StatisticDiff traceback=<Traceback (<Frame filename='/home/mnk/python3/lib/python3.9/site-packages/zmq/sugar/socket.py' lineno=675>,)> size=736 (+0) count=2 (+0)>, <StatisticDiff traceback=<Traceback (<Frame filename='/home/mnk/python3/lib/python3.9/sre_compile.py' lineno=164>,)> size=672 (+0) count=1 (+0)>, <StatisticDiff traceback=<Traceback (<Frame filename='/home/mnk/python3/lib/python3.9/inspect.py' lineno=1544>,)> size=672 (+0) count=1 (+0)>, <StatisticDiff traceback=<Traceback (<Frame filename='/home/mnk/python3/lib/python3.9/inspect.py' lineno=1515>,)> size=672 (+0) count=1 (+0)>, <StatisticDiff traceback=<Traceback (<Frame filename='/home/mnk/python3/lib/python3.9/inspect.py' lineno=738>,)> size=672 (+0) count=1 (+0)>, <StatisticDiff traceback=<Traceback (<Frame filename='/home/mnk/python3/lib/python3.9/site-packages/IPython/core/ultratb.py' lineno=336>,)> size=600 (+0) count=1 (+0)>, <StatisticDiff traceback=<Traceback (<Frame filename='/home/mnk/python3/lib/python3.9/site-packages/IPython/core/ultratb.py' lineno=248>,)> size=600 (+0) count=1 (+0)>, <StatisticDiff traceback=<Traceback (<Frame filename='/home/mnk/python3/lib/python3.9/inspect.py' lineno=655>,)> size=579 (+0) count=2 (+0)>, <StatisticDiff traceback=<Traceback (<Frame filename='/home/mnk/python3/lib/python3.9/tracemalloc.py' lineno=545>,)> size=576 (+0) count=1 (+0)>, <StatisticDiff traceback=<Traceback (<Frame filename='/home/mnk/python3/lib/python3.9/site-packages/IPython/core/ultratb.py' lineno=1267>,)> size=576 (+0) count=1 (+0)>, <StatisticDiff traceback=<Traceback (<Frame filename='/home/mnk/python3/lib/python3.9/site-packages/IPython/core/ultratb.py' lineno=1124>,)> size=576 (+0) count=1 (+0)>, <StatisticDiff traceback=<Traceback (<Frame filename='/home/mnk/python3/lib/python3.9/sre_parse.py' lineno=841>,)> size=552 (+0) count=1 (+0)>, <StatisticDiff traceback=<Traceback (<Frame filename='/home/mnk/python3/lib/python3.9/site-packages/zmq/eventloop/zmqstream.py' lineno=606>,)> size=544 (+0) count=2 (+0)>, <StatisticDiff traceback=<Traceback (<Frame filename='/home/mnk/python3/lib/python3.9/site-packages/IPython/utils/PyColorize.py' lineno=331>,)> size=544 (+0) count=1 (+0)>, <StatisticDiff traceback=<Traceback (<Frame filename='/home/mnk/python3/lib/python3.9/site-packages/IPython/core/ultratb.py' lineno=1078>,)> size=544 (+0) count=1 (+0)>, <StatisticDiff traceback=<Traceback (<Frame filename='/home/mnk/python3/lib/python3.9/site-packages/ipykernel/iostream.py' lineno=219>,)> size=536 (+0) count=7 (+0)>, <StatisticDiff traceback=<Traceback (<Frame filename='/home/mnk/python3/lib/python3.9/threading.py' lineno=581>,)> size=536 (+0) count=1 (+0)>, <StatisticDiff traceback=<Traceback (<Frame filename='/home/mnk/python3/lib/python3.9/site-packages/IPython/core/interactiveshell.py' lineno=3474>,)> size=536 (+0) count=1 (+0)>, <StatisticDiff traceback=<Traceback (<Frame filename='/home/mnk/python3/lib/python3.9/inspect.py' lineno=1505>,)> size=536 (+0) count=1 (+0)>, <StatisticDiff traceback=<Traceback (<Frame filename='/home/mnk/python3/lib/python3.9/site-packages/ipykernel/iostream.py' lineno=210>,)> size=528 (+0) count=1 (+0)>, <StatisticDiff traceback=<Traceback (<Frame filename='/home/mnk/python3/lib/python3.9/site-packages/IPython/core/ultratb.py' lineno=1084>,)> size=528 (+0) count=1 (+0)>, <StatisticDiff traceback=<Traceback (<Frame filename='/home/mnk/python3/lib/python3.9/tracemalloc.py' lineno=560>,)> size=520 (+0) count=3 (+0)>, <StatisticDiff traceback=<Traceback (<Frame filename='/home/mnk/python3/lib/python3.9/inspect.py' lineno=1543>,)> size=512 (+0) count=1 (+0)>, <StatisticDiff traceback=<Traceback (<Frame filename='/home/mnk/python3/lib/python3.9/site-packages/ipykernel/compiler.py' lineno=87>,)> size=504 (+0) count=6 (+0)>, <StatisticDiff traceback=<Traceback (<Frame filename='/home/mnk/python3/lib/python3.9/site-packages/IPython/core/ultratb.py' lineno=1367>,)> size=504 (+0) count=1 (+0)>, <StatisticDiff traceback=<Traceback (<Frame filename='/home/mnk/python3/lib/python3.9/site-packages/IPython/core/ultratb.py' lineno=1082>,)> size=504 (+0) count=1 (+0)>, <StatisticDiff traceback=<Traceback (<Frame filename='/home/mnk/python3/lib/python3.9/tracemalloc.py' lineno=546>,)> size=496 (+0) count=1 (+0)>, <StatisticDiff traceback=<Traceback (<Frame filename='/home/mnk/python3/lib/python3.9/site-packages/IPython/core/ultratb.py' lineno=1086>,)> size=496 (+0) count=1 (+0)>, <StatisticDiff traceback=<Traceback (<Frame filename='/home/mnk/python3/lib/python3.9/site-packages/IPython/core/interactiveshell.py' lineno=2079>,)> size=496 (+0) count=1 (+0)>, <StatisticDiff traceback=<Traceback (<Frame filename='/home/mnk/python3/lib/python3.9/inspect.py' lineno=1230>,)> size=496 (+0) count=1 (+0)>, <StatisticDiff traceback=<Traceback (<Frame filename='/home/mnk/python3/lib/python3.9/posixpath.py' lineno=397>,)> size=492 (+0) count=2 (+0)>, <StatisticDiff traceback=<Traceback (<Frame filename='/home/mnk/python3/lib/python3.9/site-packages/IPython/utils/PyColorize.py' lineno=266>,)> size=488 (+0) count=1 (+0)>, <StatisticDiff traceback=<Traceback (<Frame filename='/home/mnk/python3/lib/python3.9/site-packages/traitlets/config/configurable.py' lineno=143>,)> size=480 (+0) count=1 (+0)>, <StatisticDiff traceback=<Traceback (<Frame filename='/home/mnk/python3/lib/python3.9/site-packages/tornado/platform/asyncio.py' lineno=189>,)> size=480 (+0) count=1 (+0)>, <StatisticDiff traceback=<Traceback (<Frame filename='/home/mnk/python3/lib/python3.9/site-packages/jupyter_client/session.py' lineno=1063>,)> size=480 (+0) count=1 (+0)>, <StatisticDiff traceback=<Traceback (<Frame filename='/home/mnk/python3/lib/python3.9/site-packages/IPython/core/ultratb.py' lineno=1101>,)> size=480 (+0) count=1 (+0)>, <StatisticDiff traceback=<Traceback (<Frame filename='/home/mnk/python3/lib/python3.9/site-packages/IPython/core/ultratb.py' lineno=1079>,)> size=480 (+0) count=1 (+0)>, <StatisticDiff traceback=<Traceback (<Frame filename='/home/mnk/python3/lib/python3.9/site-packages/IPython/core/ultratb.py' lineno=381>,)> size=480 (+0) count=1 (+0)>, <StatisticDiff traceback=<Traceback (<Frame filename='/home/mnk/python3/lib/python3.9/inspect.py' lineno=693>,)> size=477 (+0) count=2 (+0)>, <StatisticDiff traceback=<Traceback (<Frame filename='/tmp/ipykernel_187825/1097958091.py' lineno=12>,)> size=472 (+0) count=1 (+0)>, <StatisticDiff traceback=<Traceback (<Frame filename='/home/mnk/python3/lib/python3.9/site-packages/IPython/core/history.py' lineno=829>,)> size=472 (+0) count=1 (+0)>, <StatisticDiff traceback=<Traceback (<Frame filename='/home/mnk/python3/lib/python3.9/inspect.py' lineno=1231>,)> size=472 (+0) count=1 (+0)>, <StatisticDiff traceback=<Traceback (<Frame filename='/tmp/ipykernel_187825/1097958091.py' lineno=13>,)> size=456 (+0) count=1 (+0)>, <StatisticDiff traceback=<Traceback (<Frame filename='/home/mnk/python3/lib/python3.9/site-packages/IPython/core/ultratb.py' lineno=890>,)> size=456 (+0) count=1 (+0)>, <StatisticDiff traceback=<Traceback (<Frame filename='/home/mnk/python3/lib/python3.9/inspect.py' lineno=1092>,)> size=456 (+0) count=1 (+0)>, <StatisticDiff traceback=<Traceback (<Frame filename='/home/mnk/python3/lib/python3.9/tracemalloc.py' lineno=135>,)> size=448 (+0) count=1 (+0)>, <StatisticDiff traceback=<Traceback (<Frame filename='/home/mnk/python3/lib/python3.9/tokenize.py' lineno=450>,)> size=448 (+0) count=1 (+0)>, <StatisticDiff traceback=<Traceback (<Frame filename='/home/mnk/python3/lib/python3.9/site-packages/IPython/utils/data.py' lineno=23>,)> size=448 (+0) count=1 (+0)>, <StatisticDiff traceback=<Traceback (<Frame filename='/tmp/ipykernel_187825/1097958091.py' lineno=10>,)> size=440 (+0) count=1 (+0)>, <StatisticDiff traceback=<Traceback (<Frame filename='/home/mnk/python3/lib/python3.9/tracemalloc.py' lineno=106>,)> size=440 (+0) count=1 (+0)>, <StatisticDiff traceback=<Traceback (<Frame filename='/home/mnk/python3/lib/python3.9/site-packages/IPython/core/ultratb.py' lineno=986>,)> size=440 (+0) count=1 (+0)>, <StatisticDiff traceback=<Traceback (<Frame filename='/home/mnk/python3/lib/python3.9/inspect.py' lineno=703>,)> size=440 (+0) count=1 (+0)>, <StatisticDiff traceback=<Traceback (<Frame filename='/home/mnk/python3/lib/python3.9/inspect.py' lineno=700>,)> size=440 (+0) count=1 (+0)>, <StatisticDiff traceback=<Traceback (<Frame filename='/home/mnk/python3/lib/python3.9/inspect.py' lineno=697>,)> size=440 (+0) count=1 (+0)>, <StatisticDiff traceback=<Traceback (<Frame filename='/home/mnk/python3/lib/python3.9/tracemalloc.py' lineno=505>,)> size=432 (+0) count=1 (+0)>, <StatisticDiff traceback=<Traceback (<Frame filename='/home/mnk/python3/lib/python3.9/tracemalloc.py' lineno=110>,)> size=432 (+0) count=1 (+0)>, <StatisticDiff traceback=<Traceback (<Frame filename='/home/mnk/python3/lib/python3.9/site-packages/IPython/core/ultratb.py' lineno=889>,)> size=432 (+0) count=1 (+0)>, <StatisticDiff traceback=<Traceback (<Frame filename='/home/mnk/python3/lib/python3.9/site-packages/IPython/core/ultratb.py' lineno=295>,)> size=432 (+0) count=1 (+0)>, <StatisticDiff traceback=<Traceback (<Frame filename='/home/mnk/python3/lib/python3.9/site-packages/IPython/core/ultratb.py' lineno=293>,)> size=432 (+0) count=1 (+0)>, <StatisticDiff traceback=<Traceback (<Frame filename='/home/mnk/python3/lib/python3.9/site-packages/IPython/core/ultratb.py' lineno=1129>,)> size=424 (+0) count=1 (+0)>, <StatisticDiff traceback=<Traceback (<Frame filename='/home/mnk/python3/lib/python3.9/site-packages/IPython/core/ultratb.py' lineno=988>,)> size=424 (+0) count=1 (+0)>, <StatisticDiff traceback=<Traceback (<Frame filename='/home/mnk/python3/lib/python3.9/tracemalloc.py' lineno=207>,)> size=416 (+0) count=1 (+0)>, <StatisticDiff traceback=<Traceback (<Frame filename='/home/mnk/python3/lib/python3.9/tracemalloc.py' lineno=98>,)> size=416 (+0) count=1 (+0)>, <StatisticDiff traceback=<Traceback (<Frame filename='/home/mnk/python3/lib/python3.9/site-packages/IPython/core/ultratb.py' lineno=343>,)> size=416 (+0) count=1 (+0)>, <StatisticDiff traceback=<Traceback (<Frame filename='/home/mnk/python3/lib/python3.9/site-packages/IPython/core/ultratb.py' lineno=218>,)> size=416 (+0) count=1 (+0)>, <StatisticDiff traceback=<Traceback (<Frame filename='/home/mnk/python3/lib/python3.9/site-packages/IPython/core/ultratb.py' lineno=216>,)> size=416 (+0) count=1 (+0)>, <StatisticDiff traceback=<Traceback (<Frame filename='/home/mnk/python3/lib/python3.9/inspect.py' lineno=1074>,)> size=416 (+0) count=1 (+0)>, <StatisticDiff traceback=<Traceback (<Frame filename='/home/mnk/python3/lib/python3.9/tracemalloc.py' lineno=123>,)> size=408 (+0) count=1 (+0)>, <StatisticDiff traceback=<Traceback (<Frame filename='/home/mnk/python3/lib/python3.9/traceback.py' lineno=72>,)> size=408 (+0) count=1 (+0)>, <StatisticDiff traceback=<Traceback (<Frame filename='/home/mnk/python3/lib/python3.9/site-packages/IPython/core/interactiveshell.py' lineno=2083>,)> size=400 (+0) count=1 (+0)>, <StatisticDiff traceback=<Traceback (<Frame filename='/home/mnk/python3/lib/python3.9/asyncio/base_events.py' lineno=771>,)> size=384 (+0) count=4 (+0)>, <StatisticDiff traceback=<Traceback (<Frame filename='/home/mnk/python3/lib/python3.9/site-packages/ipykernel/iostream.py' lineno=286>,)> size=368 (+0) count=8 (+0)>, <StatisticDiff traceback=<Traceback (<Frame filename='/home/mnk/python3/lib/python3.9/threading.py' lineno=247>,)> size=368 (+0) count=2 (+0)>, <StatisticDiff traceback=<Traceback (<Frame filename='/home/mnk/python3/lib/python3.9/site-packages/ipykernel/iostream.py' lineno=580>,)> size=344 (+0) count=5 (+0)>, <StatisticDiff traceback=<Traceback (<Frame filename='/home/mnk/python3/lib/python3.9/site-packages/tornado/queues.py' lineno=248>,)> size=320 (+0) count=2 (+0)>, <StatisticDiff traceback=<Traceback (<Frame filename='/home/mnk/python3/lib/python3.9/site-packages/IPython/core/history.py' lineno=732>,)> size=318 (+0) count=6 (+0)>, <StatisticDiff traceback=<Traceback (<Frame filename='/home/mnk/python3/lib/python3.9/site-packages/jupyter_client/session.py' lineno=1066>,)> size=296 (+0) count=1 (+0)>, <StatisticDiff traceback=<Traceback (<Frame filename='/home/mnk/python3/lib/python3.9/site-packages/jupyter_client/jsonutil.py' lineno=76>,)> size=296 (+0) count=1 (+0)>, <StatisticDiff traceback=<Traceback (<Frame filename='/home/mnk/python3/lib/python3.9/fnmatch.py' lineno=52>,)> size=288 (+0) count=4 (+0)>, <StatisticDiff traceback=<Traceback (<Frame filename='/home/mnk/python3/lib/python3.9/posixpath.py' lineno=373>,)> size=288 (+0) count=2 (+0)>, <StatisticDiff traceback=<Traceback (<Frame filename='/home/mnk/python3/lib/python3.9/site-packages/tornado/platform/asyncio.py' lineno=227>,)> size=256 (+0) count=4 (+0)>, <StatisticDiff traceback=<Traceback (<Frame filename='/home/mnk/python3/lib/python3.9/fnmatch.py' lineno=183>,)> size=252 (+0) count=4 (+0)>, <StatisticDiff traceback=<Traceback (<Frame filename='/home/mnk/python3/lib/python3.9/site-packages/IPython/core/interactiveshell.py' lineno=2935>,)> size=240 (+0) count=4 (+0)>, <StatisticDiff traceback=<Traceback (<Frame filename='/home/mnk/python3/lib/python3.9/site-packages/zmq/sugar/socket.py' lineno=727>,)> size=240 (+0) count=3 (+0)>, <StatisticDiff traceback=<Traceback (<Frame filename='/tmp/ipykernel_187825/3562602075.py' lineno=3>,)> size=226 (+0) count=3 (+0)>, <StatisticDiff traceback=<Traceback (<Frame filename='/home/mnk/python3/lib/python3.9/fnmatch.py' lineno=58>,)> size=224 (+0) count=4 (+0)>, <StatisticDiff traceback=<Traceback (<Frame filename='/home/mnk/python3/lib/python3.9/site-packages/IPython/core/completer.py' lineno=1178>,)> size=220 (+0) count=4 (+0)>, <StatisticDiff traceback=<Traceback (<Frame filename='/home/mnk/python3/lib/python3.9/posixpath.py' lineno=334>,)> size=218 (+0) count=2 (+0)>, <StatisticDiff traceback=<Traceback (<Frame filename='/home/mnk/python3/lib/python3.9/site-packages/IPython/core/interactiveshell.py' lineno=3371>,)> size=216 (+0) count=5 (+0)>, <StatisticDiff traceback=<Traceback (<Frame filename='/home/mnk/python3/lib/python3.9/site-packages/IPython/core/compilerop.py' lineno=156>,)> size=216 (+0) count=3 (+0)>, <StatisticDiff traceback=<Traceback (<Frame filename='/home/mnk/python3/lib/python3.9/asyncio/futures.py' lineno=413>,)> size=200 (+0) count=5 (+0)>, <StatisticDiff traceback=<Traceback (<Frame filename='/home/mnk/python3/lib/python3.9/site-packages/jupyter_client/session.py' lineno=685>,)> size=194 (+0) count=2 (+0)>, <StatisticDiff traceback=<Traceback (<Frame filename='/home/mnk/python3/lib/python3.9/concurrent/futures/_base.py' lineno=320>,)> size=192 (+0) count=3 (+0)>, <StatisticDiff traceback=<Traceback (<Frame filename='/home/mnk/python3/lib/python3.9/site-packages/jupyter_client/session.py' lineno=747>,)> size=192 (+0) count=2 (+0)>, <StatisticDiff traceback=<Traceback (<Frame filename='/home/mnk/python3/lib/python3.9/site-packages/IPython/core/history.py' lineno=717>,)> size=192 (+0) count=1 (+0)>, <StatisticDiff traceback=<Traceback (<Frame filename='/home/mnk/python3/lib/python3.9/site-packages/IPython/core/history.py' lineno=716>,)> size=192 (+0) count=1 (+0)>, <StatisticDiff traceback=<Traceback (<Frame filename='/home/mnk/python3/lib/python3.9/posixpath.py' lineno=164>,)> size=187 (+0) count=2 (+0)>, <StatisticDiff traceback=<Traceback (<Frame filename='/home/mnk/python3/lib/python3.9/site-packages/traitlets/traitlets.py' lineno=617>,)> size=185 (+0) count=2 (+0)>, <StatisticDiff traceback=<Traceback (<Frame filename='/home/mnk/python3/lib/python3.9/site-packages/ipykernel/iostream.py' lineno=458>,)> size=184 (+0) count=2 (+0)>, <StatisticDiff traceback=<Traceback (<Frame filename='/home/mnk/python3/lib/python3.9/site-packages/zmq/sugar/socket.py' lineno=618>,)> size=176 (+0) count=3 (+0)>, <StatisticDiff traceback=<Traceback (<Frame filename='/home/mnk/python3/lib/python3.9/site-packages/ipykernel/kernelbase.py' lineno=1086>,)> size=173 (+0) count=2 (+0)>, <StatisticDiff traceback=<Traceback (<Frame filename='/tmp/ipykernel_187825/2615862224.py' lineno=2>,)> size=168 (+0) count=1 (+0)>, <StatisticDiff traceback=<Traceback (<Frame filename='/tmp/ipykernel_187825/2237603961.py' lineno=2>,)> size=168 (+0) count=1 (+0)>, <StatisticDiff traceback=<Traceback (<Frame filename='/home/mnk/python3/lib/python3.9/site-packages/ipykernel/zmqshell.py' lineno=528>,)> size=160 (+0) count=3 (+0)>, <StatisticDiff traceback=<Traceback (<Frame filename='/home/mnk/python3/lib/python3.9/site-packages/ipykernel/kernelbase.py' lineno=712>,)> size=160 (+0) count=2 (+0)>, <StatisticDiff traceback=<Traceback (<Frame filename='/home/mnk/python3/lib/python3.9/site-packages/IPython/core/interactiveshell.py' lineno=3185>,)> size=160 (+0) count=2 (+0)>, <StatisticDiff traceback=<Traceback (<Frame filename='/home/mnk/python3/lib/python3.9/asyncio/base_events.py' lineno=429>,)> size=160 (+0) count=1 (+0)>, <StatisticDiff traceback=<Traceback (<Frame filename='/home/mnk/python3/lib/python3.9/inspect.py' lineno=715>,)> size=150 (+0) count=2 (+0)>, <StatisticDiff traceback=<Traceback (<Frame filename='/home/mnk/python3/lib/python3.9/asyncio/base_events.py' lineno=1889>,)> size=144 (+0) count=3 (+0)>, <StatisticDiff traceback=<Traceback (<Frame filename='/tmp/ipykernel_187825/4250255352.py' lineno=2>,)> size=136 (+0) count=1 (+0)>, <StatisticDiff traceback=<Traceback (<Frame filename='/home/mnk/python3/lib/python3.9/site-packages/ipykernel/kernelbase.py' lineno=535>,)> size=136 (+0) count=1 (+0)>, <StatisticDiff traceback=<Traceback (<Frame filename='/home/mnk/python3/lib/python3.9/site-packages/IPython/core/interactiveshell.py' lineno=3354>,)> size=136 (+0) count=1 (+0)>, <StatisticDiff traceback=<Traceback (<Frame filename='/home/mnk/python3/lib/python3.9/site-packages/IPython/core/interactiveshell.py' lineno=3066>,)> size=136 (+0) count=1 (+0)>, <StatisticDiff traceback=<Traceback (<Frame filename='/home/mnk/python3/lib/python3.9/asyncio/futures.py' lineno=391>,)> size=136 (+0) count=1 (+0)>, <StatisticDiff traceback=<Traceback (<Frame filename='/home/mnk/python3/lib/python3.9/asyncio/futures.py' lineno=384>,)> size=136 (+0) count=1 (+0)>, <StatisticDiff traceback=<Traceback (<Frame filename='/home/mnk/python3/lib/python3.9/asyncio/futures.py' lineno=378>,)> size=136 (+0) count=1 (+0)>, <StatisticDiff traceback=<Traceback (<Frame filename='/home/mnk/python3/lib/python3.9/site-packages/ipykernel/ipkernel.py' lineno=390>,)> size=128 (+0) count=2 (+0)>, <StatisticDiff traceback=<Traceback (<Frame filename='/home/mnk/python3/lib/python3.9/warnings.py' lineno=189>,)> size=128 (+0) count=1 (+0)>, <StatisticDiff traceback=<Traceback (<Frame filename='/home/mnk/python3/lib/python3.9/site-packages/IPython/core/interactiveshell.py' lineno=3364>,)> size=128 (+0) count=1 (+0)>, <StatisticDiff traceback=<Traceback (<Frame filename='/home/mnk/python3/lib/python3.9/site-packages/ipykernel/kernelbase.py' lineno=510>,)> size=120 (+0) count=1 (+0)>, <StatisticDiff traceback=<Traceback (<Frame filename='/home/mnk/python3/lib/python3.9/site-packages/ipykernel/kernelbase.py' lineno=499>,)> size=120 (+0) count=1 (+0)>, <StatisticDiff traceback=<Traceback (<Frame filename='/home/mnk/python3/lib/python3.9/site-packages/ipykernel/kernelbase.py' lineno=404>,)> size=120 (+0) count=1 (+0)>, <StatisticDiff traceback=<Traceback (<Frame filename='/home/mnk/python3/lib/python3.9/site-packages/IPython/core/interactiveshell.py' lineno=3377>,)> size=120 (+0) count=1 (+0)>, <StatisticDiff traceback=<Traceback (<Frame filename='/home/mnk/python3/lib/python3.9/site-packages/jupyter_client/jsonutil.py' lineno=55>,)> size=119 (+0) count=2 (+0)>, <StatisticDiff traceback=<Traceback (<Frame filename='/home/mnk/python3/lib/python3.9/genericpath.py' lineno=16>,)> size=118 (+0) count=2 (+0)>, <StatisticDiff traceback=<Traceback (<Frame filename='/home/mnk/python3/lib/python3.9/posixpath.py' lineno=388>,)> size=117 (+0) count=2 (+0)>, <StatisticDiff traceback=<Traceback (<Frame filename='/home/mnk/python3/lib/python3.9/site-packages/IPython/core/compilerop.py' lineno=157>,)> size=112 (+0) count=4 (+0)>, <StatisticDiff traceback=<Traceback (<Frame filename='/home/mnk/python3/lib/python3.9/site-packages/jupyter_client/session.py' lineno=974>,)> size=111 (+0) count=2 (+0)>, <StatisticDiff traceback=<Traceback (<Frame filename='/home/mnk/python3/lib/python3.9/threading.py' lineno=250>,)> size=96 (+0) count=1 (+0)>, <StatisticDiff traceback=<Traceback (<Frame filename='/home/mnk/python3/lib/python3.9/site-packages/IPython/core/completer.py' lineno=2089>,)> size=88 (+0) count=2 (+0)>, <StatisticDiff traceback=<Traceback (<Frame filename='/home/mnk/python3/lib/python3.9/site-packages/IPython/core/ultratb.py' lineno=304>,)> size=88 (+0) count=1 (+0)>, <StatisticDiff traceback=<Traceback (<Frame filename='/home/mnk/python3/lib/python3.9/inspect.py' lineno=1854>,)> size=88 (+0) count=1 (+0)>, <StatisticDiff traceback=<Traceback (<Frame filename='/home/mnk/python3/lib/python3.9/site-packages/IPython/core/inputtransformer2.py' lineno=108>,)> size=81 (+0) count=2 (+0)>, <StatisticDiff traceback=<Traceback (<Frame filename='/home/mnk/python3/lib/python3.9/threading.py' lineno=93>,)> size=80 (+0) count=2 (+0)>, <StatisticDiff traceback=<Traceback (<Frame filename='/home/mnk/python3/lib/python3.9/tracemalloc.py' lineno=129>,)> size=72 (+0) count=1 (+0)>, <StatisticDiff traceback=<Traceback (<Frame filename='/home/mnk/python3/lib/python3.9/threading.py' lineno=243>,)> size=72 (+0) count=1 (+0)>, <StatisticDiff traceback=<Traceback (<Frame filename='/home/mnk/python3/lib/python3.9/threading.py' lineno=239>,)> size=72 (+0) count=1 (+0)>, <StatisticDiff traceback=<Traceback (<Frame filename='/home/mnk/python3/lib/python3.9/threading.py' lineno=234>,)> size=72 (+0) count=1 (+0)>, <StatisticDiff traceback=<Traceback (<Frame filename='/home/mnk/python3/lib/python3.9/threading.py' lineno=233>,)> size=72 (+0) count=1 (+0)>, <StatisticDiff traceback=<Traceback (<Frame filename='/home/mnk/python3/lib/python3.9/site-packages/IPython/core/history.py' lineno=778>,)> size=72 (+0) count=1 (+0)>, <StatisticDiff traceback=<Traceback (<Frame filename='/home/mnk/python3/lib/python3.9/site-packages/IPython/core/history.py' lineno=764>,)> size=72 (+0) count=1 (+0)>, <StatisticDiff traceback=<Traceback (<Frame filename='/home/mnk/python3/lib/python3.9/site-packages/IPython/core/history.py' lineno=761>,)> size=72 (+0) count=1 (+0)>, <StatisticDiff traceback=<Traceback (<Frame filename='/home/mnk/python3/lib/python3.9/linecache.py' lineno=143>,)> size=72 (+0) count=1 (+0)>, <StatisticDiff traceback=<Traceback (<Frame filename='/home/mnk/python3/lib/python3.9/inspect.py' lineno=64>,)> size=70 (+0) count=2 (+0)>, <StatisticDiff traceback=<Traceback (<Frame filename='/home/mnk/python3/lib/python3.9/tokenize.py' lineno=396>,)> size=67 (+0) count=1 (+0)>, <StatisticDiff traceback=<Traceback (<Frame filename='/tmp/ipykernel_187825/3562602075.py' lineno=2>,)> size=66 (+0) count=1 (+0)>, <StatisticDiff traceback=<Traceback (<Frame filename='/home/mnk/python3/lib/python3.9/threading.py' lineno=231>,)> size=64 (+0) count=1 (+0)>, <StatisticDiff traceback=<Traceback (<Frame filename='/home/mnk/python3/lib/python3.9/site-packages/zmq/sugar/socket.py' lineno=731>,)> size=64 (+0) count=1 (+0)>, <StatisticDiff traceback=<Traceback (<Frame filename='/home/mnk/python3/lib/python3.9/site-packages/zmq/eventloop/zmqstream.py' lineno=556>,)> size=64 (+0) count=1 (+0)>, <StatisticDiff traceback=<Traceback (<Frame filename='/home/mnk/python3/lib/python3.9/site-packages/jupyter_client/session.py' lineno=1037>,)> size=64 (+0) count=1 (+0)>, <StatisticDiff traceback=<Traceback (<Frame filename='/home/mnk/python3/lib/python3.9/site-packages/jupyter_client/jsonutil.py' lineno=74>,)> size=64 (+0) count=1 (+0)>, <StatisticDiff traceback=<Traceback (<Frame filename='/home/mnk/python3/lib/python3.9/site-packages/ipykernel/ipkernel.py' lineno=317>,)> size=64 (+0) count=1 (+0)>, <StatisticDiff traceback=<Traceback (<Frame filename='/home/mnk/python3/lib/python3.9/site-packages/ipykernel/ipkernel.py' lineno=316>,)> size=64 (+0) count=1 (+0)>, <StatisticDiff traceback=<Traceback (<Frame filename='/home/mnk/python3/lib/python3.9/site-packages/ipykernel/ipkernel.py' lineno=314>,)> size=64 (+0) count=1 (+0)>, <StatisticDiff traceback=<Traceback (<Frame filename='/home/mnk/python3/lib/python3.9/site-packages/ipykernel/ipkernel.py' lineno=238>,)> size=64 (+0) count=1 (+0)>, <StatisticDiff traceback=<Traceback (<Frame filename='/home/mnk/python3/lib/python3.9/site-packages/ipykernel/ipkernel.py' lineno=235>,)> size=64 (+0) count=1 (+0)>, <StatisticDiff traceback=<Traceback (<Frame filename='/home/mnk/python3/lib/python3.9/site-packages/ipykernel/iostream.py' lineno=545>,)> size=64 (+0) count=1 (+0)>, <StatisticDiff traceback=<Traceback (<Frame filename='/home/mnk/python3/lib/python3.9/site-packages/decorator.py' lineno=232>,)> size=64 (+0) count=1 (+0)>, <StatisticDiff traceback=<Traceback (<Frame filename='/home/mnk/python3/lib/python3.9/site-packages/IPython/core/interactiveshell.py' lineno=3449>,)> size=64 (+0) count=1 (+0)>, <StatisticDiff traceback=<Traceback (<Frame filename='/home/mnk/python3/lib/python3.9/site-packages/IPython/core/interactiveshell.py' lineno=3441>,)> size=64 (+0) count=1 (+0)>, <StatisticDiff traceback=<Traceback (<Frame filename='/home/mnk/python3/lib/python3.9/site-packages/IPython/core/interactiveshell.py' lineno=3132>,)> size=64 (+0) count=1 (+0)>, <StatisticDiff traceback=<Traceback (<Frame filename='/home/mnk/python3/lib/python3.9/site-packages/IPython/core/interactiveshell.py' lineno=3127>,)> size=64 (+0) count=1 (+0)>, <StatisticDiff traceback=<Traceback (<Frame filename='/home/mnk/python3/lib/python3.9/site-packages/IPython/core/history.py' lineno=58>,)> size=64 (+0) count=1 (+0)>, <StatisticDiff traceback=<Traceback (<Frame filename='/home/mnk/python3/lib/python3.9/inspect.py' lineno=2673>,)> size=64 (+0) count=1 (+0)>, <StatisticDiff traceback=<Traceback (<Frame filename='/home/mnk/python3/lib/python3.9/site-packages/jupyter_client/jsonutil.py' lineno=112>,)> size=58 (+0) count=1 (+0)>, <StatisticDiff traceback=<Traceback (<Frame filename='/home/mnk/python3/lib/python3.9/site-packages/IPython/core/completer.py' lineno=2009>,)> size=57 (+0) count=1 (+0)>, <StatisticDiff traceback=<Traceback (<Frame filename='/home/mnk/python3/lib/python3.9/site-packages/IPython/core/completer.py' lineno=1264>,)> size=57 (+0) count=1 (+0)>, <StatisticDiff traceback=<Traceback (<Frame filename='/home/mnk/python3/lib/python3.9/warnings.py' lineno=463>,)> size=56 (+0) count=1 (+0)>, <StatisticDiff traceback=<Traceback (<Frame filename='/home/mnk/python3/lib/python3.9/site-packages/jupyter_client/session.py' lineno=1069>,)> size=56 (+0) count=1 (+0)>, <StatisticDiff traceback=<Traceback (<Frame filename='/home/mnk/python3/lib/python3.9/site-packages/jupyter_client/session.py' lineno=735>,)> size=56 (+0) count=1 (+0)>, <StatisticDiff traceback=<Traceback (<Frame filename='/home/mnk/python3/lib/python3.9/site-packages/IPython/core/interactiveshell.py' lineno=3362>,)> size=56 (+0) count=1 (+0)>, <StatisticDiff traceback=<Traceback (<Frame filename='/home/mnk/python3/lib/python3.9/site-packages/IPython/core/history.py' lineno=802>,)> size=56 (+0) count=1 (+0)>, <StatisticDiff traceback=<Traceback (<Frame filename='/home/mnk/python3/lib/python3.9/selectors.py' lineno=467>,)> size=56 (+0) count=1 (+0)>, <StatisticDiff traceback=<Traceback (<Frame filename='/home/mnk/python3/lib/python3.9/concurrent/futures/_base.py' lineno=325>,)> size=56 (+0) count=1 (+0)>, <StatisticDiff traceback=<Traceback (<Frame filename='/home/mnk/python3/lib/python3.9/concurrent/futures/_base.py' lineno=324>,)> size=56 (+0) count=1 (+0)>, <StatisticDiff traceback=<Traceback (<Frame filename='/home/mnk/python3/lib/python3.9/site-packages/zmq/sugar/attrsettr.py' lineno=44>,)> size=55 (+0) count=1 (+0)>, <StatisticDiff traceback=<Traceback (<Frame filename='/home/mnk/python3/lib/python3.9/site-packages/traitlets/traitlets.py' lineno=597>,)> size=51 (+0) count=2 (+0)>, <StatisticDiff traceback=<Traceback (<Frame filename='/home/mnk/python3/lib/python3.9/asyncio/base_events.py' lineno=1873>,)> size=48 (+0) count=2 (+0)>, <StatisticDiff traceback=<Traceback (<Frame filename='/home/mnk/python3/lib/python3.9/asyncio/base_events.py' lineno=701>,)> size=48 (+0) count=2 (+0)>, <StatisticDiff traceback=<Traceback (<Frame filename='/home/mnk/python3/lib/python3.9/site-packages/tornado/concurrent.py' lineno=184>,)> size=48 (+0) count=1 (+0)>, <StatisticDiff traceback=<Traceback (<Frame filename='/home/mnk/python3/lib/python3.9/site-packages/jupyter_client/session.py' lineno=203>,)> size=48 (+0) count=1 (+0)>, <StatisticDiff traceback=<Traceback (<Frame filename='/home/mnk/python3/lib/python3.9/site-packages/ipykernel/kernelbase.py' lineno=293>,)> size=48 (+0) count=1 (+0)>, <StatisticDiff traceback=<Traceback (<Frame filename='/home/mnk/python3/lib/python3.9/site-packages/ipykernel/iostream.py' lineno=118>,)> size=48 (+0) count=1 (+0)>, <StatisticDiff traceback=<Traceback (<Frame filename='/home/mnk/python3/lib/python3.9/site-packages/dateutil/parser/_parser.py' lineno=1195>,)> size=48 (+0) count=1 (+0)>, <StatisticDiff traceback=<Traceback (<Frame filename='/home/mnk/python3/lib/python3.9/site-packages/IPython/core/interactiveshell.py' lineno=3369>,)> size=48 (+0) count=1 (+0)>, <StatisticDiff traceback=<Traceback (<Frame filename='/home/mnk/python3/lib/python3.9/site-packages/IPython/core/history.py' lineno=762>,)> size=48 (+0) count=1 (+0)>, <StatisticDiff traceback=<Traceback (<Frame filename='/home/mnk/python3/lib/python3.9/concurrent/futures/_base.py' lineno=328>,)> size=48 (+0) count=1 (+0)>, <StatisticDiff traceback=<Traceback (<Frame filename='/home/mnk/python3/lib/python3.9/asyncio/selector_events.py' lineno=135>,)> size=48 (+0) count=1 (+0)>, <StatisticDiff traceback=<Traceback (<Frame filename='/home/mnk/python3/lib/python3.9/asyncio/base_futures.py' lineno=14>,)> size=43 (+0) count=2 (+0)>, <StatisticDiff traceback=<Traceback (<Frame filename='/home/mnk/python3/lib/python3.9/site-packages/ipykernel/iostream.py' lineno=555>,)> size=40 (+0) count=1 (+0)>, <StatisticDiff traceback=<Traceback (<Frame filename='/home/mnk/python3/lib/python3.9/posixpath.py' lineno=52>,)> size=37 (+0) count=2 (+0)>, <StatisticDiff traceback=<Traceback (<Frame filename='/home/mnk/python3/lib/python3.9/site-packages/jupyter_client/session.py' lineno=980>,)> size=32 (+0) count=1 (+0)>, <StatisticDiff traceback=<Traceback (<Frame filename='/home/mnk/python3/lib/python3.9/site-packages/IPython/core/history.py' lineno=720>,)> size=32 (+0) count=1 (+0)>, <StatisticDiff traceback=<Traceback (<Frame filename='/home/mnk/python3/lib/python3.9/selectors.py' lineno=481>,)> size=32 (+0) count=1 (+0)>, <StatisticDiff traceback=<Traceback (<Frame filename='/home/mnk/python3/lib/python3.9/concurrent/futures/_base.py' lineno=411>,)> size=32 (+0) count=1 (+0)>, <StatisticDiff traceback=<Traceback (<Frame filename='/home/mnk/python3/lib/python3.9/site-packages/jupyter_client/session.py' lineno=602>,)> size=28 (+0) count=1 (+0)>, <StatisticDiff traceback=<Traceback (<Frame filename='/home/mnk/python3/lib/python3.9/site-packages/ipykernel/iostream.py' lineno=508>,)> size=28 (+0) count=1 (+0)>, <StatisticDiff traceback=<Traceback (<Frame filename='/home/mnk/python3/lib/python3.9/site-packages/IPython/core/completer.py' lineno=1836>,)> size=28 (+0) count=1 (+0)>, <StatisticDiff traceback=<Traceback (<Frame filename='/home/mnk/python3/lib/python3.9/site-packages/IPython/core/completer.py' lineno=493>,)> size=28 (+0) count=1 (+0)>, <StatisticDiff traceback=<Traceback (<Frame filename='/home/mnk/python3/lib/python3.9/site-packages/IPython/core/compilerop.py' lineno=178>,)> size=28 (+0) count=1 (+0)>, <StatisticDiff traceback=<Traceback (<Frame filename='/home/mnk/python3/lib/python3.9/linecache.py' lineno=93>,)> size=28 (+0) count=1 (+0)>, <StatisticDiff traceback=<Traceback (<Frame filename='/home/mnk/python3/lib/python3.9/site-packages/IPython/core/compilerop.py' lineno=158>,)> size=24 (+0) count=1 (+0)>]\n",
      "/home/mnk/python3/lib/python3.9/tracemalloc.py:558: size=1288 B (+1088 B), count=22 (+19), average=59 B\n",
      "/tmp/ipykernel_187825/3562602075.py:9: size=480 B (+480 B), count=2 (+2), average=240 B\n",
      "/tmp/ipykernel_187825/3562602075.py:10: size=424 B (+424 B), count=1 (+1), average=424 B\n",
      "/home/mnk/python3/lib/python3.9/tracemalloc.py:423: size=712 B (+112 B), count=7 (+2), average=102 B\n",
      "/home/mnk/python3/lib/python3.9/tracemalloc.py:315: size=144 B (+64 B), count=3 (+1), average=48 B\n",
      "/home/mnk/python3/lib/python3.9/tracemalloc.py:313: size=48 B (+48 B), count=1 (+1), average=48 B\n"
     ]
    }
   ],
   "source": [
    "from sys import getsizeof\n",
    "print(f'{getsizeof(r) = }')\n",
    "print(f'{getsizeof(r.__dict__) = }')\n",
    "print(f'{getsizeof(Resistor(None, None, None)) = }')\n",
    "\n",
    "from tracemalloc import start, take_snapshot\n",
    "start()\n",
    "before = take_snapshot()\n",
    "r = Resistor(\"10-234-2313\", \"honhai\", 10)\n",
    "after = take_snapshot()\n",
    "print(f'{after.compare_to(before, \"lineno\") = }')\n",
    "\n",
    "for stat in (stat for stat in after.compare_to(before, \"lineno\") if stat.size_diff > 0):\n",
    "    print(stat)\n"
   ]
  },
  {
   "cell_type": "code",
   "execution_count": 20,
   "metadata": {},
   "outputs": [
    {
     "name": "stdout",
     "output_type": "stream",
     "text": [
      "'Resistor' object has no attribute '__dict__'\n",
      "getsizeof(r) = 56\n"
     ]
    }
   ],
   "source": [
    "# __slots__\n",
    "class Resistor:\n",
    "    __slots__ = [\"number\", \"manufacturer\", \"resistance\"]\n",
    "    def __init__(self, number, manugacturer, resistance):\n",
    "        self.number = number\n",
    "        self.manufacturer = manugacturer\n",
    "        self.resistance = resistance\n",
    "\n",
    "r = Resistor(\"10-234-2313\", \"honhai\", 10)\n",
    "try:\n",
    "    print(f'{r.__dict__ = }')\n",
    "except AttributeError as e:\n",
    "    print(e)\n",
    "\n",
    "from sys import getsizeof\n",
    "print(f'{getsizeof(r) = }')"
   ]
  },
  {
   "cell_type": "code",
   "execution_count": 27,
   "metadata": {},
   "outputs": [
    {
     "name": "stdout",
     "output_type": "stream",
     "text": [
      "r = Resistor(number='10-234-2313', manufacturer='honhai', resistance=10)\n",
      "r.resistance = 10\n",
      "r[2] = 10\n",
      "getsizeof(r) = 64\n"
     ]
    }
   ],
   "source": [
    "# Named Tuples \n",
    "from collections import namedtuple\n",
    "Resistor = namedtuple(\"Resistor\", [\"number\", \"manufacturer\", \"resistance\"])\n",
    "r = Resistor(\"10-234-2313\", \"honhai\", 10)\n",
    "print(f'{r = }')\n",
    "print(f'{r.resistance = }')\n",
    "print(f'{r[2] = }')\n",
    "\n",
    "from sys import getsizeof\n",
    "print(f'{getsizeof(r) = }')"
   ]
  },
  {
   "attachments": {},
   "cell_type": "markdown",
   "metadata": {},
   "source": [
    "##### **Numpy**"
   ]
  },
  {
   "cell_type": "code",
   "execution_count": 22,
   "metadata": {},
   "outputs": [
    {
     "name": "stdout",
     "output_type": "stream",
     "text": [
      "values = array([1, 2, 3])\n",
      "getsizeof(values) = 128\n"
     ]
    }
   ],
   "source": [
    "import numpy as np\n",
    "x, y, z = 1, 2, 3\n",
    "\n",
    "values = np.array([x, y, z])\n",
    "print(f'{values = }')\n",
    "print(f'{getsizeof(values) = }')"
   ]
  },
  {
   "attachments": {},
   "cell_type": "markdown",
   "metadata": {},
   "source": [
    "##### **Pandas**"
   ]
  },
  {
   "cell_type": "code",
   "execution_count": 23,
   "metadata": {},
   "outputs": [
    {
     "name": "stdout",
     "output_type": "stream",
     "text": [
      "p.components.resistance.mean() = 20.0\n",
      "p[\"10-234-2313\"].resistance = 10\n"
     ]
    }
   ],
   "source": [
    "import pandas as pd\n",
    "\n",
    "class Resistor:\n",
    "    def __init__(self, number, manugacturer, resistance):\n",
    "        self.number = number\n",
    "        self.manufacturer = manugacturer\n",
    "        self.resistance = resistance\n",
    "    \n",
    "class Product:\n",
    "    def __init__(self, *components):\n",
    "        self.components = pd.DataFrame([\n",
    "            [x.manufacturer, x.resistance]\n",
    "            for x in components\n",
    "        ], columns=[\"manufacturer\", \"resistance\"], index=[x.number for x in components])\n",
    "    \n",
    "    def __getitem__(self, key):\n",
    "        x = self.components.loc[key]\n",
    "        return Resistor(key, x.manufacturer, x.resistance)\n",
    "\n",
    "r1 = Resistor(\"10-234-2313\", \"honhai\", 10)\n",
    "r2 = Resistor(\"10-234-2314\", \"honhai\", 20)\n",
    "r3 = Resistor(\"10-234-2315\", \"honhai\", 30)\n",
    "\n",
    "p = Product(r1, r2, r3)\n",
    "print(f'{p.components.resistance.mean() = }')\n",
    "print(f'{p[\"10-234-2313\"].resistance = }')\n",
    "    "
   ]
  },
  {
   "attachments": {},
   "cell_type": "markdown",
   "metadata": {},
   "source": [
    "##### **__repr__**"
   ]
  },
  {
   "cell_type": "code",
   "execution_count": 29,
   "metadata": {},
   "outputs": [
    {
     "name": "stdout",
     "output_type": "stream",
     "text": [
      "r = Resistor(number='10-234-2313', manufacturer='honhai', resistance=10)\n"
     ]
    }
   ],
   "source": [
    "class Resistor:\n",
    "    def __init__(self, number, manugacturer, resistance):\n",
    "        self.number = number\n",
    "        self.manufacturer = manugacturer\n",
    "        self.resistance = resistance\n",
    "    \n",
    "    def __repr__(self):\n",
    "        return f'Resistor(number={self.number!r}, manufacturer={self.manufacturer!r}, resistance={self.resistance!r})'\n",
    "\n",
    "r = Resistor(\"10-234-2313\", \"honhai\", 10)\n",
    "print(f'{r = }')\n"
   ]
  },
  {
   "cell_type": "code",
   "execution_count": 31,
   "metadata": {},
   "outputs": [
    {
     "name": "stdout",
     "output_type": "stream",
     "text": [
      "p = Potentiometer('10-234-2313', 'honhai', 10)\n"
     ]
    }
   ],
   "source": [
    "class Resistor:\n",
    "    def __init__(self, number, manugacturer, resistance):\n",
    "        self.number = number\n",
    "        self.manufacturer = manugacturer\n",
    "        self.resistance = resistance\n",
    "    \n",
    "    def __repr__(self):\n",
    "        #return f'Resistor(number={self.number!r}, manufacturer={self.manufacturer!r}, resistance={self.resistance!r})'\n",
    "        return f'''{type(self).__name__}({self.number!r = }, {self.manufacturer!r = }, {self.resistance!r = })'''\n",
    "\n",
    "class Potentiometer(Resistor):\n",
    "    pass\n",
    "\n",
    "p = Potentiometer(\"10-234-2313\", \"honhai\", 10)\n",
    "print(f'{p = }')\n"
   ]
  },
  {
   "cell_type": "code",
   "execution_count": null,
   "metadata": {},
   "outputs": [],
   "source": []
  }
 ],
 "metadata": {
  "kernelspec": {
   "display_name": "base",
   "language": "python",
   "name": "python3"
  },
  "language_info": {
   "codemirror_mode": {
    "name": "ipython",
    "version": 3
   },
   "file_extension": ".py",
   "mimetype": "text/x-python",
   "name": "python",
   "nbconvert_exporter": "python",
   "pygments_lexer": "ipython3",
   "version": "3.9.13"
  },
  "orig_nbformat": 4
 },
 "nbformat": 4,
 "nbformat_minor": 2
}
